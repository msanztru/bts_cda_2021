{
 "cells": [
  {
   "cell_type": "markdown",
   "metadata": {
    "id": "akSKUO7KrJyS"
   },
   "source": [
    "\n",
    "![BTS](https://github.com/vfp1/bts-dsf-2020/raw/main/Logo-BTS.jpg)\n",
    "\n",
    "# Session 3: Regularization and Poly regression [NOT SOLVED]\n",
    "\n",
    "\n",
    "\n",
    "**Resources:**\n",
    "* Sklearn documentation"
   ]
  },
  {
   "cell_type": "markdown",
   "metadata": {
    "id": "MlyRX55NrjzZ"
   },
   "source": [
    "# Polynomial Regression"
   ]
  },
  {
   "cell_type": "markdown",
   "metadata": {
    "id": "FDWS0qGtrjzc"
   },
   "source": [
    "## Limitations of linear regression\n",
    "\n",
    "Linear regression requires the relation between the dependent variable and the independent variable to be linear. What if the distribution of the data was more complex as shown in the below figure? Can linear models be used to fit non-linear data? \n",
    "\n",
    "<img src=\"https://miro.medium.com/max/1280/1*ELey2wytlZvKYFLbLbhCoA.png\">\n",
    "\n",
    "How can we generate a curve that best captures this kind of data?\n",
    "\n",
    "To understand the need for polynomial regression, let’s generate some random dataset first."
   ]
  },
  {
   "cell_type": "code",
   "execution_count": null,
   "metadata": {
    "colab": {
     "base_uri": "https://localhost:8080/",
     "height": 265
    },
    "id": "cPhyDLP0rjzd",
    "outputId": "0ba6277f-7648-44d5-c2a6-005718fccec1"
   },
   "outputs": [
    {
     "data": {
      "image/png": "[encoded data removed]",
      "text/plain": [
       "<Figure size 432x288 with 1 Axes>"
      ]
     },
     "metadata": {
      "needs_background": "light",
      "tags": []
     },
     "output_type": "display_data"
    }
   ],
   "source": [
    "%matplotlib inline\n",
    "import numpy as np\n",
    "import matplotlib.pyplot as plt\n",
    "\n",
    "np.random.seed(0)\n",
    "x = 2 - 3 * np.random.normal(0, 1, 20)\n",
    "y = x - 2 * (x ** 2) + 0.5 * (x ** 3) + np.random.normal(-3, 3, 20)\n",
    "plt.scatter(x,y, s=10)\n",
    "plt.show()"
   ]
  },
  {
   "cell_type": "markdown",
   "metadata": {
    "id": "lo6Ni2borjzd"
   },
   "source": [
    "Now you should apply a linear model to this data, use the ```LinearRegression``` method from ```sklearn``` and plot the result. Remember that in order to use the ```.fit()``` method you need to add a new axis to x and y"
   ]
  },
  {
   "cell_type": "code",
   "execution_count": null,
   "metadata": {
    "colab": {
     "base_uri": "https://localhost:8080/",
     "height": 265
    },
    "id": "3x5jMmWgrjze",
    "outputId": "3f928f50-f8ff-4843-d3a8-936a328b4f3f"
   },
   "outputs": [
    {
     "data": {
      "image/png": "[encoded data removed]",
      "text/plain": [
       "<Figure size 432x288 with 1 Axes>"
      ]
     },
     "metadata": {
      "needs_background": "light",
      "tags": []
     },
     "output_type": "display_data"
    }
   ],
   "source": [
    "from sklearn.linear_model import LinearRegression\n",
    "\n",
    "np.random.seed(0)\n",
    "x = 2 - 3 * np.random.normal(0, 1, 20)\n",
    "y = x - 2 * (x ** 2) + 0.5 * (x ** 3) + np.random.normal(-3, 3, 20)\n",
    "\n",
    "# transforming the data to include another axis\n",
    "x = x[:, np.newaxis]\n",
    "y = y[:, np.newaxis]\n",
    "\n",
    "#PUT YOUR CODE HERE"
   ]
  },
  {
   "cell_type": "markdown",
   "metadata": {
    "id": "iqwNQqGxrjze"
   },
   "source": [
    "Does the linear model really capture the variability of the data? This is called *under-fitting*. This term is used when the model used to fit the data is too simple to really capture all the complexity of the data. To have a more quantitative measure of this under-fitting, compute the $R²$ and Root Mean Squared Error of the fit."
   ]
  },
  {
   "cell_type": "code",
   "execution_count": null,
   "metadata": {
    "colab": {
     "base_uri": "https://localhost:8080/"
    },
    "id": "KO64ekQ7rjzf",
    "outputId": "16320b0d-f90a-49bb-dcb8-543febd893ff"
   },
   "outputs": [
    {
     "name": "stdout",
     "output_type": "stream",
     "text": [
      "R2 for this prediction: 0.64\n",
      "RMSE for this prediction: 15.91\n"
     ]
    }
   ],
   "source": [
    "from sklearn.metrics import r2_score\n",
    "from sklearn.metrics import mean_squared_error as mse\n",
    "\n",
    "#PUT YOUR CODE HERE"
   ]
  },
  {
   "cell_type": "markdown",
   "metadata": {
    "id": "tcvnOANIrjzf"
   },
   "source": [
    "A pretty straight-forward way to add complexity to this model, is to add powers of the original features as new features. In this manner, the lineal model:\n",
    "\n",
    "$$y=\\theta_0+ \\theta_1x$$ \n",
    "\n",
    "derives to,\n",
    "\n",
    "$$y=\\theta_0+ \\theta_1x + \\theta_2x²$$ \n",
    "\n",
    "Now the beauty of this trick, is that you are still training a linear model. Which means you can still use the same algorithms to train it, but the curve that this will generate is actually quadratic."
   ]
  },
  {
   "cell_type": "markdown",
   "metadata": {
    "id": "FfXRs-Tdrjzg"
   },
   "source": [
    "To convert the original features into their higher order terms we will use the ```PolynomialFeatures``` class provided by ```scikit-learn```. And then we will use the same method to fit the curve and print the $R²$ and RMSE values, how do they compare to the previous case?. Do not plot the results just yet!"
   ]
  },
  {
   "cell_type": "code",
   "execution_count": null,
   "metadata": {
    "colab": {
     "base_uri": "https://localhost:8080/"
    },
    "id": "q_FrvYv6rjzg",
    "outputId": "ea6463c3-599e-4ac8-d73a-c47369b78581"
   },
   "outputs": [
    {
     "name": "stdout",
     "output_type": "stream",
     "text": [
      "RMSE for this prediction: 10.120437473614711\n",
      "R2 for this prediction: 0.8537647164420812\n"
     ]
    }
   ],
   "source": [
    "from sklearn.preprocessing import PolynomialFeatures\n",
    "import operator\n",
    "\n",
    "np.random.seed(0)\n",
    "x = 2 - 3 * np.random.normal(0, 1, 20)\n",
    "y = x - 2 * (x ** 2) + 0.5 * (x ** 3) + np.random.normal(-3, 3, 20)\n",
    "\n",
    "# transforming the data to include another axis\n",
    "x = x[:, np.newaxis]\n",
    "y = y[:, np.newaxis]\n",
    "\n",
    "#PUT YOUR CODE HERE\n",
    "x_poly = #PUT YOUR CODE HERE\n",
    "\n",
    "model = #PUT YOUR CODE HERE\n",
    "model.fit(#PUT PARAMETERS CODE HERE)\n",
    "    \n",
    "# COMPUTE PREDICTIONS\n",
    "y_poly_pred_2 = #PUT YOUR CODE HERE\n",
    "\n",
    "#PUT YOUR CODE HERE TO COMPUTE METRICS"
   ]
  },
  {
   "cell_type": "code",
   "execution_count": null,
   "metadata": {
    "colab": {
     "base_uri": "https://localhost:8080/"
    },
    "id": "9XxQfZQNrjzh",
    "outputId": "e4e3c6f0-4086-43fe-aaf7-16a21910bb93"
   },
   "outputs": [
    {
     "name": "stdout",
     "output_type": "stream",
     "text": [
      "10.838297976021563\n"
     ]
    },
    {
     "data": {
      "text/plain": [
       "array([[ 1.        , -3.29215704, 10.83829796],\n",
       "       [ 1.        ,  0.79952837,  0.63924562],\n",
       "       [ 1.        , -0.93621395,  0.87649656],\n",
       "       [ 1.        , -4.7226796 , 22.30370258],\n",
       "       [ 1.        , -3.60267397, 12.97925974],\n",
       "       [ 1.        ,  4.93183364, 24.32298305],\n",
       "       [ 1.        , -0.85026525,  0.722951  ],\n",
       "       [ 1.        ,  2.45407162,  6.02246754],\n",
       "       [ 1.        ,  2.30965656,  5.3345134 ],\n",
       "       [ 1.        ,  0.76820449,  0.59013814]])"
      ]
     },
     "execution_count": 5,
     "metadata": {
      "tags": []
     },
     "output_type": "execute_result"
    }
   ],
   "source": [
    "print(-3.29215704*-3.29215704) \n",
    "x_poly[0:10,]\n",
    "####### Notice in the third column we have the term x^2"
   ]
  },
  {
   "cell_type": "code",
   "execution_count": null,
   "metadata": {
    "colab": {
     "base_uri": "https://localhost:8080/",
     "height": 265
    },
    "id": "jW3WyqaWrjzh",
    "outputId": "98c38fc5-8f44-4d3a-868c-75bc3c885ba1"
   },
   "outputs": [
    {
     "data": {
      "image/png": "[encoded data removed]",
      "text/plain": [
       "<Figure size 432x288 with 1 Axes>"
      ]
     },
     "metadata": {
      "needs_background": "light",
      "tags": []
     },
     "output_type": "display_data"
    }
   ],
   "source": [
    "plt.scatter(x, y, s=10)\n",
    "# sort the values of x before line plot\n",
    "sort_axis = operator.itemgetter(0)\n",
    "sorted_zip = sorted(zip(x,y_poly_pred_2), key=sort_axis)\n",
    "x, y_poly_pred_2 = zip(*sorted_zip)\n",
    "plt.plot(x, y_poly_pred_2, color='m')\n",
    "plt.show()"
   ]
  },
  {
   "cell_type": "markdown",
   "metadata": {
    "id": "CUVdgIdXrjzh"
   },
   "source": [
    "Now try to see what happens if the we fit a polynomial of degree 3. What are the $R²$, and the RMSE? "
   ]
  },
  {
   "cell_type": "code",
   "execution_count": null,
   "metadata": {
    "colab": {
     "base_uri": "https://localhost:8080/"
    },
    "id": "ZMBXv4OBrjzi",
    "outputId": "f9f49339-ee01-4f5c-92e7-6c85d1b57f79"
   },
   "outputs": [
    {
     "name": "stdout",
     "output_type": "stream",
     "text": [
      "RMSE for this prediction: 3.449895507408725\n",
      "R2 for this prediction: 0.9830071790386679\n"
     ]
    }
   ],
   "source": [
    "from sklearn.preprocessing import PolynomialFeatures\n",
    "import operator\n",
    "\n",
    "np.random.seed(0)\n",
    "x = 2 - 3 * np.random.normal(0, 1, 20)\n",
    "y = x - 2 * (x ** 2) + 0.5 * (x ** 3) + np.random.normal(-3, 3, 20)\n",
    "\n",
    "# transforming the data to include another axis\n",
    "x = x[:, np.newaxis]\n",
    "y = y[:, np.newaxis]\n",
    "\n",
    "#PUT YOUR CODE HERE"
   ]
  },
  {
   "cell_type": "code",
   "execution_count": null,
   "metadata": {
    "colab": {
     "base_uri": "https://localhost:8080/",
     "height": 265
    },
    "id": "7Z_62szbrjzi",
    "outputId": "27c9172b-4f05-4936-e660-222bb19a035e"
   },
   "outputs": [
    {
     "data": {
      "image/png": "[encoded data removed]",
      "text/plain": [
       "<Figure size 432x288 with 1 Axes>"
      ]
     },
     "metadata": {
      "needs_background": "light",
      "tags": []
     },
     "output_type": "display_data"
    }
   ],
   "source": [
    "plt.scatter(x, y, s=10)\n",
    "# sort the values of x before line plot\n",
    "sort_axis = operator.itemgetter(0)\n",
    "sorted_zip = sorted(zip(x,y_poly_pred_3), key=sort_axis)\n",
    "x, y_poly_pred_3 = zip(*sorted_zip)\n",
    "plt.plot(x, y_poly_pred_3, color='m')\n",
    "plt.show()"
   ]
  },
  {
   "cell_type": "markdown",
   "metadata": {
    "id": "Qax679CXrjzj"
   },
   "source": [
    "Now fit a model of degree 20, how do RMSE and $R²$ behave. Create a plot with the three fits overlaped. Do you think this is the model that better explains the data? Why?"
   ]
  },
  {
   "cell_type": "code",
   "execution_count": null,
   "metadata": {
    "colab": {
     "base_uri": "https://localhost:8080/"
    },
    "id": "sUzEwGyorjzj",
    "outputId": "62a00f55-3026-4179-85a8-ab62b1a10a7d"
   },
   "outputs": [
    {
     "name": "stdout",
     "output_type": "stream",
     "text": [
      "RMSE for this prediction: 1.1131604487933962\n",
      "R2 for this prediction: 0.9982308317618072\n"
     ]
    }
   ],
   "source": [
    "from sklearn.preprocessing import PolynomialFeatures\n",
    "import operator\n",
    "\n",
    "np.random.seed(0)\n",
    "x = 2 - 3 * np.random.normal(0, 1, 20)\n",
    "y = x - 2 * (x ** 2) + 0.5 * (x ** 3) + np.random.normal(-3, 3, 20)\n",
    "\n",
    "# transforming the data to include another axis\n",
    "x = x[:, np.newaxis]\n",
    "y = y[:, np.newaxis]\n",
    "\n",
    "#PUT YOUR CODE HERE"
   ]
  },
  {
   "cell_type": "code",
   "execution_count": null,
   "metadata": {
    "colab": {
     "base_uri": "https://localhost:8080/",
     "height": 265
    },
    "id": "EAfFNpKUrjzj",
    "outputId": "a6f7e9b8-b072-4c07-f424-6045f53ebf42"
   },
   "outputs": [
    {
     "data": {
      "image/png": "[encoded data removed]",
      "text/plain": [
       "<Figure size 432x288 with 1 Axes>"
      ]
     },
     "metadata": {
      "needs_background": "light",
      "tags": []
     },
     "output_type": "display_data"
    }
   ],
   "source": [
    "## Degree 20 \n",
    "plt.scatter(x, y, s=10)\n",
    "# sort the values of x before line plot\n",
    "sort_axis = operator.itemgetter(0)\n",
    "sorted_zip = sorted(zip(x,y_poly_pred_20), key=sort_axis)\n",
    "x, y_poly_pred_20 = zip(*sorted_zip)\n",
    "plt.plot(x, y_poly_pred_20, color='g')\n",
    "plt.show()"
   ]
  },
  {
   "cell_type": "markdown",
   "metadata": {
    "id": "JjwL-y94rjzk"
   },
   "source": [
    "For degree=20, the model is also capturing the noise in the data. This is an example of *over-fitting*. Even though this model passes through most of the data, it will fail to generalize on unseen data.\n",
    "\n",
    "To prevent *over-fitting*, we can add more training samples so that the algorithm doesn’t learn the noise in the system and can become more generalized.\n",
    "How do we choose an optimal model? To answer this question we need to understand the bias vs variance trade-off."
   ]
  },
  {
   "cell_type": "markdown",
   "metadata": {
    "id": "TTrvumZCrjzl"
   },
   "source": [
    "## Variance vs Bias trade-off"
   ]
  },
  {
   "cell_type": "markdown",
   "metadata": {
    "id": "j3rn-PiOrjzl"
   },
   "source": [
    "*Bias* refers to the error due to the model’s simplistic assumptions in fitting the data. A high bias means that the model is unable to capture the patterns in the data and this results in under-fitting.\n",
    "\n",
    "*Variance* refers to the error due to the complex model trying to fit the data. High variance means the model passes through most of the data points and it results in over-fitting the data.\n",
    "\n",
    "The below picture summarizes our learning.\n",
    "\n",
    "<img src=\"https://miro.medium.com/max/1946/1*zOl_ztYqnzyWRkBffeOsRQ.png\">"
   ]
  },
  {
   "cell_type": "markdown",
   "metadata": {
    "id": "fSeu7_RZrjzm"
   },
   "source": [
    "From the below picture we can observe that as the model complexity increases, the bias decreases and the variance increases and vice-versa. Ideally, a machine learning model should have low variance and low bias. But practically it’s impossible to have both. Therefore to achieve a good model that performs well both on the train and unseen data, a trade-off is made. Source: http://scott.fortmann-roe.com/docs/BiasVariance.html\n",
    "\n",
    "![Screenshot from 2021-01-10 15-50-47.png](data:image/png;base64,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)"
   ]
  },
  {
   "cell_type": "markdown",
   "metadata": {
    "id": "UHe5zaudrjzm"
   },
   "source": [
    "Think about the behaviour of our metrics to evaluate the performance of the algorithm. Which ways could we use to control if our model is actually performing better?"
   ]
  },
  {
   "cell_type": "markdown",
   "metadata": {
    "id": "10SHUIPGrjzm"
   },
   "source": [
    "## [IN CLASS EXERCISE] The Boston Housing Dataset"
   ]
  },
  {
   "cell_type": "code",
   "execution_count": null,
   "metadata": {
    "id": "vaC0X8Dorjzn"
   },
   "outputs": [],
   "source": [
    "import matplotlib.pyplot as plt\n",
    "import seaborn as sns\n",
    "import numpy as np\n",
    "import pandas as pd\n",
    "from sklearn import datasets, linear_model\n",
    "from sklearn.metrics import mean_squared_error, r2_score"
   ]
  },
  {
   "cell_type": "code",
   "execution_count": null,
   "metadata": {
    "colab": {
     "base_uri": "https://localhost:8080/",
     "height": 17
    },
    "id": "yQ2Kpcamrjzn",
    "outputId": "773ddb75-ef5b-4b4a-ea76-a2efb4786d5e"
   },
   "outputs": [
    {
     "data": {
      "application/javascript": [
       "IPython.OutputArea.prototype._should_scroll = function(lines) {\n",
       "    return false;\n",
       "}"
      ],
      "text/plain": [
       "<IPython.core.display.Javascript object>"
      ]
     },
     "metadata": {
      "tags": []
     },
     "output_type": "display_data"
    }
   ],
   "source": [
    "%%javascript\n",
    "IPython.OutputArea.prototype._should_scroll = function(lines) {\n",
    "    return false;\n",
    "}"
   ]
  },
  {
   "cell_type": "code",
   "execution_count": null,
   "metadata": {
    "id": "kzI8lgntrjzo"
   },
   "outputs": [],
   "source": [
    "# Load the diabetes dataset\n",
    "boston_ds = datasets.load_boston()"
   ]
  },
  {
   "cell_type": "code",
   "execution_count": null,
   "metadata": {
    "colab": {
     "base_uri": "https://localhost:8080/"
    },
    "id": "TnIMwrBTrjzo",
    "outputId": "82a2b9f9-9d75-4112-93b1-35be9dbadfdd"
   },
   "outputs": [
    {
     "name": "stdout",
     "output_type": "stream",
     "text": [
      ".. _boston_dataset:\n",
      "\n",
      "Boston house prices dataset\n",
      "---------------------------\n",
      "\n",
      "**Data Set Characteristics:**  \n",
      "\n",
      "    :Number of Instances: 506 \n",
      "\n",
      "    :Number of Attributes: 13 numeric/categorical predictive. Median Value (attribute 14) is usually the target.\n",
      "\n",
      "    :Attribute Information (in order):\n",
      "        - CRIM     per capita crime rate by town\n",
      "        - ZN       proportion of residential land zoned for lots over 25,000 sq.ft.\n",
      "        - INDUS    proportion of non-retail business acres per town\n",
      "        - CHAS     Charles River dummy variable (= 1 if tract bounds river; 0 otherwise)\n",
      "        - NOX      nitric oxides concentration (parts per 10 million)\n",
      "        - RM       average number of rooms per dwelling\n",
      "        - AGE      proportion of owner-occupied units built prior to 1940\n",
      "        - DIS      weighted distances to five Boston employment centres\n",
      "        - RAD      index of accessibility to radial highways\n",
      "        - TAX      full-value property-tax rate per $10,000\n",
      "        - PTRATIO  pupil-teacher ratio by town\n",
      "        - B        1000(Bk - 0.63)^2 where Bk is the proportion of blacks by town\n",
      "        - LSTAT    % lower status of the population\n",
      "        - MEDV     Median value of owner-occupied homes in $1000's\n",
      "\n",
      "    :Missing Attribute Values: None\n",
      "\n",
      "    :Creator: Harrison, D. and Rubinfeld, D.L.\n",
      "\n",
      "This is a copy of UCI ML housing dataset.\n",
      "https://archive.ics.uci.edu/ml/machine-learning-databases/housing/\n",
      "\n",
      "\n",
      "This dataset was taken from the StatLib library which is maintained at Carnegie Mellon University.\n",
      "\n",
      "The Boston house-price data of Harrison, D. and Rubinfeld, D.L. 'Hedonic\n",
      "prices and the demand for clean air', J. Environ. Economics & Management,\n",
      "vol.5, 81-102, 1978.   Used in Belsley, Kuh & Welsch, 'Regression diagnostics\n",
      "...', Wiley, 1980.   N.B. Various transformations are used in the table on\n",
      "pages 244-261 of the latter.\n",
      "\n",
      "The Boston house-price data has been used in many machine learning papers that address regression\n",
      "problems.   \n",
      "     \n",
      ".. topic:: References\n",
      "\n",
      "   - Belsley, Kuh & Welsch, 'Regression diagnostics: Identifying Influential Data and Sources of Collinearity', Wiley, 1980. 244-261.\n",
      "   - Quinlan,R. (1993). Combining Instance-Based and Model-Based Learning. In Proceedings on the Tenth International Conference of Machine Learning, 236-243, University of Massachusetts, Amherst. Morgan Kaufmann.\n",
      "\n"
     ]
    }
   ],
   "source": [
    "print(boston_ds.DESCR)"
   ]
  },
  {
   "cell_type": "code",
   "execution_count": null,
   "metadata": {
    "colab": {
     "base_uri": "https://localhost:8080/",
     "height": 204
    },
    "id": "QrutWgZirjzo",
    "outputId": "4d77c652-7678-4bf2-dda4-75a34ca8bf95"
   },
   "outputs": [
    {
     "data": {
      "text/html": [
       "<div>\n",
       "<style scoped>\n",
       "    .dataframe tbody tr th:only-of-type {\n",
       "        vertical-align: middle;\n",
       "    }\n",
       "\n",
       "    .dataframe tbody tr th {\n",
       "        vertical-align: top;\n",
       "    }\n",
       "\n",
       "    .dataframe thead th {\n",
       "        text-align: right;\n",
       "    }\n",
       "</style>\n",
       "<table border=\"1\" class=\"dataframe\">\n",
       "  <thead>\n",
       "    <tr style=\"text-align: right;\">\n",
       "      <th></th>\n",
       "      <th>CRIM</th>\n",
       "      <th>ZN</th>\n",
       "      <th>INDUS</th>\n",
       "      <th>CHAS</th>\n",
       "      <th>NOX</th>\n",
       "      <th>RM</th>\n",
       "      <th>AGE</th>\n",
       "      <th>DIS</th>\n",
       "      <th>RAD</th>\n",
       "      <th>TAX</th>\n",
       "      <th>PTRATIO</th>\n",
       "      <th>B</th>\n",
       "      <th>LSTAT</th>\n",
       "      <th>MEDV</th>\n",
       "    </tr>\n",
       "  </thead>\n",
       "  <tbody>\n",
       "    <tr>\n",
       "      <th>0</th>\n",
       "      <td>0.00632</td>\n",
       "      <td>18.0</td>\n",
       "      <td>2.31</td>\n",
       "      <td>0.0</td>\n",
       "      <td>0.538</td>\n",
       "      <td>6.575</td>\n",
       "      <td>65.2</td>\n",
       "      <td>4.0900</td>\n",
       "      <td>1.0</td>\n",
       "      <td>296.0</td>\n",
       "      <td>15.3</td>\n",
       "      <td>396.90</td>\n",
       "      <td>4.98</td>\n",
       "      <td>24.0</td>\n",
       "    </tr>\n",
       "    <tr>\n",
       "      <th>1</th>\n",
       "      <td>0.02731</td>\n",
       "      <td>0.0</td>\n",
       "      <td>7.07</td>\n",
       "      <td>0.0</td>\n",
       "      <td>0.469</td>\n",
       "      <td>6.421</td>\n",
       "      <td>78.9</td>\n",
       "      <td>4.9671</td>\n",
       "      <td>2.0</td>\n",
       "      <td>242.0</td>\n",
       "      <td>17.8</td>\n",
       "      <td>396.90</td>\n",
       "      <td>9.14</td>\n",
       "      <td>21.6</td>\n",
       "    </tr>\n",
       "    <tr>\n",
       "      <th>2</th>\n",
       "      <td>0.02729</td>\n",
       "      <td>0.0</td>\n",
       "      <td>7.07</td>\n",
       "      <td>0.0</td>\n",
       "      <td>0.469</td>\n",
       "      <td>7.185</td>\n",
       "      <td>61.1</td>\n",
       "      <td>4.9671</td>\n",
       "      <td>2.0</td>\n",
       "      <td>242.0</td>\n",
       "      <td>17.8</td>\n",
       "      <td>392.83</td>\n",
       "      <td>4.03</td>\n",
       "      <td>34.7</td>\n",
       "    </tr>\n",
       "    <tr>\n",
       "      <th>3</th>\n",
       "      <td>0.03237</td>\n",
       "      <td>0.0</td>\n",
       "      <td>2.18</td>\n",
       "      <td>0.0</td>\n",
       "      <td>0.458</td>\n",
       "      <td>6.998</td>\n",
       "      <td>45.8</td>\n",
       "      <td>6.0622</td>\n",
       "      <td>3.0</td>\n",
       "      <td>222.0</td>\n",
       "      <td>18.7</td>\n",
       "      <td>394.63</td>\n",
       "      <td>2.94</td>\n",
       "      <td>33.4</td>\n",
       "    </tr>\n",
       "    <tr>\n",
       "      <th>4</th>\n",
       "      <td>0.06905</td>\n",
       "      <td>0.0</td>\n",
       "      <td>2.18</td>\n",
       "      <td>0.0</td>\n",
       "      <td>0.458</td>\n",
       "      <td>7.147</td>\n",
       "      <td>54.2</td>\n",
       "      <td>6.0622</td>\n",
       "      <td>3.0</td>\n",
       "      <td>222.0</td>\n",
       "      <td>18.7</td>\n",
       "      <td>396.90</td>\n",
       "      <td>5.33</td>\n",
       "      <td>36.2</td>\n",
       "    </tr>\n",
       "  </tbody>\n",
       "</table>\n",
       "</div>"
      ],
      "text/plain": [
       "      CRIM    ZN  INDUS  CHAS    NOX  ...    TAX  PTRATIO       B  LSTAT  MEDV\n",
       "0  0.00632  18.0   2.31   0.0  0.538  ...  296.0     15.3  396.90   4.98  24.0\n",
       "1  0.02731   0.0   7.07   0.0  0.469  ...  242.0     17.8  396.90   9.14  21.6\n",
       "2  0.02729   0.0   7.07   0.0  0.469  ...  242.0     17.8  392.83   4.03  34.7\n",
       "3  0.03237   0.0   2.18   0.0  0.458  ...  222.0     18.7  394.63   2.94  33.4\n",
       "4  0.06905   0.0   2.18   0.0  0.458  ...  222.0     18.7  396.90   5.33  36.2\n",
       "\n",
       "[5 rows x 14 columns]"
      ]
     },
     "execution_count": 15,
     "metadata": {
      "tags": []
     },
     "output_type": "execute_result"
    }
   ],
   "source": [
    "boston = pd.DataFrame(boston_ds.data, columns=boston_ds.feature_names)\n",
    "boston['MEDV'] = boston_ds.target\n",
    "boston.head()"
   ]
  },
  {
   "cell_type": "markdown",
   "metadata": {
    "id": "Fd1xM9w9rjzo"
   },
   "source": [
    "### Simple Linear Regression Model"
   ]
  },
  {
   "cell_type": "markdown",
   "metadata": {
    "id": "asHoMQscrjzp"
   },
   "source": [
    "Load the Boston Housing Dataset, and prepare train and test splits X_train, Y_train, X_test, Y_test"
   ]
  },
  {
   "cell_type": "code",
   "execution_count": null,
   "metadata": {
    "id": "XYmE6KZSrjzp"
   },
   "outputs": [],
   "source": [
    "X = boston[['RM']]\n",
    "Y = boston['MEDV']"
   ]
  },
  {
   "cell_type": "markdown",
   "metadata": {
    "id": "TWYSgQgxrjzp"
   },
   "source": [
    "Split the data into training and testing sets. We train the model with 80% of the samples and test with the remaining 20%. We do this to assess the model’s performance on unseen data. To split the data you may use scikit-learn library. Set random_state=42"
   ]
  },
  {
   "cell_type": "code",
   "execution_count": null,
   "metadata": {
    "colab": {
     "base_uri": "https://localhost:8080/"
    },
    "id": "zOt-9DbErjzp",
    "outputId": "84d49b16-619b-4a18-f275-3643cfb62594"
   },
   "outputs": [
    {
     "name": "stdout",
     "output_type": "stream",
     "text": [
      "(404, 1)\n",
      "(102, 1)\n",
      "(404,)\n",
      "(102,)\n"
     ]
    }
   ],
   "source": [
    "from sklearn.model_selection import train_test_split\n",
    "\n",
    "X_train, X_test, Y_train, Y_test = train_test_split(X, Y, test_size = 0.2, random_state=42)\n",
    "print(X_train.shape)\n",
    "print(X_test.shape)\n",
    "print(Y_train.shape)\n",
    "print(Y_test.shape)"
   ]
  },
  {
   "cell_type": "code",
   "execution_count": null,
   "metadata": {
    "colab": {
     "base_uri": "https://localhost:8080/"
    },
    "id": "Tu3VTRwIrjzp",
    "outputId": "b8281e54-774b-4f0d-80f9-d56dd7785547"
   },
   "outputs": [
    {
     "data": {
      "text/plain": [
       "LinearRegression(copy_X=True, fit_intercept=True, n_jobs=None, normalize=False)"
      ]
     },
     "execution_count": 18,
     "metadata": {
      "tags": []
     },
     "output_type": "execute_result"
    }
   ],
   "source": [
    "from sklearn.linear_model import LinearRegression\n",
    "from sklearn.metrics import mean_squared_error\n",
    "\n",
    "lin_model = LinearRegression()\n",
    "lin_model.fit(X_train, Y_train)"
   ]
  },
  {
   "cell_type": "code",
   "execution_count": null,
   "metadata": {
    "colab": {
     "base_uri": "https://localhost:8080/"
    },
    "id": "UOGadyQ9rjzq",
    "outputId": "cf762432-a4bf-40ec-ca5d-9b1a76f2eccf"
   },
   "outputs": [
    {
     "name": "stdout",
     "output_type": "stream",
     "text": [
      "The model performance for the training set\n",
      "-------------------------------------------\n",
      "RMSE: 6.972277149440585\n",
      "R2 Score: 0.4340897790637215\n",
      "\n",
      "\n",
      "The model performance for the test set\n",
      "-------------------------------------------\n",
      "RMSE: 4.895963186952216\n",
      "R2 Score: 0.6938399401553497\n"
     ]
    }
   ],
   "source": [
    "from sklearn import metrics\n",
    "\n",
    "y_train_predict = lin_model.predict(X_train)\n",
    "\n",
    "print(\"The model performance for the training set\")\n",
    "print(\"-------------------------------------------\")\n",
    "print('RMSE:', np.sqrt(metrics.mean_squared_error(Y_train, y_train_predict)))\n",
    "print('R2 Score:', metrics.r2_score(Y_train, y_train_predict))\n",
    "\n",
    "print(\"\\n\")\n",
    "\n",
    "y_test_predict = lin_model.predict(X_test)\n",
    "print(\"The model performance for the test set\")\n",
    "print(\"-------------------------------------------\")\n",
    "print('RMSE:', np.sqrt(metrics.mean_squared_error(Y_test, y_test_predict)))\n",
    "print('R2 Score:', metrics.r2_score(Y_test, y_test_predict))\n",
    "\n",
    "\n"
   ]
  },
  {
   "cell_type": "markdown",
   "metadata": {
    "id": "WCYrSskvrjzr"
   },
   "source": [
    "### Polynomial Regression Model"
   ]
  },
  {
   "cell_type": "code",
   "execution_count": null,
   "metadata": {
    "id": "sBCBGlJ9rjzr"
   },
   "outputs": [],
   "source": [
    "from sklearn.preprocessing import PolynomialFeatures\n",
    "\n",
    "def create_polynomial_regression_model(degree, verbose = True, text_out=True):\n",
    "    \n",
    "    \"Creates a polynomial regression model for the given degree\"\n",
    "\n",
    "    poly_features = PolynomialFeatures(degree=degree)\n",
    "\n",
    "    # transforms the existing features to higher degree features.\n",
    "    X_train_poly = poly_features.fit_transform(X_train)\n",
    "\n",
    "    # fit the transformed features to Linear Regression\n",
    "    poly_model = LinearRegression()\n",
    "    poly_model.fit(X_train_poly, Y_train)        \n",
    "\n",
    "    y_poly_pred = poly_model.predict(X_train_poly)\n",
    "\n",
    "    # predicting on training data-set\n",
    "    y_train_predicted = poly_model.predict(X_train_poly)\n",
    "\n",
    "\n",
    "    ##########################################\n",
    "    ##########################################\n",
    "    if X_train.shape[1] == 1:\n",
    "        import operator\n",
    "        plt.scatter(X_train, Y_train, s=10)\n",
    "        x = np.array(X_train.iloc[:,0])\n",
    "        x = x[:, np.newaxis]\n",
    "        y = Y_train[:, np.newaxis]\n",
    "\n",
    "        plt.scatter(x, y, s=10)\n",
    "        # sort the values of x before line plot\n",
    "        sort_axis = operator.itemgetter(0)\n",
    "        sorted_zip = sorted(zip(x,y_train_predicted), key=sort_axis)\n",
    "        x, y_train_predicted = zip(*sorted_zip)\n",
    "        plt.plot(x, y_train_predicted, color='b')\n",
    "        plt.title(\"RM vs MEDV (Training set)\")\n",
    "        plt.xlabel(\"RM\")\n",
    "        plt.ylabel(\"MEDV\")\n",
    "        plt.show()\n",
    "        plt.show()\n",
    "    ##########################################\n",
    "    ##########################################\n",
    "    # predicting on test data-set\n",
    "    y_test_predict = poly_model.predict(poly_features.fit_transform(X_test))\n",
    "\n",
    "    # evaluating the model on training dataset\n",
    "    rmse_train = np.sqrt(mean_squared_error(Y_train, y_train_predicted))\n",
    "    r2_train = r2_score(Y_train, y_train_predicted)\n",
    "\n",
    "    # evaluating the model on test dataset\n",
    "    rmse_test = np.sqrt(mean_squared_error(Y_test, y_test_predict))\n",
    "    r2_test = r2_score(Y_test, y_test_predict)\n",
    "    \n",
    "    \n",
    "    if text_out:\n",
    "        print(\"The model performance for the training set\")\n",
    "        print(\"-------------------------------------------\")\n",
    "        print(\"RMSE of training set is {}\".format(rmse_train))\n",
    "        print(\"R2 score of training set is {}\".format(r2_train))\n",
    "\n",
    "        print(\"\\n\")\n",
    "\n",
    "        print(\"The model performance for the test set\")\n",
    "        print(\"-------------------------------------------\")\n",
    "        print(\"RMSE of test set is {}\".format(rmse_test))\n",
    "        print(\"R2 score of test set is {}\".format(r2_test))\n",
    "    return (rmse_train, rmse_test)"
   ]
  },
  {
   "cell_type": "markdown",
   "metadata": {
    "id": "MYiTRc2Prjzs"
   },
   "source": [
    "#### Try with multiple degrees and observe how the fitting line change\n",
    "\n",
    "Remember:\n",
    "R-squared is the percentage of the dependent variable variation that a linear model explains.\n",
    "\n",
    "$${\\displaystyle R^2 = \\frac {\\text{Variance explained by the model}}{\\text{Total variance}}}$$\n",
    "\n"
   ]
  },
  {
   "cell_type": "code",
   "execution_count": null,
   "metadata": {
    "colab": {
     "base_uri": "https://localhost:8080/",
     "height": 349
    },
    "id": "nwiOLNc2rjzs",
    "outputId": "c1d94dcc-be78-495a-c9c7-911ac01c8c5e"
   },
   "outputs": [
    {
     "name": "stderr",
     "output_type": "stream",
     "text": [
      "/usr/local/lib/python3.6/dist-packages/ipykernel_launcher.py:29: FutureWarning: Support for multi-dimensional indexing (e.g. `obj[:, None]`) is deprecated and will be removed in a future version.  Convert to a numpy array before indexing instead.\n"
     ]
    },
    {
     "data": {
      "image/png": "[encoded data removed]",
      "text/plain": [
       "<Figure size 432x288 with 1 Axes>"
      ]
     },
     "metadata": {
      "needs_background": "light",
      "tags": []
     },
     "output_type": "display_data"
    },
    {
     "data": {
      "text/plain": [
       "(11.402616413922557, 4.6120189562694325)"
      ]
     },
     "execution_count": 21,
     "metadata": {
      "tags": []
     },
     "output_type": "execute_result"
    }
   ],
   "source": [
    "create_polynomial_regression_model(2, text_out=False)"
   ]
  },
  {
   "cell_type": "code",
   "execution_count": null,
   "metadata": {
    "colab": {
     "base_uri": "https://localhost:8080/",
     "height": 349
    },
    "id": "fIPz_9kbrjzs",
    "outputId": "ccd1c8b5-5623-42da-f2fb-3bc28b2e6822"
   },
   "outputs": [
    {
     "name": "stderr",
     "output_type": "stream",
     "text": [
      "/usr/local/lib/python3.6/dist-packages/ipykernel_launcher.py:29: FutureWarning: Support for multi-dimensional indexing (e.g. `obj[:, None]`) is deprecated and will be removed in a future version.  Convert to a numpy array before indexing instead.\n"
     ]
    },
    {
     "data": {
      "image/png": "[encoded data removed]",
      "text/plain": [
       "<Figure size 432x288 with 1 Axes>"
      ]
     },
     "metadata": {
      "needs_background": "light",
      "tags": []
     },
     "output_type": "display_data"
    },
    {
     "data": {
      "text/plain": [
       "(11.641755344520814, 4.885646631615321)"
      ]
     },
     "execution_count": 22,
     "metadata": {
      "tags": []
     },
     "output_type": "execute_result"
    }
   ],
   "source": [
    "create_polynomial_regression_model(20, text_out=False)"
   ]
  },
  {
   "cell_type": "markdown",
   "metadata": {
    "id": "cXPpxnFvycbN"
   },
   "source": [
    "**Describe the above plots**"
   ]
  },
  {
   "cell_type": "markdown",
   "metadata": {
    "id": "z0DIR_H-rjzs"
   },
   "source": [
    "## Multivariate models\n",
    "\n",
    "Implement multiple Multivariate models and study the trend of the training and test error"
   ]
  },
  {
   "cell_type": "code",
   "execution_count": null,
   "metadata": {
    "colab": {
     "base_uri": "https://localhost:8080/"
    },
    "id": "SVLKDUizrjzs",
    "outputId": "55bad09d-40cb-4752-f4cb-82e829a13990"
   },
   "outputs": [
    {
     "name": "stdout",
     "output_type": "stream",
     "text": [
      "(404, 2)\n",
      "(102, 2)\n",
      "(404,)\n",
      "(102,)\n"
     ]
    }
   ],
   "source": [
    "X = boston[['LSTAT','RM']]\n",
    "Y = boston['MEDV']\n",
    "\n",
    "# Split training and test\n",
    "X_train, X_test, Y_train, Y_test = # PUT YOU CODE HERE\n",
    "print(X_train.shape)\n",
    "print(X_test.shape)\n",
    "print(Y_train.shape)\n",
    "print(Y_test.shape)\n",
    "\n"
   ]
  },
  {
   "cell_type": "markdown",
   "metadata": {
    "id": "zXoaNfWWrjzt"
   },
   "source": [
    "### Linear Regression"
   ]
  },
  {
   "cell_type": "code",
   "execution_count": null,
   "metadata": {
    "colab": {
     "base_uri": "https://localhost:8080/"
    },
    "id": "UqbGADs-rjzt",
    "outputId": "586f4771-b658-4f00-fa20-d4835d65c42d"
   },
   "outputs": [
    {
     "name": "stdout",
     "output_type": "stream",
     "text": [
      "The model performance for the training set\n",
      "-------------------------------------------\n",
      "RMSE: 5.6371293350711955\n",
      "R2 Score: 0.6300745149331701\n",
      "\n",
      "\n",
      "The model performance for the test set\n",
      "-------------------------------------------\n",
      "RMSE: 5.137400784702911\n",
      "R2 Score: 0.6628996975186952\n"
     ]
    }
   ],
   "source": [
    "# CLASSICAL LINEAR REGRESSION (Degree 1)\n",
    "# PUT YOU CODE HERE"
   ]
  },
  {
   "cell_type": "markdown",
   "metadata": {
    "id": "H5XXOGCorjzt"
   },
   "source": [
    "### Polynomial Regression"
   ]
  },
  {
   "cell_type": "code",
   "execution_count": null,
   "metadata": {
    "colab": {
     "base_uri": "https://localhost:8080/"
    },
    "id": "ubKDj7f9rjzt",
    "outputId": "cb72d4fd-dcf2-4a9b-d31b-6406d5c7f195"
   },
   "outputs": [
    {
     "name": "stdout",
     "output_type": "stream",
     "text": [
      "The model performance for the training set\n",
      "-------------------------------------------\n",
      "RMSE of training set is 4.703071027847756\n",
      "R2 score of training set is 0.7425094297364765\n",
      "\n",
      "\n",
      "The model performance for the test set\n",
      "-------------------------------------------\n",
      "RMSE of test set is 3.784819884545044\n",
      "R2 score of test set is 0.8170372495892174\n"
     ]
    },
    {
     "data": {
      "text/plain": [
       "(4.703071027847756, 3.784819884545044)"
      ]
     },
     "execution_count": 25,
     "metadata": {
      "tags": []
     },
     "output_type": "execute_result"
    }
   ],
   "source": [
    "create_polynomial_regression_model(2)"
   ]
  },
  {
   "cell_type": "markdown",
   "metadata": {
    "id": "K0BHuObGrjzu"
   },
   "source": [
    "### Try with multiple degrees and observe the trend of the training and test errors\n",
    "\n",
    "Implement multiple polynomial models using the above function ```create_polynomial_regression_model``` and observe the trend of the training and test errors\n",
    "\n",
    "- Note that the function returns a pair **(training_error, test_error)**"
   ]
  },
  {
   "cell_type": "code",
   "execution_count": null,
   "metadata": {
    "id": "m5U1yfO_rjzu"
   },
   "outputs": [],
   "source": [
    "errors_train_test = []\n",
    "# PUT YOU CODE HERE"
   ]
  },
  {
   "cell_type": "code",
   "execution_count": null,
   "metadata": {
    "colab": {
     "base_uri": "https://localhost:8080/"
    },
    "id": "wkunn527rjzu",
    "outputId": "ed402d6b-d193-462b-ae5c-d92bfebd7451"
   },
   "outputs": [
    {
     "name": "stdout",
     "output_type": "stream",
     "text": [
      "The model performance for the training set\n",
      "-------------------------------------------\n",
      "RMSE of training set is 3.975759381072408\n",
      "R2 score of training set is 0.815991265551367\n",
      "\n",
      "\n",
      "The model performance for the test set\n",
      "-------------------------------------------\n",
      "RMSE of test set is 4.645718467700605\n",
      "R2 score of test set is 0.7243372892628968\n"
     ]
    },
    {
     "data": {
      "text/plain": [
       "(3.975759381072408, 4.645718467700605)"
      ]
     },
     "execution_count": 32,
     "metadata": {
      "tags": []
     },
     "output_type": "execute_result"
    }
   ],
   "source": [
    "create_polynomial_regression_model(7)"
   ]
  },
  {
   "cell_type": "code",
   "execution_count": null,
   "metadata": {
    "colab": {
     "base_uri": "https://localhost:8080/"
    },
    "id": "AJ9FfRwHrjzu",
    "outputId": "293f7375-30f9-48d8-d164-b9b00f34009b"
   },
   "outputs": [
    {
     "data": {
      "text/plain": [
       "[(5.6371293350711955, 5.13740078470291),\n",
       " (4.703071027847756, 3.784819884545044),\n",
       " (4.532072326616824, 3.8691974071830573),\n",
       " (4.276081212074235, 3.8885945978984418),\n",
       " (4.121480266467391, 3.856148659154831),\n",
       " (8.690700969490061, 14.880724221196806),\n",
       " (3.975759381072408, 4.645718467700605),\n",
       " (3.9838875009785615, 24.114314175005774),\n",
       " (3.934163396670129, 11.39187985228032)]"
      ]
     },
     "execution_count": 33,
     "metadata": {
      "tags": []
     },
     "output_type": "execute_result"
    }
   ],
   "source": [
    "errors_train_test"
   ]
  },
  {
   "cell_type": "code",
   "execution_count": null,
   "metadata": {
    "id": "sDMzCS3urjzu"
   },
   "outputs": [],
   "source": [
    "errors_train = [i[0] for i in errors_train_test]\n",
    "errors_test = [i[1] for i in errors_train_test]\n",
    "x = range(len(errors_train_test))"
   ]
  },
  {
   "cell_type": "code",
   "execution_count": null,
   "metadata": {
    "colab": {
     "base_uri": "https://localhost:8080/",
     "height": 295
    },
    "id": "Uix_ulH-rjzv",
    "outputId": "286c3820-5537-48db-a9d2-8b2dbbb5edc9"
   },
   "outputs": [
    {
     "data": {
      "image/png": "[encoded data removed]",
      "text/plain": [
       "<Figure size 432x288 with 1 Axes>"
      ]
     },
     "metadata": {
      "needs_background": "light",
      "tags": []
     },
     "output_type": "display_data"
    }
   ],
   "source": [
    "# PUT YOU CODE HERE\n"
   ]
  },
  {
   "cell_type": "code",
   "execution_count": null,
   "metadata": {
    "id": "y6_yxHiXrjzv"
   },
   "outputs": [],
   "source": [
    "# Describe the above plot"
   ]
  },
  {
   "cell_type": "code",
   "execution_count": null,
   "metadata": {
    "id": "FemoVCyBtir7"
   },
   "outputs": [],
   "source": []
  },
  {
   "cell_type": "markdown",
   "metadata": {
    "id": "1gJ-oicNrlOr"
   },
   "source": [
    "# Regression with regularization"
   ]
  },
  {
   "cell_type": "markdown",
   "metadata": {
    "id": "Z1o9R0uErlOt"
   },
   "source": [
    "We will using the Boston Housing Dataset available in sklearn and we will extend it with  5 additional features of random noise to test each algorithm’s ability to filter out irrelevant information:\n",
    "\n",
    "- **PART 1: Examine the results of applying Linear Regression, Lasso Regression, Ridge Regression and Elastic Net on the features scores**\n",
    "- **PART 2: Try to modify the hyperparameters lambda and describe how it affects the parmeter scores**"
   ]
  },
  {
   "cell_type": "markdown",
   "metadata": {
    "id": "4oCKYWm3rlOu"
   },
   "source": [
    "### Import libraries and dataset from sklearn"
   ]
  },
  {
   "cell_type": "code",
   "execution_count": null,
   "metadata": {
    "colab": {
     "base_uri": "https://localhost:8080/",
     "height": 204
    },
    "id": "FIg44GPrrlOu",
    "outputId": "679599c1-782b-48be-b4ab-3c24fa28dd41"
   },
   "outputs": [
    {
     "data": {
      "text/html": [
       "<div>\n",
       "<style scoped>\n",
       "    .dataframe tbody tr th:only-of-type {\n",
       "        vertical-align: middle;\n",
       "    }\n",
       "\n",
       "    .dataframe tbody tr th {\n",
       "        vertical-align: top;\n",
       "    }\n",
       "\n",
       "    .dataframe thead th {\n",
       "        text-align: right;\n",
       "    }\n",
       "</style>\n",
       "<table border=\"1\" class=\"dataframe\">\n",
       "  <thead>\n",
       "    <tr style=\"text-align: right;\">\n",
       "      <th></th>\n",
       "      <th>CRIM</th>\n",
       "      <th>ZN</th>\n",
       "      <th>INDUS</th>\n",
       "      <th>CHAS</th>\n",
       "      <th>NOX</th>\n",
       "      <th>RM</th>\n",
       "      <th>AGE</th>\n",
       "      <th>DIS</th>\n",
       "      <th>RAD</th>\n",
       "      <th>TAX</th>\n",
       "      <th>PTRATIO</th>\n",
       "      <th>B</th>\n",
       "      <th>LSTAT</th>\n",
       "    </tr>\n",
       "  </thead>\n",
       "  <tbody>\n",
       "    <tr>\n",
       "      <th>0</th>\n",
       "      <td>0.00632</td>\n",
       "      <td>18.0</td>\n",
       "      <td>2.31</td>\n",
       "      <td>0.0</td>\n",
       "      <td>0.538</td>\n",
       "      <td>6.575</td>\n",
       "      <td>65.2</td>\n",
       "      <td>4.0900</td>\n",
       "      <td>1.0</td>\n",
       "      <td>296.0</td>\n",
       "      <td>15.3</td>\n",
       "      <td>396.90</td>\n",
       "      <td>4.98</td>\n",
       "    </tr>\n",
       "    <tr>\n",
       "      <th>1</th>\n",
       "      <td>0.02731</td>\n",
       "      <td>0.0</td>\n",
       "      <td>7.07</td>\n",
       "      <td>0.0</td>\n",
       "      <td>0.469</td>\n",
       "      <td>6.421</td>\n",
       "      <td>78.9</td>\n",
       "      <td>4.9671</td>\n",
       "      <td>2.0</td>\n",
       "      <td>242.0</td>\n",
       "      <td>17.8</td>\n",
       "      <td>396.90</td>\n",
       "      <td>9.14</td>\n",
       "    </tr>\n",
       "    <tr>\n",
       "      <th>2</th>\n",
       "      <td>0.02729</td>\n",
       "      <td>0.0</td>\n",
       "      <td>7.07</td>\n",
       "      <td>0.0</td>\n",
       "      <td>0.469</td>\n",
       "      <td>7.185</td>\n",
       "      <td>61.1</td>\n",
       "      <td>4.9671</td>\n",
       "      <td>2.0</td>\n",
       "      <td>242.0</td>\n",
       "      <td>17.8</td>\n",
       "      <td>392.83</td>\n",
       "      <td>4.03</td>\n",
       "    </tr>\n",
       "    <tr>\n",
       "      <th>3</th>\n",
       "      <td>0.03237</td>\n",
       "      <td>0.0</td>\n",
       "      <td>2.18</td>\n",
       "      <td>0.0</td>\n",
       "      <td>0.458</td>\n",
       "      <td>6.998</td>\n",
       "      <td>45.8</td>\n",
       "      <td>6.0622</td>\n",
       "      <td>3.0</td>\n",
       "      <td>222.0</td>\n",
       "      <td>18.7</td>\n",
       "      <td>394.63</td>\n",
       "      <td>2.94</td>\n",
       "    </tr>\n",
       "    <tr>\n",
       "      <th>4</th>\n",
       "      <td>0.06905</td>\n",
       "      <td>0.0</td>\n",
       "      <td>2.18</td>\n",
       "      <td>0.0</td>\n",
       "      <td>0.458</td>\n",
       "      <td>7.147</td>\n",
       "      <td>54.2</td>\n",
       "      <td>6.0622</td>\n",
       "      <td>3.0</td>\n",
       "      <td>222.0</td>\n",
       "      <td>18.7</td>\n",
       "      <td>396.90</td>\n",
       "      <td>5.33</td>\n",
       "    </tr>\n",
       "  </tbody>\n",
       "</table>\n",
       "</div>"
      ],
      "text/plain": [
       "      CRIM    ZN  INDUS  CHAS    NOX  ...  RAD    TAX  PTRATIO       B  LSTAT\n",
       "0  0.00632  18.0   2.31   0.0  0.538  ...  1.0  296.0     15.3  396.90   4.98\n",
       "1  0.02731   0.0   7.07   0.0  0.469  ...  2.0  242.0     17.8  396.90   9.14\n",
       "2  0.02729   0.0   7.07   0.0  0.469  ...  2.0  242.0     17.8  392.83   4.03\n",
       "3  0.03237   0.0   2.18   0.0  0.458  ...  3.0  222.0     18.7  394.63   2.94\n",
       "4  0.06905   0.0   2.18   0.0  0.458  ...  3.0  222.0     18.7  396.90   5.33\n",
       "\n",
       "[5 rows x 13 columns]"
      ]
     },
     "execution_count": 83,
     "metadata": {
      "tags": []
     },
     "output_type": "execute_result"
    }
   ],
   "source": [
    "import matplotlib.pyplot as plt\n",
    "import numpy as np \n",
    "import pandas as pd\n",
    "import matplotlib\n",
    "matplotlib.rcParams.update({'font.size': 12})\n",
    "from sklearn.datasets import load_boston\n",
    "from sklearn.model_selection import train_test_split\n",
    "from sklearn.linear_model import LinearRegression\n",
    "from sklearn.linear_model import Ridge\n",
    "from sklearn import metrics\n",
    "from sklearn.metrics import mean_squared_error, r2_score\n",
    "\n",
    "boston=load_boston()\n",
    "boston_df=pd.DataFrame(boston.data,columns=boston.feature_names)\n",
    "\n",
    "boston_df.head()"
   ]
  },
  {
   "cell_type": "markdown",
   "metadata": {
    "id": "Ew6lV0AfrlOv"
   },
   "source": [
    "### Add Noise to original dataset"
   ]
  },
  {
   "cell_type": "code",
   "execution_count": null,
   "metadata": {
    "id": "9Y0WZ8clrlOv"
   },
   "outputs": [],
   "source": [
    "n_houses = boston_df.shape[0]\n",
    "rand_noise = np.random.rand(n_houses, 5)\n",
    "\n",
    "rand_noise_df = pd.DataFrame(data=rand_noise, columns=['Noise_1', 'Noise_2', 'Noise_3', 'Noise_4', 'Noise_5'])\n",
    "X = pd.concat([boston_df, rand_noise_df], axis=1)\n",
    "y = boston['target']"
   ]
  },
  {
   "cell_type": "code",
   "execution_count": null,
   "metadata": {
    "colab": {
     "base_uri": "https://localhost:8080/",
     "height": 204
    },
    "id": "awd3-NXtrlOw",
    "outputId": "1e80d9a6-1ba0-49f4-aaa1-1acdea820d1d"
   },
   "outputs": [
    {
     "data": {
      "text/html": [
       "<div>\n",
       "<style scoped>\n",
       "    .dataframe tbody tr th:only-of-type {\n",
       "        vertical-align: middle;\n",
       "    }\n",
       "\n",
       "    .dataframe tbody tr th {\n",
       "        vertical-align: top;\n",
       "    }\n",
       "\n",
       "    .dataframe thead th {\n",
       "        text-align: right;\n",
       "    }\n",
       "</style>\n",
       "<table border=\"1\" class=\"dataframe\">\n",
       "  <thead>\n",
       "    <tr style=\"text-align: right;\">\n",
       "      <th></th>\n",
       "      <th>CRIM</th>\n",
       "      <th>ZN</th>\n",
       "      <th>INDUS</th>\n",
       "      <th>CHAS</th>\n",
       "      <th>NOX</th>\n",
       "      <th>RM</th>\n",
       "      <th>AGE</th>\n",
       "      <th>DIS</th>\n",
       "      <th>RAD</th>\n",
       "      <th>TAX</th>\n",
       "      <th>PTRATIO</th>\n",
       "      <th>B</th>\n",
       "      <th>LSTAT</th>\n",
       "      <th>Noise_1</th>\n",
       "      <th>Noise_2</th>\n",
       "      <th>Noise_3</th>\n",
       "      <th>Noise_4</th>\n",
       "      <th>Noise_5</th>\n",
       "    </tr>\n",
       "  </thead>\n",
       "  <tbody>\n",
       "    <tr>\n",
       "      <th>0</th>\n",
       "      <td>0.00632</td>\n",
       "      <td>18.0</td>\n",
       "      <td>2.31</td>\n",
       "      <td>0.0</td>\n",
       "      <td>0.538</td>\n",
       "      <td>6.575</td>\n",
       "      <td>65.2</td>\n",
       "      <td>4.0900</td>\n",
       "      <td>1.0</td>\n",
       "      <td>296.0</td>\n",
       "      <td>15.3</td>\n",
       "      <td>396.90</td>\n",
       "      <td>4.98</td>\n",
       "      <td>0.946161</td>\n",
       "      <td>0.547874</td>\n",
       "      <td>0.265781</td>\n",
       "      <td>0.765885</td>\n",
       "      <td>0.657550</td>\n",
       "    </tr>\n",
       "    <tr>\n",
       "      <th>1</th>\n",
       "      <td>0.02731</td>\n",
       "      <td>0.0</td>\n",
       "      <td>7.07</td>\n",
       "      <td>0.0</td>\n",
       "      <td>0.469</td>\n",
       "      <td>6.421</td>\n",
       "      <td>78.9</td>\n",
       "      <td>4.9671</td>\n",
       "      <td>2.0</td>\n",
       "      <td>242.0</td>\n",
       "      <td>17.8</td>\n",
       "      <td>396.90</td>\n",
       "      <td>9.14</td>\n",
       "      <td>0.820683</td>\n",
       "      <td>0.667998</td>\n",
       "      <td>0.451949</td>\n",
       "      <td>0.277083</td>\n",
       "      <td>0.055600</td>\n",
       "    </tr>\n",
       "    <tr>\n",
       "      <th>2</th>\n",
       "      <td>0.02729</td>\n",
       "      <td>0.0</td>\n",
       "      <td>7.07</td>\n",
       "      <td>0.0</td>\n",
       "      <td>0.469</td>\n",
       "      <td>7.185</td>\n",
       "      <td>61.1</td>\n",
       "      <td>4.9671</td>\n",
       "      <td>2.0</td>\n",
       "      <td>242.0</td>\n",
       "      <td>17.8</td>\n",
       "      <td>392.83</td>\n",
       "      <td>4.03</td>\n",
       "      <td>0.307936</td>\n",
       "      <td>0.046258</td>\n",
       "      <td>0.430027</td>\n",
       "      <td>0.225800</td>\n",
       "      <td>0.703648</td>\n",
       "    </tr>\n",
       "    <tr>\n",
       "      <th>3</th>\n",
       "      <td>0.03237</td>\n",
       "      <td>0.0</td>\n",
       "      <td>2.18</td>\n",
       "      <td>0.0</td>\n",
       "      <td>0.458</td>\n",
       "      <td>6.998</td>\n",
       "      <td>45.8</td>\n",
       "      <td>6.0622</td>\n",
       "      <td>3.0</td>\n",
       "      <td>222.0</td>\n",
       "      <td>18.7</td>\n",
       "      <td>394.63</td>\n",
       "      <td>2.94</td>\n",
       "      <td>0.220179</td>\n",
       "      <td>0.081432</td>\n",
       "      <td>0.838797</td>\n",
       "      <td>0.060033</td>\n",
       "      <td>0.750958</td>\n",
       "    </tr>\n",
       "    <tr>\n",
       "      <th>4</th>\n",
       "      <td>0.06905</td>\n",
       "      <td>0.0</td>\n",
       "      <td>2.18</td>\n",
       "      <td>0.0</td>\n",
       "      <td>0.458</td>\n",
       "      <td>7.147</td>\n",
       "      <td>54.2</td>\n",
       "      <td>6.0622</td>\n",
       "      <td>3.0</td>\n",
       "      <td>222.0</td>\n",
       "      <td>18.7</td>\n",
       "      <td>396.90</td>\n",
       "      <td>5.33</td>\n",
       "      <td>0.929425</td>\n",
       "      <td>0.107129</td>\n",
       "      <td>0.559668</td>\n",
       "      <td>0.451727</td>\n",
       "      <td>0.798710</td>\n",
       "    </tr>\n",
       "  </tbody>\n",
       "</table>\n",
       "</div>"
      ],
      "text/plain": [
       "      CRIM    ZN  INDUS  CHAS  ...   Noise_2   Noise_3   Noise_4   Noise_5\n",
       "0  0.00632  18.0   2.31   0.0  ...  0.547874  0.265781  0.765885  0.657550\n",
       "1  0.02731   0.0   7.07   0.0  ...  0.667998  0.451949  0.277083  0.055600\n",
       "2  0.02729   0.0   7.07   0.0  ...  0.046258  0.430027  0.225800  0.703648\n",
       "3  0.03237   0.0   2.18   0.0  ...  0.081432  0.838797  0.060033  0.750958\n",
       "4  0.06905   0.0   2.18   0.0  ...  0.107129  0.559668  0.451727  0.798710\n",
       "\n",
       "[5 rows x 18 columns]"
      ]
     },
     "execution_count": 85,
     "metadata": {
      "tags": []
     },
     "output_type": "execute_result"
    }
   ],
   "source": [
    "X.head()"
   ]
  },
  {
   "cell_type": "code",
   "execution_count": null,
   "metadata": {
    "colab": {
     "base_uri": "https://localhost:8080/"
    },
    "id": "i1VPiZonrlOw",
    "outputId": "3caf9f67-0151-497e-bc99-0ba44e854590"
   },
   "outputs": [
    {
     "data": {
      "text/plain": [
       "array([24. , 21.6, 34.7, 33.4, 36.2])"
      ]
     },
     "execution_count": 86,
     "metadata": {
      "tags": []
     },
     "output_type": "execute_result"
    }
   ],
   "source": [
    "y[0:5]"
   ]
  },
  {
   "cell_type": "markdown",
   "metadata": {
    "id": "AdwnqUEfrlOw"
   },
   "source": [
    "### PART 1\n",
    "Implement classical linear regression, Lasso, Ridge and ElasticNet (use the default parameter of sklearn) and describe how the scores of the features change"
   ]
  },
  {
   "cell_type": "code",
   "execution_count": null,
   "metadata": {
    "id": "1aYL5s9prlOx"
   },
   "outputs": [],
   "source": [
    "from sklearn.linear_model import LinearRegression, Lasso, Ridge, ElasticNet\n",
    "\n",
    "# CREATE MODEL INSTANCES\n",
    "\n",
    "# PUT YOUR CODE HERE"
   ]
  },
  {
   "cell_type": "code",
   "execution_count": null,
   "metadata": {
    "id": "6UBY5ep_rlOx"
   },
   "outputs": [],
   "source": [
    "from sklearn.preprocessing import StandardScaler\n",
    "\n",
    "boston_ss = StandardScaler()\n",
    "X_scaled = boston_ss.fit_transform(X=X)\n",
    "\n",
    "X_train, X_test, y_train, y_test = train_test_split(X_scaled, y, test_size=0.3, random_state=42)"
   ]
  },
  {
   "cell_type": "code",
   "execution_count": null,
   "metadata": {
    "colab": {
     "base_uri": "https://localhost:8080/",
     "height": 1000
    },
    "id": "3Dcw9wD0rlOx",
    "outputId": "ac231b75-73d1-48c2-b7d4-74b03cc043c5"
   },
   "outputs": [
    {
     "data": {
      "image/png": "[encoded data removed]",
      "text/plain": [
       "<Figure size 432x288 with 1 Axes>"
      ]
     },
     "metadata": {
      "needs_background": "light",
      "tags": []
     },
     "output_type": "display_data"
    },
    {
     "data": {
      "image/png": "[encoded data removed]",
      "text/plain": [
       "<Figure size 432x288 with 1 Axes>"
      ]
     },
     "metadata": {
      "needs_background": "light",
      "tags": []
     },
     "output_type": "display_data"
    },
    {
     "data": {
      "image/png": "[encoded data removed]",
      "text/plain": [
       "<Figure size 432x288 with 1 Axes>"
      ]
     },
     "metadata": {
      "needs_background": "light",
      "tags": []
     },
     "output_type": "display_data"
    },
    {
     "data": {
      "image/png": "[encoded data removed]",
      "text/plain": [
       "<Figure size 432x288 with 1 Axes>"
      ]
     },
     "metadata": {
      "needs_background": "light",
      "tags": []
     },
     "output_type": "display_data"
    },
    {
     "data": {
      "text/html": [
       "<div>\n",
       "<style scoped>\n",
       "    .dataframe tbody tr th:only-of-type {\n",
       "        vertical-align: middle;\n",
       "    }\n",
       "\n",
       "    .dataframe tbody tr th {\n",
       "        vertical-align: top;\n",
       "    }\n",
       "\n",
       "    .dataframe thead th {\n",
       "        text-align: right;\n",
       "    }\n",
       "</style>\n",
       "<table border=\"1\" class=\"dataframe\">\n",
       "  <thead>\n",
       "    <tr style=\"text-align: right;\">\n",
       "      <th></th>\n",
       "      <th>Feature Name</th>\n",
       "      <th>Linear Regression</th>\n",
       "      <th>Lasso</th>\n",
       "      <th>Ridge Regression</th>\n",
       "      <th>Elastic Net</th>\n",
       "    </tr>\n",
       "  </thead>\n",
       "  <tbody>\n",
       "    <tr>\n",
       "      <th>0</th>\n",
       "      <td>CRIM</td>\n",
       "      <td>-1.154108</td>\n",
       "      <td>-0.000000</td>\n",
       "      <td>-1.046894</td>\n",
       "      <td>-0.431235</td>\n",
       "    </tr>\n",
       "    <tr>\n",
       "      <th>1</th>\n",
       "      <td>ZN</td>\n",
       "      <td>0.762960</td>\n",
       "      <td>0.000000</td>\n",
       "      <td>0.605250</td>\n",
       "      <td>0.000000</td>\n",
       "    </tr>\n",
       "    <tr>\n",
       "      <th>2</th>\n",
       "      <td>INDUS</td>\n",
       "      <td>0.230400</td>\n",
       "      <td>-0.000000</td>\n",
       "      <td>0.040351</td>\n",
       "      <td>-0.179673</td>\n",
       "    </tr>\n",
       "    <tr>\n",
       "      <th>3</th>\n",
       "      <td>CHAS</td>\n",
       "      <td>0.838453</td>\n",
       "      <td>0.244363</td>\n",
       "      <td>0.875861</td>\n",
       "      <td>0.598768</td>\n",
       "    </tr>\n",
       "    <tr>\n",
       "      <th>4</th>\n",
       "      <td>NOX</td>\n",
       "      <td>-1.745758</td>\n",
       "      <td>-0.000000</td>\n",
       "      <td>-1.459493</td>\n",
       "      <td>-0.205846</td>\n",
       "    </tr>\n",
       "    <tr>\n",
       "      <th>5</th>\n",
       "      <td>RM</td>\n",
       "      <td>2.967243</td>\n",
       "      <td>2.690097</td>\n",
       "      <td>3.004116</td>\n",
       "      <td>2.391485</td>\n",
       "    </tr>\n",
       "    <tr>\n",
       "      <th>6</th>\n",
       "      <td>AGE</td>\n",
       "      <td>-0.339379</td>\n",
       "      <td>-0.000000</td>\n",
       "      <td>-0.349208</td>\n",
       "      <td>-0.000000</td>\n",
       "    </tr>\n",
       "    <tr>\n",
       "      <th>7</th>\n",
       "      <td>DIS</td>\n",
       "      <td>-2.988446</td>\n",
       "      <td>-0.000000</td>\n",
       "      <td>-2.634822</td>\n",
       "      <td>-0.000000</td>\n",
       "    </tr>\n",
       "    <tr>\n",
       "      <th>8</th>\n",
       "      <td>RAD</td>\n",
       "      <td>2.006163</td>\n",
       "      <td>-0.000000</td>\n",
       "      <td>1.424024</td>\n",
       "      <td>-0.000000</td>\n",
       "    </tr>\n",
       "    <tr>\n",
       "      <th>9</th>\n",
       "      <td>TAX</td>\n",
       "      <td>-1.380376</td>\n",
       "      <td>-0.000000</td>\n",
       "      <td>-0.902752</td>\n",
       "      <td>-0.259301</td>\n",
       "    </tr>\n",
       "    <tr>\n",
       "      <th>10</th>\n",
       "      <td>PTRATIO</td>\n",
       "      <td>-1.905350</td>\n",
       "      <td>-1.242464</td>\n",
       "      <td>-1.820330</td>\n",
       "      <td>-1.249299</td>\n",
       "    </tr>\n",
       "    <tr>\n",
       "      <th>11</th>\n",
       "      <td>B</td>\n",
       "      <td>1.113563</td>\n",
       "      <td>0.220679</td>\n",
       "      <td>1.081843</td>\n",
       "      <td>0.530744</td>\n",
       "    </tr>\n",
       "    <tr>\n",
       "      <th>12</th>\n",
       "      <td>LSTAT</td>\n",
       "      <td>-3.843102</td>\n",
       "      <td>-3.751752</td>\n",
       "      <td>-3.708522</td>\n",
       "      <td>-2.509837</td>\n",
       "    </tr>\n",
       "    <tr>\n",
       "      <th>13</th>\n",
       "      <td>Noise_1</td>\n",
       "      <td>-0.538730</td>\n",
       "      <td>-0.000000</td>\n",
       "      <td>-0.538558</td>\n",
       "      <td>-0.000000</td>\n",
       "    </tr>\n",
       "    <tr>\n",
       "      <th>14</th>\n",
       "      <td>Noise_2</td>\n",
       "      <td>0.236542</td>\n",
       "      <td>-0.000000</td>\n",
       "      <td>0.206246</td>\n",
       "      <td>-0.000000</td>\n",
       "    </tr>\n",
       "    <tr>\n",
       "      <th>15</th>\n",
       "      <td>Noise_3</td>\n",
       "      <td>0.123913</td>\n",
       "      <td>0.000000</td>\n",
       "      <td>0.119909</td>\n",
       "      <td>0.000000</td>\n",
       "    </tr>\n",
       "    <tr>\n",
       "      <th>16</th>\n",
       "      <td>Noise_4</td>\n",
       "      <td>-0.268853</td>\n",
       "      <td>-0.000000</td>\n",
       "      <td>-0.254737</td>\n",
       "      <td>-0.000000</td>\n",
       "    </tr>\n",
       "    <tr>\n",
       "      <th>17</th>\n",
       "      <td>Noise_5</td>\n",
       "      <td>-0.106691</td>\n",
       "      <td>0.000000</td>\n",
       "      <td>-0.102911</td>\n",
       "      <td>-0.000000</td>\n",
       "    </tr>\n",
       "  </tbody>\n",
       "</table>\n",
       "</div>"
      ],
      "text/plain": [
       "   Feature Name  Linear Regression     Lasso  Ridge Regression  Elastic Net\n",
       "0          CRIM          -1.154108 -0.000000         -1.046894    -0.431235\n",
       "1            ZN           0.762960  0.000000          0.605250     0.000000\n",
       "2         INDUS           0.230400 -0.000000          0.040351    -0.179673\n",
       "3          CHAS           0.838453  0.244363          0.875861     0.598768\n",
       "4           NOX          -1.745758 -0.000000         -1.459493    -0.205846\n",
       "5            RM           2.967243  2.690097          3.004116     2.391485\n",
       "6           AGE          -0.339379 -0.000000         -0.349208    -0.000000\n",
       "7           DIS          -2.988446 -0.000000         -2.634822    -0.000000\n",
       "8           RAD           2.006163 -0.000000          1.424024    -0.000000\n",
       "9           TAX          -1.380376 -0.000000         -0.902752    -0.259301\n",
       "10      PTRATIO          -1.905350 -1.242464         -1.820330    -1.249299\n",
       "11            B           1.113563  0.220679          1.081843     0.530744\n",
       "12        LSTAT          -3.843102 -3.751752         -3.708522    -2.509837\n",
       "13      Noise_1          -0.538730 -0.000000         -0.538558    -0.000000\n",
       "14      Noise_2           0.236542 -0.000000          0.206246    -0.000000\n",
       "15      Noise_3           0.123913  0.000000          0.119909     0.000000\n",
       "16      Noise_4          -0.268853 -0.000000         -0.254737    -0.000000\n",
       "17      Noise_5          -0.106691  0.000000         -0.102911    -0.000000"
      ]
     },
     "execution_count": 102,
     "metadata": {
      "tags": []
     },
     "output_type": "execute_result"
    }
   ],
   "source": [
    "## FITTING OF THE MODELS AND RESULTS\n",
    "\n",
    "# PUT YOUR CODE HERE"
   ]
  },
  {
   "cell_type": "markdown",
   "metadata": {
    "id": "Ismbh5XcrlOy"
   },
   "source": [
    "DESCRIBE THE RESULTS"
   ]
  },
  {
   "cell_type": "markdown",
   "metadata": {
    "id": "LjXbuypVrlOy"
   },
   "source": [
    "#### Model Scores"
   ]
  },
  {
   "cell_type": "code",
   "execution_count": null,
   "metadata": {
    "colab": {
     "base_uri": "https://localhost:8080/"
    },
    "id": "WNqriE1DrlOz",
    "outputId": "2d296de5-6246-479b-c9d3-0d183d1bfea9"
   },
   "outputs": [
    {
     "name": "stdout",
     "output_type": "stream",
     "text": [
      "Linear Regression\n",
      "r2 score of Linear Regression: 0.705\n",
      "Mean Squared Error of Linear Regression: 21.973\n",
      "#======================================#\n",
      "Lasso\n",
      "r2 score of Lasso: 0.645\n",
      "Mean Squared Error of Lasso: 26.489\n",
      "#======================================#\n",
      "Ridge Regression\n",
      "r2 score of Ridge Regression: 0.701\n",
      "Mean Squared Error of Ridge Regression: 22.250\n",
      "#======================================#\n",
      "Elastic Net\n",
      "r2 score of Elastic Net: 0.633\n",
      "Mean Squared Error of Elastic Net: 27.341\n",
      "#======================================#\n"
     ]
    }
   ],
   "source": [
    "# PUT YOUR CODE HERE"
   ]
  },
  {
   "cell_type": "markdown",
   "metadata": {
    "id": "L70ruB8irlOz"
   },
   "source": [
    "DESCRIBE THE RESULTS"
   ]
  },
  {
   "cell_type": "markdown",
   "metadata": {
    "id": "OtQZH2vprlO0"
   },
   "source": [
    "### PART 2 - LASSO\n",
    "\n",
    "Alpha parameter:  Apply Lasso with different values of alpha and describe how the parameters scores change\n",
    "\n",
    "- Complete the function and apply it to the following values: [0, .0001, .5, 10]\n",
    "- Describe the results"
   ]
  },
  {
   "cell_type": "code",
   "execution_count": null,
   "metadata": {
    "id": "iyzg9ZN3rlO0"
   },
   "outputs": [],
   "source": [
    "names = names = X.columns\n",
    "\n",
    "# Create a function called lasso,\n",
    "def lasso(alphas):\n",
    "    '''\n",
    "    Takes in a list of alphas. Outputs a dataframe containing the coefficients of lasso regressions from each alpha.\n",
    "    '''\n",
    "    # Create an empty data frame\n",
    "    df = pd.DataFrame()\n",
    "    \n",
    "    # Create a column of feature names\n",
    "    df['Feature Name'] = names\n",
    "    \n",
    "    # For each alpha value in the list of alpha values,\n",
    "    for alpha in alphas:\n",
    "        # Create a lasso regression with that alpha value,\n",
    "\n",
    "        # ********************************************************\n",
    "        lasso = # PUT YOUR CODE HERE  ********************************************************\n",
    "        # ********************************************************\n",
    "        \n",
    "        # Fit the lasso regression\n",
    "        lasso.fit(X_scaled, y)\n",
    "        \n",
    "        # Create a column name for that alpha value\n",
    "        column_name = 'Alpha = %f' % alpha\n",
    "\n",
    "        # Create a column of coefficient values\n",
    "        df[column_name] = lasso.coef_\n",
    "        \n",
    "    # Return the dataframe  \n",
    "    return df"
   ]
  },
  {
   "cell_type": "code",
   "execution_count": null,
   "metadata": {
    "colab": {
     "base_uri": "https://localhost:8080/",
     "height": 712
    },
    "id": "n8rri3F_rlO0",
    "outputId": "8000de4b-3ffd-4637-feeb-c14cbfa72707"
   },
   "outputs": [
    {
     "name": "stderr",
     "output_type": "stream",
     "text": [
      "/usr/local/lib/python3.6/dist-packages/ipykernel_launcher.py:20: UserWarning: With alpha=0, this algorithm does not converge well. You are advised to use the LinearRegression estimator\n",
      "/usr/local/lib/python3.6/dist-packages/sklearn/linear_model/_coordinate_descent.py:476: UserWarning: Coordinate descent with no regularization may lead to unexpected results and is discouraged.\n",
      "  positive)\n",
      "/usr/local/lib/python3.6/dist-packages/sklearn/linear_model/_coordinate_descent.py:476: ConvergenceWarning: Objective did not converge. You might want to increase the number of iterations. Duality gap: 5475.411597830812, tolerance: 4.2716295415019765\n",
      "  positive)\n"
     ]
    },
    {
     "data": {
      "text/html": [
       "<div>\n",
       "<style scoped>\n",
       "    .dataframe tbody tr th:only-of-type {\n",
       "        vertical-align: middle;\n",
       "    }\n",
       "\n",
       "    .dataframe tbody tr th {\n",
       "        vertical-align: top;\n",
       "    }\n",
       "\n",
       "    .dataframe thead th {\n",
       "        text-align: right;\n",
       "    }\n",
       "</style>\n",
       "<table border=\"1\" class=\"dataframe\">\n",
       "  <thead>\n",
       "    <tr style=\"text-align: right;\">\n",
       "      <th></th>\n",
       "      <th>Feature Name</th>\n",
       "      <th>Alpha = 0.000000</th>\n",
       "      <th>Alpha = 0.000100</th>\n",
       "      <th>Alpha = 0.500000</th>\n",
       "      <th>Alpha = 10.000000</th>\n",
       "    </tr>\n",
       "  </thead>\n",
       "  <tbody>\n",
       "    <tr>\n",
       "      <th>0</th>\n",
       "      <td>CRIM</td>\n",
       "      <td>-0.899567</td>\n",
       "      <td>-0.899297</td>\n",
       "      <td>-0.115266</td>\n",
       "      <td>-0.0</td>\n",
       "    </tr>\n",
       "    <tr>\n",
       "      <th>1</th>\n",
       "      <td>ZN</td>\n",
       "      <td>1.069445</td>\n",
       "      <td>1.069016</td>\n",
       "      <td>0.000000</td>\n",
       "      <td>0.0</td>\n",
       "    </tr>\n",
       "    <tr>\n",
       "      <th>2</th>\n",
       "      <td>INDUS</td>\n",
       "      <td>0.089089</td>\n",
       "      <td>0.088158</td>\n",
       "      <td>-0.000000</td>\n",
       "      <td>-0.0</td>\n",
       "    </tr>\n",
       "    <tr>\n",
       "      <th>3</th>\n",
       "      <td>CHAS</td>\n",
       "      <td>0.709774</td>\n",
       "      <td>0.709788</td>\n",
       "      <td>0.397079</td>\n",
       "      <td>0.0</td>\n",
       "    </tr>\n",
       "    <tr>\n",
       "      <th>4</th>\n",
       "      <td>NOX</td>\n",
       "      <td>-2.053140</td>\n",
       "      <td>-2.052481</td>\n",
       "      <td>-0.000000</td>\n",
       "      <td>-0.0</td>\n",
       "    </tr>\n",
       "    <tr>\n",
       "      <th>5</th>\n",
       "      <td>RM</td>\n",
       "      <td>2.780503</td>\n",
       "      <td>2.780568</td>\n",
       "      <td>2.974258</td>\n",
       "      <td>0.0</td>\n",
       "    </tr>\n",
       "    <tr>\n",
       "      <th>6</th>\n",
       "      <td>AGE</td>\n",
       "      <td>-0.025330</td>\n",
       "      <td>-0.025150</td>\n",
       "      <td>-0.000000</td>\n",
       "      <td>-0.0</td>\n",
       "    </tr>\n",
       "    <tr>\n",
       "      <th>7</th>\n",
       "      <td>DIS</td>\n",
       "      <td>-3.191567</td>\n",
       "      <td>-3.190947</td>\n",
       "      <td>-0.170570</td>\n",
       "      <td>0.0</td>\n",
       "    </tr>\n",
       "    <tr>\n",
       "      <th>8</th>\n",
       "      <td>RAD</td>\n",
       "      <td>2.566347</td>\n",
       "      <td>2.564583</td>\n",
       "      <td>-0.000000</td>\n",
       "      <td>-0.0</td>\n",
       "    </tr>\n",
       "    <tr>\n",
       "      <th>9</th>\n",
       "      <td>TAX</td>\n",
       "      <td>-2.007605</td>\n",
       "      <td>-2.005848</td>\n",
       "      <td>-0.000000</td>\n",
       "      <td>-0.0</td>\n",
       "    </tr>\n",
       "    <tr>\n",
       "      <th>10</th>\n",
       "      <td>PTRATIO</td>\n",
       "      <td>-2.041269</td>\n",
       "      <td>-2.041036</td>\n",
       "      <td>-1.598448</td>\n",
       "      <td>-0.0</td>\n",
       "    </tr>\n",
       "    <tr>\n",
       "      <th>11</th>\n",
       "      <td>B</td>\n",
       "      <td>0.877102</td>\n",
       "      <td>0.876976</td>\n",
       "      <td>0.543138</td>\n",
       "      <td>0.0</td>\n",
       "    </tr>\n",
       "    <tr>\n",
       "      <th>12</th>\n",
       "      <td>LSTAT</td>\n",
       "      <td>-3.686934</td>\n",
       "      <td>-3.686937</td>\n",
       "      <td>-3.666145</td>\n",
       "      <td>-0.0</td>\n",
       "    </tr>\n",
       "    <tr>\n",
       "      <th>13</th>\n",
       "      <td>Noise_1</td>\n",
       "      <td>-0.366905</td>\n",
       "      <td>-0.366861</td>\n",
       "      <td>-0.000000</td>\n",
       "      <td>-0.0</td>\n",
       "    </tr>\n",
       "    <tr>\n",
       "      <th>14</th>\n",
       "      <td>Noise_2</td>\n",
       "      <td>0.289183</td>\n",
       "      <td>0.289038</td>\n",
       "      <td>0.000000</td>\n",
       "      <td>-0.0</td>\n",
       "    </tr>\n",
       "    <tr>\n",
       "      <th>15</th>\n",
       "      <td>Noise_3</td>\n",
       "      <td>0.016143</td>\n",
       "      <td>0.016040</td>\n",
       "      <td>-0.000000</td>\n",
       "      <td>-0.0</td>\n",
       "    </tr>\n",
       "    <tr>\n",
       "      <th>16</th>\n",
       "      <td>Noise_4</td>\n",
       "      <td>-0.161795</td>\n",
       "      <td>-0.161719</td>\n",
       "      <td>-0.000000</td>\n",
       "      <td>0.0</td>\n",
       "    </tr>\n",
       "    <tr>\n",
       "      <th>17</th>\n",
       "      <td>Noise_5</td>\n",
       "      <td>0.060785</td>\n",
       "      <td>0.060648</td>\n",
       "      <td>0.000000</td>\n",
       "      <td>-0.0</td>\n",
       "    </tr>\n",
       "  </tbody>\n",
       "</table>\n",
       "</div>"
      ],
      "text/plain": [
       "   Feature Name  Alpha = 0.000000  ...  Alpha = 0.500000  Alpha = 10.000000\n",
       "0          CRIM         -0.899567  ...         -0.115266               -0.0\n",
       "1            ZN          1.069445  ...          0.000000                0.0\n",
       "2         INDUS          0.089089  ...         -0.000000               -0.0\n",
       "3          CHAS          0.709774  ...          0.397079                0.0\n",
       "4           NOX         -2.053140  ...         -0.000000               -0.0\n",
       "5            RM          2.780503  ...          2.974258                0.0\n",
       "6           AGE         -0.025330  ...         -0.000000               -0.0\n",
       "7           DIS         -3.191567  ...         -0.170570                0.0\n",
       "8           RAD          2.566347  ...         -0.000000               -0.0\n",
       "9           TAX         -2.007605  ...         -0.000000               -0.0\n",
       "10      PTRATIO         -2.041269  ...         -1.598448               -0.0\n",
       "11            B          0.877102  ...          0.543138                0.0\n",
       "12        LSTAT         -3.686934  ...         -3.666145               -0.0\n",
       "13      Noise_1         -0.366905  ...         -0.000000               -0.0\n",
       "14      Noise_2          0.289183  ...          0.000000               -0.0\n",
       "15      Noise_3          0.016143  ...         -0.000000               -0.0\n",
       "16      Noise_4         -0.161795  ...         -0.000000                0.0\n",
       "17      Noise_5          0.060785  ...          0.000000               -0.0\n",
       "\n",
       "[18 rows x 5 columns]"
      ]
     },
     "execution_count": 105,
     "metadata": {
      "tags": []
     },
     "output_type": "execute_result"
    }
   ],
   "source": [
    "lasso([0, .0001, .5, 10])"
   ]
  },
  {
   "cell_type": "markdown",
   "metadata": {
    "id": "ODQprlLj_GrN"
   },
   "source": [
    "DESCRIBE THE RESULTS"
   ]
  },
  {
   "cell_type": "markdown",
   "metadata": {
    "id": "49UngIfqrlO1"
   },
   "source": [
    "### PART 2 - RIDGE\n",
    "Apply Ridge with different values of alpha and describe how the parameters scores change\n",
    "- Complete the function and apply it to the following values: [0, .0001, .5, 10]\n",
    "- Describe the results"
   ]
  },
  {
   "cell_type": "code",
   "execution_count": null,
   "metadata": {
    "id": "zowTVuiArlO1"
   },
   "outputs": [],
   "source": [
    "names = names = X.columns\n",
    "\n",
    "# Create a function called lasso,\n",
    "def ridge(alphas):\n",
    "    '''\n",
    "    Takes in a list of alphas. Outputs a dataframe containing the coefficients of ridge regressions from each alpha.\n",
    "    '''\n",
    "    # Create an empty data frame\n",
    "    df = pd.DataFrame()\n",
    "    \n",
    "    # Create a column of feature names\n",
    "    df['Feature Name'] = names\n",
    "    \n",
    "    # For each alpha value in the list of alpha values,\n",
    "    for alpha in alphas:\n",
    "        # Create a Ridge regression with that alpha value,\n",
    "        \n",
    "        #********************************************************\n",
    "        ridge = # PUT YOUR CODE HERE  ********************************************************\n",
    "        #********************************************************\n",
    "        \n",
    "        # Fit the lasso regression\n",
    "        ridge.fit(X_scaled, y)\n",
    "        \n",
    "        # Create a column name for that alpha value\n",
    "        column_name = 'Alpha = %f' % alpha\n",
    "\n",
    "        # Create a column of coefficient values\n",
    "        df[column_name] = ridge.coef_\n",
    "        \n",
    "    # Return the dataframe  \n",
    "    return df"
   ]
  },
  {
   "cell_type": "code",
   "execution_count": null,
   "metadata": {
    "colab": {
     "base_uri": "https://localhost:8080/",
     "height": 607
    },
    "id": "S0Ppvg7arlO2",
    "outputId": "11a2a16d-1ae7-4ef5-d5bd-7f5b9d6d509d"
   },
   "outputs": [
    {
     "data": {
      "text/html": [
       "<div>\n",
       "<style scoped>\n",
       "    .dataframe tbody tr th:only-of-type {\n",
       "        vertical-align: middle;\n",
       "    }\n",
       "\n",
       "    .dataframe tbody tr th {\n",
       "        vertical-align: top;\n",
       "    }\n",
       "\n",
       "    .dataframe thead th {\n",
       "        text-align: right;\n",
       "    }\n",
       "</style>\n",
       "<table border=\"1\" class=\"dataframe\">\n",
       "  <thead>\n",
       "    <tr style=\"text-align: right;\">\n",
       "      <th></th>\n",
       "      <th>Feature Name</th>\n",
       "      <th>Alpha = 0.000000</th>\n",
       "      <th>Alpha = 0.000010</th>\n",
       "      <th>Alpha = 0.500000</th>\n",
       "      <th>Alpha = 10.000000</th>\n",
       "    </tr>\n",
       "  </thead>\n",
       "  <tbody>\n",
       "    <tr>\n",
       "      <th>0</th>\n",
       "      <td>CRIM</td>\n",
       "      <td>-0.899567</td>\n",
       "      <td>-0.899567</td>\n",
       "      <td>-0.895435</td>\n",
       "      <td>-0.831521</td>\n",
       "    </tr>\n",
       "    <tr>\n",
       "      <th>1</th>\n",
       "      <td>ZN</td>\n",
       "      <td>1.069445</td>\n",
       "      <td>1.069445</td>\n",
       "      <td>1.061865</td>\n",
       "      <td>0.944002</td>\n",
       "    </tr>\n",
       "    <tr>\n",
       "      <th>2</th>\n",
       "      <td>INDUS</td>\n",
       "      <td>0.089089</td>\n",
       "      <td>0.089089</td>\n",
       "      <td>0.077729</td>\n",
       "      <td>-0.082983</td>\n",
       "    </tr>\n",
       "    <tr>\n",
       "      <th>3</th>\n",
       "      <td>CHAS</td>\n",
       "      <td>0.709774</td>\n",
       "      <td>0.709774</td>\n",
       "      <td>0.711420</td>\n",
       "      <td>0.734210</td>\n",
       "    </tr>\n",
       "    <tr>\n",
       "      <th>4</th>\n",
       "      <td>NOX</td>\n",
       "      <td>-2.053140</td>\n",
       "      <td>-2.053140</td>\n",
       "      <td>-2.039173</td>\n",
       "      <td>-1.809355</td>\n",
       "    </tr>\n",
       "    <tr>\n",
       "      <th>5</th>\n",
       "      <td>RM</td>\n",
       "      <td>2.780503</td>\n",
       "      <td>2.780503</td>\n",
       "      <td>2.784706</td>\n",
       "      <td>2.844975</td>\n",
       "    </tr>\n",
       "    <tr>\n",
       "      <th>6</th>\n",
       "      <td>AGE</td>\n",
       "      <td>-0.025330</td>\n",
       "      <td>-0.025330</td>\n",
       "      <td>-0.028258</td>\n",
       "      <td>-0.071929</td>\n",
       "    </tr>\n",
       "    <tr>\n",
       "      <th>7</th>\n",
       "      <td>DIS</td>\n",
       "      <td>-3.191567</td>\n",
       "      <td>-3.191567</td>\n",
       "      <td>-3.177576</td>\n",
       "      <td>-2.933415</td>\n",
       "    </tr>\n",
       "    <tr>\n",
       "      <th>8</th>\n",
       "      <td>RAD</td>\n",
       "      <td>2.566347</td>\n",
       "      <td>2.566346</td>\n",
       "      <td>2.531625</td>\n",
       "      <td>2.020939</td>\n",
       "    </tr>\n",
       "    <tr>\n",
       "      <th>9</th>\n",
       "      <td>TAX</td>\n",
       "      <td>-2.007605</td>\n",
       "      <td>-2.007604</td>\n",
       "      <td>-1.975169</td>\n",
       "      <td>-1.515904</td>\n",
       "    </tr>\n",
       "    <tr>\n",
       "      <th>10</th>\n",
       "      <td>PTRATIO</td>\n",
       "      <td>-2.041269</td>\n",
       "      <td>-2.041269</td>\n",
       "      <td>-2.036840</td>\n",
       "      <td>-1.964461</td>\n",
       "    </tr>\n",
       "    <tr>\n",
       "      <th>11</th>\n",
       "      <td>B</td>\n",
       "      <td>0.877102</td>\n",
       "      <td>0.877102</td>\n",
       "      <td>0.876812</td>\n",
       "      <td>0.870806</td>\n",
       "    </tr>\n",
       "    <tr>\n",
       "      <th>12</th>\n",
       "      <td>LSTAT</td>\n",
       "      <td>-3.686934</td>\n",
       "      <td>-3.686934</td>\n",
       "      <td>-3.680679</td>\n",
       "      <td>-3.572513</td>\n",
       "    </tr>\n",
       "    <tr>\n",
       "      <th>13</th>\n",
       "      <td>Noise_1</td>\n",
       "      <td>-0.366905</td>\n",
       "      <td>-0.366905</td>\n",
       "      <td>-0.367732</td>\n",
       "      <td>-0.377122</td>\n",
       "    </tr>\n",
       "    <tr>\n",
       "      <th>14</th>\n",
       "      <td>Noise_2</td>\n",
       "      <td>0.289183</td>\n",
       "      <td>0.289183</td>\n",
       "      <td>0.287916</td>\n",
       "      <td>0.265459</td>\n",
       "    </tr>\n",
       "    <tr>\n",
       "      <th>15</th>\n",
       "      <td>Noise_3</td>\n",
       "      <td>0.016143</td>\n",
       "      <td>0.016143</td>\n",
       "      <td>0.015494</td>\n",
       "      <td>0.004062</td>\n",
       "    </tr>\n",
       "    <tr>\n",
       "      <th>16</th>\n",
       "      <td>Noise_4</td>\n",
       "      <td>-0.161795</td>\n",
       "      <td>-0.161795</td>\n",
       "      <td>-0.161438</td>\n",
       "      <td>-0.154323</td>\n",
       "    </tr>\n",
       "    <tr>\n",
       "      <th>17</th>\n",
       "      <td>Noise_5</td>\n",
       "      <td>0.060785</td>\n",
       "      <td>0.060785</td>\n",
       "      <td>0.060291</td>\n",
       "      <td>0.053702</td>\n",
       "    </tr>\n",
       "  </tbody>\n",
       "</table>\n",
       "</div>"
      ],
      "text/plain": [
       "   Feature Name  Alpha = 0.000000  ...  Alpha = 0.500000  Alpha = 10.000000\n",
       "0          CRIM         -0.899567  ...         -0.895435          -0.831521\n",
       "1            ZN          1.069445  ...          1.061865           0.944002\n",
       "2         INDUS          0.089089  ...          0.077729          -0.082983\n",
       "3          CHAS          0.709774  ...          0.711420           0.734210\n",
       "4           NOX         -2.053140  ...         -2.039173          -1.809355\n",
       "5            RM          2.780503  ...          2.784706           2.844975\n",
       "6           AGE         -0.025330  ...         -0.028258          -0.071929\n",
       "7           DIS         -3.191567  ...         -3.177576          -2.933415\n",
       "8           RAD          2.566347  ...          2.531625           2.020939\n",
       "9           TAX         -2.007605  ...         -1.975169          -1.515904\n",
       "10      PTRATIO         -2.041269  ...         -2.036840          -1.964461\n",
       "11            B          0.877102  ...          0.876812           0.870806\n",
       "12        LSTAT         -3.686934  ...         -3.680679          -3.572513\n",
       "13      Noise_1         -0.366905  ...         -0.367732          -0.377122\n",
       "14      Noise_2          0.289183  ...          0.287916           0.265459\n",
       "15      Noise_3          0.016143  ...          0.015494           0.004062\n",
       "16      Noise_4         -0.161795  ...         -0.161438          -0.154323\n",
       "17      Noise_5          0.060785  ...          0.060291           0.053702\n",
       "\n",
       "[18 rows x 5 columns]"
      ]
     },
     "execution_count": 107,
     "metadata": {
      "tags": []
     },
     "output_type": "execute_result"
    }
   ],
   "source": [
    "ridge([0, .00001, .5, 10])"
   ]
  },
  {
   "cell_type": "markdown",
   "metadata": {
    "id": "bfg6GO6KrlO2"
   },
   "source": [
    "In practice, we will not manually look for the best alpha coefficient. Both in Lasso and ridge regression, the alpha is a hyperparameter. Therefore, we will find the best one via crossvalidation. Fortunately, sklearn has a function that performs CV to find the optimal alpha automatically."
   ]
  },
  {
   "cell_type": "code",
   "execution_count": null,
   "metadata": {
    "colab": {
     "base_uri": "https://localhost:8080/"
    },
    "id": "D1qHebIxrlO3",
    "outputId": "a599e84e-98e1-4ac6-a583-72e2656513c6"
   },
   "outputs": [
    {
     "data": {
      "text/plain": [
       "0.0016115005701479886"
      ]
     },
     "execution_count": 108,
     "metadata": {
      "tags": []
     },
     "output_type": "execute_result"
    }
   ],
   "source": [
    "from sklearn.linear_model import LassoCV\n",
    "\n",
    "reg = LassoCV(max_iter = 5000, cv = 20, normalize=True).fit(X_train, y_train)\n",
    "reg.alpha_"
   ]
  },
  {
   "cell_type": "markdown",
   "metadata": {
    "id": "QnAqK5LZ93oe"
   },
   "source": [
    "### PART 2 - ELASTICNET\n",
    "Apply Elasticnet with different values of alpha and describe how the parameters scores change\n",
    "- Complete the function and apply it to the following values: [0, .0001, .5, 10]\n",
    "- Describe the results"
   ]
  },
  {
   "cell_type": "code",
   "execution_count": null,
   "metadata": {
    "id": "JfvLPHWNrlO3"
   },
   "outputs": [],
   "source": [
    "names = names = X.columns\n",
    "\n",
    "# Create a function called lasso,\n",
    "def elastic(alphas):\n",
    "    '''\n",
    "    Takes in a list of alphas. Outputs a dataframe containing the coefficients of ridge regressions from each alpha.\n",
    "    '''\n",
    "    # Create an empty data frame\n",
    "    df = pd.DataFrame()\n",
    "    \n",
    "    # Create a column of feature names\n",
    "    df['Feature Name'] = names\n",
    "    \n",
    "    # For each alpha value in the list of alpha values,\n",
    "    for alpha in alphas:\n",
    "        # Create a Ridge regression with that alpha value,\n",
    "        elastic = # PUT YOUR CODE HERE\n",
    "        \n",
    "        # Fit the lasso regression\n",
    "        elastic.fit(X_scaled, y)\n",
    "        \n",
    "        # Create a column name for that alpha value\n",
    "        column_name = 'Alpha = %f' % alpha\n",
    "\n",
    "        # Create a column of coefficient values\n",
    "        df[column_name] = elastic.coef_\n",
    "        \n",
    "    # Return the dataframe  \n",
    "    return df"
   ]
  },
  {
   "cell_type": "code",
   "execution_count": null,
   "metadata": {
    "colab": {
     "base_uri": "https://localhost:8080/",
     "height": 712
    },
    "id": "A9UFU4jj-Ihe",
    "outputId": "36af48a9-46ff-4a35-b9bd-7485474f8286"
   },
   "outputs": [
    {
     "name": "stderr",
     "output_type": "stream",
     "text": [
      "/usr/local/lib/python3.6/dist-packages/ipykernel_launcher.py:20: UserWarning: With alpha=0, this algorithm does not converge well. You are advised to use the LinearRegression estimator\n",
      "/usr/local/lib/python3.6/dist-packages/sklearn/linear_model/_coordinate_descent.py:476: UserWarning: Coordinate descent with no regularization may lead to unexpected results and is discouraged.\n",
      "  positive)\n",
      "/usr/local/lib/python3.6/dist-packages/sklearn/linear_model/_coordinate_descent.py:476: ConvergenceWarning: Objective did not converge. You might want to increase the number of iterations. Duality gap: 5475.411597830812, tolerance: 4.2716295415019765\n",
      "  positive)\n"
     ]
    },
    {
     "data": {
      "text/html": [
       "<div>\n",
       "<style scoped>\n",
       "    .dataframe tbody tr th:only-of-type {\n",
       "        vertical-align: middle;\n",
       "    }\n",
       "\n",
       "    .dataframe tbody tr th {\n",
       "        vertical-align: top;\n",
       "    }\n",
       "\n",
       "    .dataframe thead th {\n",
       "        text-align: right;\n",
       "    }\n",
       "</style>\n",
       "<table border=\"1\" class=\"dataframe\">\n",
       "  <thead>\n",
       "    <tr style=\"text-align: right;\">\n",
       "      <th></th>\n",
       "      <th>Feature Name</th>\n",
       "      <th>Alpha = 0.000000</th>\n",
       "      <th>Alpha = 0.000010</th>\n",
       "      <th>Alpha = 0.500000</th>\n",
       "      <th>Alpha = 10.000000</th>\n",
       "    </tr>\n",
       "  </thead>\n",
       "  <tbody>\n",
       "    <tr>\n",
       "      <th>0</th>\n",
       "      <td>CRIM</td>\n",
       "      <td>-0.899567</td>\n",
       "      <td>-0.899532</td>\n",
       "      <td>-0.398816</td>\n",
       "      <td>-0.000000</td>\n",
       "    </tr>\n",
       "    <tr>\n",
       "      <th>1</th>\n",
       "      <td>ZN</td>\n",
       "      <td>1.069445</td>\n",
       "      <td>1.069385</td>\n",
       "      <td>0.238495</td>\n",
       "      <td>0.000000</td>\n",
       "    </tr>\n",
       "    <tr>\n",
       "      <th>2</th>\n",
       "      <td>INDUS</td>\n",
       "      <td>0.089089</td>\n",
       "      <td>0.088984</td>\n",
       "      <td>-0.270682</td>\n",
       "      <td>-0.000000</td>\n",
       "    </tr>\n",
       "    <tr>\n",
       "      <th>3</th>\n",
       "      <td>CHAS</td>\n",
       "      <td>0.709774</td>\n",
       "      <td>0.709784</td>\n",
       "      <td>0.578833</td>\n",
       "      <td>0.000000</td>\n",
       "    </tr>\n",
       "    <tr>\n",
       "      <th>4</th>\n",
       "      <td>NOX</td>\n",
       "      <td>-2.053140</td>\n",
       "      <td>-2.053036</td>\n",
       "      <td>-0.493589</td>\n",
       "      <td>-0.000000</td>\n",
       "    </tr>\n",
       "    <tr>\n",
       "      <th>5</th>\n",
       "      <td>RM</td>\n",
       "      <td>2.780503</td>\n",
       "      <td>2.780528</td>\n",
       "      <td>2.737463</td>\n",
       "      <td>0.203314</td>\n",
       "    </tr>\n",
       "    <tr>\n",
       "      <th>6</th>\n",
       "      <td>AGE</td>\n",
       "      <td>-0.025330</td>\n",
       "      <td>-0.025336</td>\n",
       "      <td>-0.000000</td>\n",
       "      <td>-0.000000</td>\n",
       "    </tr>\n",
       "    <tr>\n",
       "      <th>7</th>\n",
       "      <td>DIS</td>\n",
       "      <td>-3.191567</td>\n",
       "      <td>-3.191465</td>\n",
       "      <td>-0.716170</td>\n",
       "      <td>0.000000</td>\n",
       "    </tr>\n",
       "    <tr>\n",
       "      <th>8</th>\n",
       "      <td>RAD</td>\n",
       "      <td>2.566347</td>\n",
       "      <td>2.566081</td>\n",
       "      <td>0.000000</td>\n",
       "      <td>-0.000000</td>\n",
       "    </tr>\n",
       "    <tr>\n",
       "      <th>9</th>\n",
       "      <td>TAX</td>\n",
       "      <td>-2.007605</td>\n",
       "      <td>-2.007350</td>\n",
       "      <td>-0.234007</td>\n",
       "      <td>-0.000000</td>\n",
       "    </tr>\n",
       "    <tr>\n",
       "      <th>10</th>\n",
       "      <td>PTRATIO</td>\n",
       "      <td>-2.041269</td>\n",
       "      <td>-2.041235</td>\n",
       "      <td>-1.477761</td>\n",
       "      <td>-0.000000</td>\n",
       "    </tr>\n",
       "    <tr>\n",
       "      <th>11</th>\n",
       "      <td>B</td>\n",
       "      <td>0.877102</td>\n",
       "      <td>0.877094</td>\n",
       "      <td>0.613193</td>\n",
       "      <td>0.000000</td>\n",
       "    </tr>\n",
       "    <tr>\n",
       "      <th>12</th>\n",
       "      <td>LSTAT</td>\n",
       "      <td>-3.686934</td>\n",
       "      <td>-3.686902</td>\n",
       "      <td>-2.825324</td>\n",
       "      <td>-0.275476</td>\n",
       "    </tr>\n",
       "    <tr>\n",
       "      <th>13</th>\n",
       "      <td>Noise_1</td>\n",
       "      <td>-0.366905</td>\n",
       "      <td>-0.366907</td>\n",
       "      <td>-0.100028</td>\n",
       "      <td>-0.000000</td>\n",
       "    </tr>\n",
       "    <tr>\n",
       "      <th>14</th>\n",
       "      <td>Noise_2</td>\n",
       "      <td>0.289183</td>\n",
       "      <td>0.289169</td>\n",
       "      <td>0.000000</td>\n",
       "      <td>-0.000000</td>\n",
       "    </tr>\n",
       "    <tr>\n",
       "      <th>15</th>\n",
       "      <td>Noise_3</td>\n",
       "      <td>0.016143</td>\n",
       "      <td>0.016134</td>\n",
       "      <td>-0.000000</td>\n",
       "      <td>-0.000000</td>\n",
       "    </tr>\n",
       "    <tr>\n",
       "      <th>16</th>\n",
       "      <td>Noise_4</td>\n",
       "      <td>-0.161795</td>\n",
       "      <td>-0.161790</td>\n",
       "      <td>-0.000000</td>\n",
       "      <td>0.000000</td>\n",
       "    </tr>\n",
       "    <tr>\n",
       "      <th>17</th>\n",
       "      <td>Noise_5</td>\n",
       "      <td>0.060785</td>\n",
       "      <td>0.060776</td>\n",
       "      <td>0.000000</td>\n",
       "      <td>-0.000000</td>\n",
       "    </tr>\n",
       "  </tbody>\n",
       "</table>\n",
       "</div>"
      ],
      "text/plain": [
       "   Feature Name  Alpha = 0.000000  ...  Alpha = 0.500000  Alpha = 10.000000\n",
       "0          CRIM         -0.899567  ...         -0.398816          -0.000000\n",
       "1            ZN          1.069445  ...          0.238495           0.000000\n",
       "2         INDUS          0.089089  ...         -0.270682          -0.000000\n",
       "3          CHAS          0.709774  ...          0.578833           0.000000\n",
       "4           NOX         -2.053140  ...         -0.493589          -0.000000\n",
       "5            RM          2.780503  ...          2.737463           0.203314\n",
       "6           AGE         -0.025330  ...         -0.000000          -0.000000\n",
       "7           DIS         -3.191567  ...         -0.716170           0.000000\n",
       "8           RAD          2.566347  ...          0.000000          -0.000000\n",
       "9           TAX         -2.007605  ...         -0.234007          -0.000000\n",
       "10      PTRATIO         -2.041269  ...         -1.477761          -0.000000\n",
       "11            B          0.877102  ...          0.613193           0.000000\n",
       "12        LSTAT         -3.686934  ...         -2.825324          -0.275476\n",
       "13      Noise_1         -0.366905  ...         -0.100028          -0.000000\n",
       "14      Noise_2          0.289183  ...          0.000000          -0.000000\n",
       "15      Noise_3          0.016143  ...         -0.000000          -0.000000\n",
       "16      Noise_4         -0.161795  ...         -0.000000           0.000000\n",
       "17      Noise_5          0.060785  ...          0.000000          -0.000000\n",
       "\n",
       "[18 rows x 5 columns]"
      ]
     },
     "execution_count": 110,
     "metadata": {
      "tags": []
     },
     "output_type": "execute_result"
    }
   ],
   "source": [
    "elastic([0, .00001, .5, 10])"
   ]
  },
  {
   "cell_type": "code",
   "execution_count": null,
   "metadata": {
    "id": "NiXE8yMu-Jw_"
   },
   "outputs": [],
   "source": []
  }
 ],
 "metadata": {
  "colab": {
   "collapsed_sections": [],
   "name": "Session_3_Regularization_and_Poly_regression_NOTSOLVED.ipynb",
   "provenance": []
  },
  "kernelspec": {
   "display_name": "Python 3 (ipykernel)",
   "language": "python",
   "name": "python3"
  },
  "language_info": {
   "codemirror_mode": {
    "name": "ipython",
    "version": 3
   },
   "file_extension": ".py",
   "mimetype": "text/x-python",
   "name": "python",
   "nbconvert_exporter": "python",
   "pygments_lexer": "ipython3",
   "version": "3.9.0"
  }
 },
 "nbformat": 4,
 "nbformat_minor": 4
}
