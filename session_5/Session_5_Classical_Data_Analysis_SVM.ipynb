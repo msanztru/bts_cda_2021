{
 "cells": [
  {
   "cell_type": "markdown",
   "metadata": {
    "colab_type": "text",
    "id": "aB_ck5OSE3TU"
   },
   "source": [
    "![BTS](https://github.com/vfp1/bts-mbds-data-science-foundations-2019/raw/master/sessions/img/Logo-BTS.jpg)\n",
    "\n",
    "# Session 5: Support Vector Machines\n",
    "\n",
    "\n",
    "**Resources (code patched and updated from):**\n",
    "* MNIST\n",
    "* Sklearn\n",
    "* Aurelien Geron's O'Reilly's \"Hands-On Machine Learning with Scikit-Learn, Keras & Tensorflow\"\n",
    "* Lazy Programmer Lecture Series\n",
    "* Andrew Ng Lectures"
   ]
  },
  {
   "cell_type": "markdown",
   "metadata": {
    "colab_type": "text",
    "id": "uHeWc1e1EKAP"
   },
   "source": [
    "# SVM gentle introduction\n"
   ]
  },
  {
   "cell_type": "markdown",
   "metadata": {
    "colab_type": "text",
    "id": "c-6Oll67oFdp"
   },
   "source": [
    "## SVM - Image Clasification\n",
    "The UUID is **#S5C1**. You can use it to refer to the slides in Session 5. "
   ]
  },
  {
   "cell_type": "markdown",
   "metadata": {
    "colab_type": "text",
    "id": "DI19glDjpa9V"
   },
   "source": [
    "### Load and prepare data"
   ]
  },
  {
   "cell_type": "code",
   "execution_count": 1,
   "metadata": {
    "colab": {},
    "colab_type": "code",
    "id": "Z69BnrymoCWW"
   },
   "outputs": [],
   "source": [
    "# SVM is used within sklearn as Support Vector Classifier\n",
    "from sklearn.svm import SVC\n",
    "from datetime import datetime"
   ]
  },
  {
   "cell_type": "code",
   "execution_count": 2,
   "metadata": {
    "colab": {
     "base_uri": "https://localhost:8080/",
     "height": 131
    },
    "colab_type": "code",
    "id": "KMhh3FeOpQum",
    "outputId": "cc0197b2-1d67-40f7-e665-6cb5a5cf3d5f"
   },
   "outputs": [
    {
     "name": "stdout",
     "output_type": "stream",
     "text": [
      "Downloading data from https://storage.googleapis.com/tensorflow/tf-keras-datasets/mnist.npz\n",
      "11493376/11490434 [==============================] - 0s 0us/step\n",
      "11501568/11490434 [==============================] - 0s 0us/step\n"
     ]
    }
   ],
   "source": [
    "# Let's import MNIST directly from keras\n",
    "from keras.datasets import mnist\n",
    "\n",
    "# Load data using keras mnist utils\n",
    "(train_X, train_Y), (test_X, test_Y) = mnist.load_data()"
   ]
  },
  {
   "cell_type": "code",
   "execution_count": 3,
   "metadata": {
    "colab": {
     "base_uri": "https://localhost:8080/",
     "height": 34
    },
    "colab_type": "code",
    "id": "R-oTIaG0sSSt",
    "outputId": "e3d3a7f3-85a4-4b04-f7ac-b5ea921c158f"
   },
   "outputs": [
    {
     "name": "stdout",
     "output_type": "stream",
     "text": [
      "(60000, 28, 28) (60000,)\n"
     ]
    }
   ],
   "source": [
    "# Exploring the dataset\n",
    "print(train_X.shape, train_Y.shape)"
   ]
  },
  {
   "cell_type": "code",
   "execution_count": 4,
   "metadata": {
    "colab": {
     "base_uri": "https://localhost:8080/",
     "height": 298
    },
    "colab_type": "code",
    "id": "Hs-Q013gszqJ",
    "outputId": "56da34f3-02c3-453e-838f-309cdafeb738"
   },
   "outputs": [
    {
     "data": {
      "text/plain": [
       "Text(0.5, 1.0, ' Digit 5')"
      ]
     },
     "execution_count": 4,
     "metadata": {},
     "output_type": "execute_result"
    },
    {
     "data": {
      "image/png": "[encoded data removed]",
      "text/plain": [
       "<Figure size 432x288 with 1 Axes>"
      ]
     },
     "metadata": {
      "needs_background": "light"
     },
     "output_type": "display_data"
    }
   ],
   "source": [
    "# Exploring the dataset visually\n",
    "import matplotlib.pyplot as plt\n",
    "\n",
    "plt.imshow(train_X[0])\n",
    "plt.title(\" Digit \" + str(train_Y[0]) )"
   ]
  },
  {
   "cell_type": "code",
   "execution_count": 5,
   "metadata": {
    "colab": {
     "base_uri": "https://localhost:8080/",
     "height": 68
    },
    "colab_type": "code",
    "id": "8qOLNv8otrVP",
    "outputId": "092175c4-de35-4aa0-97a2-3f90e6390b99"
   },
   "outputs": [
    {
     "data": {
      "text/plain": [
       "array([  0,   0,   0,   0,   0,   0,   0,   0,   0,   0,   0,  11, 175,\n",
       "       253, 252,  71,   0,   0,   0,   0,   0,   0,   0,   0,   0,   0,\n",
       "         0,   0], dtype=uint8)"
      ]
     },
     "execution_count": 5,
     "metadata": {},
     "output_type": "execute_result"
    }
   ],
   "source": [
    "# Checking the value range over the dataset\n",
    "\n",
    "# Check values for row 6, column 6\n",
    "train_X[6][6]"
   ]
  },
  {
   "cell_type": "code",
   "execution_count": 6,
   "metadata": {
    "colab": {
     "base_uri": "https://localhost:8080/",
     "height": 34
    },
    "colab_type": "code",
    "id": "1wGho0s3uFGW",
    "outputId": "069ca8a6-d3ac-4977-846b-29633a8cf54a"
   },
   "outputs": [
    {
     "name": "stdout",
     "output_type": "stream",
     "text": [
      "784\n"
     ]
    }
   ],
   "source": [
    "# Let's normalize the input so that SVM can perform better\n",
    "\n",
    "# First we need to flatten the images. We can use numpy reshape for that\n",
    "# https://docs.scipy.org/doc/numpy/reference/generated/numpy.reshape.html\n",
    "\n",
    "import numpy as np\n",
    "type(train_X)\n",
    "\n",
    "# Find size of one-dimensional vector for each image. Yes, it is 784\n",
    "num_pixels = train_X.shape[1] * train_X.shape[2] # find size of one-dimensional vector\n",
    "print(num_pixels)"
   ]
  },
  {
   "cell_type": "code",
   "execution_count": 7,
   "metadata": {
    "colab": {
     "base_uri": "https://localhost:8080/",
     "height": 34
    },
    "colab_type": "code",
    "id": "otvBBUFIyYtm",
    "outputId": "5a0505c7-3ff1-4b95-fd38-26288a64ebba"
   },
   "outputs": [
    {
     "name": "stdout",
     "output_type": "stream",
     "text": [
      "(60000, 784) (10000, 784)\n"
     ]
    }
   ],
   "source": [
    "# Now, let's flatten Train and Test images using numpy reshape\n",
    "train_X_reshaped = train_X.reshape(train_X.shape[0], num_pixels).astype('float32') \n",
    "test_X_reshaped = test_X.reshape(test_X.shape[0], num_pixels).astype('float32') \n",
    "\n",
    "print(train_X_reshaped.shape, test_X_reshaped.shape)"
   ]
  },
  {
   "cell_type": "code",
   "execution_count": 8,
   "metadata": {
    "colab": {},
    "colab_type": "code",
    "id": "nNew0i9ZzK7s"
   },
   "outputs": [],
   "source": [
    "# Now let's normalize the values from (0..255) to (0..1)\n",
    "\n",
    "train_X_normalized = train_X_reshaped / 255\n",
    "test_X_normalized = test_X_reshaped / 255"
   ]
  },
  {
   "cell_type": "code",
   "execution_count": 9,
   "metadata": {
    "colab": {
     "base_uri": "https://localhost:8080/",
     "height": 714
    },
    "colab_type": "code",
    "id": "1Tpp7QBZzfC5",
    "outputId": "7df810e0-7b71-43c7-842c-87d10622a762"
   },
   "outputs": [
    {
     "data": {
      "text/plain": [
       "array([0.        , 0.        , 0.        , 0.        , 0.        ,\n",
       "       0.        , 0.        , 0.        , 0.        , 0.        ,\n",
       "       0.        , 0.        , 0.        , 0.        , 0.        ,\n",
       "       0.        , 0.        , 0.        , 0.        , 0.        ,\n",
       "       0.        , 0.        , 0.        , 0.        , 0.        ,\n",
       "       0.        , 0.        , 0.        , 0.        , 0.        ,\n",
       "       0.        , 0.        , 0.        , 0.        , 0.        ,\n",
       "       0.        , 0.        , 0.        , 0.        , 0.        ,\n",
       "       0.        , 0.        , 0.        , 0.        , 0.        ,\n",
       "       0.        , 0.        , 0.        , 0.        , 0.        ,\n",
       "       0.        , 0.        , 0.01176471, 0.07058824, 0.07058824,\n",
       "       0.07058824, 0.49411765, 0.53333336, 0.6862745 , 0.10196079,\n",
       "       0.6509804 , 1.        , 0.96862745, 0.49803922, 0.        ,\n",
       "       0.        , 0.        , 0.        , 0.        , 0.        ,\n",
       "       0.        , 0.        , 0.        , 0.        , 0.        ,\n",
       "       0.        , 0.11764706, 0.14117648, 0.36862746, 0.6039216 ,\n",
       "       0.6666667 , 0.99215686, 0.99215686, 0.99215686, 0.99215686,\n",
       "       0.99215686, 0.88235295, 0.6745098 , 0.99215686, 0.9490196 ,\n",
       "       0.7647059 , 0.2509804 , 0.        , 0.        , 0.        ,\n",
       "       0.        , 0.        , 0.        , 0.        , 0.        ,\n",
       "       0.        , 0.        , 0.        , 0.19215687, 0.93333334,\n",
       "       0.99215686, 0.99215686, 0.99215686, 0.99215686, 0.99215686,\n",
       "       0.99215686, 0.99215686, 0.99215686, 0.9843137 , 0.3647059 ,\n",
       "       0.32156864, 0.32156864, 0.21960784, 0.15294118, 0.        ,\n",
       "       0.        , 0.        , 0.        , 0.        , 0.        ,\n",
       "       0.        , 0.        , 0.        , 0.        , 0.        ,\n",
       "       0.        , 0.07058824, 0.85882354, 0.99215686, 0.99215686,\n",
       "       0.99215686, 0.99215686, 0.99215686, 0.7764706 , 0.7137255 ,\n",
       "       0.96862745, 0.94509804, 0.        , 0.        , 0.        ,\n",
       "       0.        , 0.        , 0.        , 0.        , 0.        ,\n",
       "       0.        , 0.        , 0.        , 0.        , 0.        ,\n",
       "       0.        , 0.        , 0.        , 0.        , 0.        ,\n",
       "       0.3137255 , 0.6117647 , 0.41960785, 0.99215686, 0.99215686,\n",
       "       0.8039216 , 0.04313726, 0.        , 0.16862746, 0.6039216 ,\n",
       "       0.        , 0.        , 0.        , 0.        , 0.        ,\n",
       "       0.        , 0.        , 0.        , 0.        , 0.        ,\n",
       "       0.        , 0.        , 0.        , 0.        , 0.        ,\n",
       "       0.        , 0.        , 0.        , 0.        , 0.05490196,\n",
       "       0.00392157, 0.6039216 , 0.99215686, 0.3529412 , 0.        ,\n",
       "       0.        , 0.        , 0.        , 0.        , 0.        ],\n",
       "      dtype=float32)"
      ]
     },
     "execution_count": 9,
     "metadata": {},
     "output_type": "execute_result"
    }
   ],
   "source": [
    "# Now let's test the values of array\n",
    "train_X_normalized[0][100:300]"
   ]
  },
  {
   "cell_type": "markdown",
   "metadata": {
    "colab_type": "text",
    "id": "-LGDKkGyqCXT"
   },
   "source": [
    "#### Alternative: mean=0, variance=1"
   ]
  },
  {
   "cell_type": "code",
   "execution_count": 10,
   "metadata": {
    "colab": {},
    "colab_type": "code",
    "id": "6_Tt8REaqIAZ"
   },
   "outputs": [],
   "source": [
    "# Let's apply sklearns mean=0, variance=1\n",
    "\n",
    "from sklearn.preprocessing import StandardScaler\n",
    "\n",
    "scaler = StandardScaler()\n",
    "\n",
    "train_X_meanvar = scaler.fit_transform(train_X_reshaped)\n",
    "test_X_meanvar = scaler.transform(test_X_reshaped)"
   ]
  },
  {
   "cell_type": "code",
   "execution_count": 11,
   "metadata": {
    "colab": {
     "base_uri": "https://localhost:8080/",
     "height": 884
    },
    "colab_type": "code",
    "id": "HkEwJh2JrdlX",
    "outputId": "06f0463c-c836-4174-fd16-59c09c279a3f"
   },
   "outputs": [
    {
     "data": {
      "text/plain": [
       "array([-2.62596905e-01, -2.47855902e-01, -2.21947014e-01, -1.87211409e-01,\n",
       "       -1.47640124e-01, -1.08164370e-01, -7.68121108e-02, -4.70752977e-02,\n",
       "       -3.02019659e-02, -1.52412439e-02, -5.28371939e-03,  0.00000000e+00,\n",
       "        0.00000000e+00, -4.08251677e-03, -7.76342256e-03, -1.48932543e-02,\n",
       "       -2.39627492e-02, -5.03408983e-02, -7.87674636e-02, -1.16181545e-01,\n",
       "       -1.61247566e-01, -2.11961642e-01, -2.66898721e-01, -3.25678021e-01,\n",
       "       -3.90241563e-01, -4.52076375e-01, -4.99397993e-01, -5.23428321e-01,\n",
       "       -5.17618895e-01, -4.80902404e-01, -4.23079699e-01, -3.56740385e-01,\n",
       "       -2.83683658e-01, -2.16836661e-01, -1.58524379e-01, -1.08784586e-01,\n",
       "       -7.09225312e-02, -3.89534794e-02, -1.42523851e-02, -5.77049796e-03,\n",
       "        0.00000000e+00,  0.00000000e+00, -1.19017400e-02, -2.20501553e-02,\n",
       "       -5.18380739e-02, -9.06597003e-02, -1.39667109e-01, -1.97082117e-01,\n",
       "       -2.64384717e-01, -3.40730429e-01, -4.22535747e-01, -5.15408635e-01,\n",
       "       -5.84660351e-01, -5.41363060e-01, -6.26156747e-01, -6.69145048e-01,\n",
       "        3.43637139e-01,  5.31055987e-01,  1.10236573e+00, -2.65802562e-01,\n",
       "        1.71565962e+00,  3.77344823e+00,  4.93900204e+00,  3.45006824e+00,\n",
       "       -1.31080121e-01, -7.48460367e-02, -3.19301300e-02, -8.20891839e-03,\n",
       "        0.00000000e+00, -5.57015324e-03, -1.56619269e-02, -3.63656580e-02,\n",
       "       -7.90243074e-02, -1.33289084e-01, -1.99154407e-01, -2.75429696e-01,\n",
       "        8.82421136e-02, -1.60018969e-02,  4.42476511e-01,  8.18775058e-01,\n",
       "        7.49339521e-01,  1.32200205e+00,  1.19900227e+00,  1.14748073e+00,\n",
       "        1.16876769e+00,  1.25693727e+00,  1.17313564e+00,  9.33441520e-01,\n",
       "        2.13777184e+00,  2.64653063e+00,  2.81275272e+00,  1.14339101e+00,\n",
       "       -1.72939703e-01, -1.04104236e-01, -4.83176224e-02, -1.47080189e-02,\n",
       "       -4.08251677e-03, -1.32310102e-02, -2.62438208e-02, -5.91585934e-02,\n",
       "       -1.13004856e-01, -1.78441525e-01, -2.58004814e-01,  4.14936751e-01,\n",
       "        2.55139995e+00,  2.15784264e+00,  1.76151121e+00,  1.47855282e+00,\n",
       "        1.28620374e+00,  1.15934205e+00,  1.08883059e+00,  1.06792176e+00,\n",
       "        1.08561218e+00,  1.12333035e+00, -1.85138151e-01, -1.08110689e-01,\n",
       "        1.20942183e-01,  1.04310654e-01,  1.53347805e-01, -2.87681282e-01,\n",
       "       -1.97007030e-01, -1.21228941e-01, -5.68086132e-02, -1.53906681e-02,\n",
       "       -5.02549298e-03, -1.73205193e-02, -4.30805385e-02, -8.52489024e-02,\n",
       "       -1.39458373e-01, -2.10883319e-01, -3.00017983e-01, -1.59588560e-01,\n",
       "        1.95384085e+00,  1.84773397e+00,  1.51729631e+00,  1.30892134e+00,\n",
       "        1.20210624e+00,  1.16376245e+00,  6.74199760e-01,  5.38435698e-01,\n",
       "        1.12192714e+00,  1.07058609e+00, -1.04378664e+00, -9.12978530e-01,\n",
       "       -7.39191294e-01, -5.71005464e-01, -4.23671007e-01, -2.98196197e-01,\n",
       "       -1.97686136e-01, -1.20683819e-01, -5.39356284e-02, -1.35055436e-02,\n",
       "       -5.90571249e-03, -2.11096667e-02, -5.29890358e-02, -9.30784941e-02,\n",
       "       -1.50398731e-01, -2.26191014e-01, -3.23645353e-01, -4.42131221e-01,\n",
       "        2.70213753e-01,  7.45930851e-01,  7.23832920e-02,  1.27771211e+00,\n",
       "        1.27734542e+00,  9.12254632e-01, -8.07963371e-01, -9.13935959e-01,\n",
       "       -5.60996652e-01,  3.90063792e-01, -9.99486566e-01, -9.01508629e-01,\n",
       "       -7.36681521e-01, -5.67589402e-01, -4.20171887e-01, -2.90174603e-01,\n",
       "       -1.81482360e-01, -1.04939774e-01, -4.72131744e-02, -1.41308662e-02,\n",
       "       -5.77280531e-03, -2.26322766e-02, -5.28031737e-02, -9.22058076e-02,\n",
       "       -1.47451699e-01, -2.27284595e-01, -3.32428306e-01, -4.62696165e-01,\n",
       "       -6.19033515e-01, -6.52626514e-01, -8.99148226e-01,  4.58886653e-01,\n",
       "        1.47356892e+00,  6.77134916e-02, -7.71412134e-01, -8.03560078e-01,\n",
       "       -8.73939276e-01, -9.51575458e-01, -9.62131023e-01, -8.63473296e-01],\n",
       "      dtype=float32)"
      ]
     },
     "execution_count": 11,
     "metadata": {},
     "output_type": "execute_result"
    }
   ],
   "source": [
    "# Now let's test the values of array\n",
    "train_X_meanvar[0][100:300]"
   ]
  },
  {
   "cell_type": "markdown",
   "metadata": {
    "colab_type": "text",
    "id": "in43IAPrpiZq"
   },
   "source": [
    "### Fit the SVC\n",
    "\n",
    "**Be careful!** Train duration on Google Colab: 0:16:05.266673 !!!"
   ]
  },
  {
   "cell_type": "code",
   "execution_count": 12,
   "metadata": {
    "colab": {},
    "colab_type": "code",
    "id": "HlGSFyElp_Ul"
   },
   "outputs": [],
   "source": [
    "# Call the SVC model\n",
    "model = SVC()"
   ]
  },
  {
   "cell_type": "code",
   "execution_count": 13,
   "metadata": {
    "colab": {
     "base_uri": "https://localhost:8080/",
     "height": 88
    },
    "colab_type": "code",
    "id": "BNYpaulIqG6o",
    "outputId": "357fa710-31da-46a0-d56e-3ad41d1ba404"
   },
   "outputs": [
    {
     "name": "stdout",
     "output_type": "stream",
     "text": [
      "Train duration: 0:03:55.473324\n"
     ]
    }
   ],
   "source": [
    "t0 = datetime.now()\n",
    "model.fit(train_X_normalized, train_Y)\n",
    "print(\"Train duration:\", datetime.now()-t0)"
   ]
  },
  {
   "cell_type": "markdown",
   "metadata": {
    "colab_type": "text",
    "id": "yzeTGrgFpk2C"
   },
   "source": [
    "### Evaluate the SVC\n",
    "\n",
    "**Be careful!** Train score on Google Colab: \n",
    "\n",
    "*   Train score duration on Google Colab:  0:27:02.376792 !!\n",
    "*   Test score duration on Google Colab:  0:04:25.458038 !!\n"
   ]
  },
  {
   "cell_type": "code",
   "execution_count": 14,
   "metadata": {
    "colab": {
     "base_uri": "https://localhost:8080/",
     "height": 34
    },
    "colab_type": "code",
    "id": "H9WHwVdI0WBR",
    "outputId": "3e2b7a9e-45b9-4e12-d1be-ddf89f083955"
   },
   "outputs": [
    {
     "name": "stdout",
     "output_type": "stream",
     "text": [
      "Train score: 0.9899166666666667 duration:  0:07:31.997300\n"
     ]
    }
   ],
   "source": [
    "# The model score returns the accuracy\n",
    "t0 = datetime.now()\n",
    "print(\"Train score:\", model.score(train_X_normalized, train_Y), \"duration: \", datetime.now()-t0)"
   ]
  },
  {
   "cell_type": "code",
   "execution_count": 15,
   "metadata": {
    "colab": {
     "base_uri": "https://localhost:8080/",
     "height": 34
    },
    "colab_type": "code",
    "id": "Ka9W8bwd0tik",
    "outputId": "08fd338e-4f4f-4284-9cf5-672b7ec2c4f4"
   },
   "outputs": [
    {
     "name": "stdout",
     "output_type": "stream",
     "text": [
      "Test score: 0.9792 duration:  0:01:22.757515\n"
     ]
    }
   ],
   "source": [
    "# The model score returns the accuracy\n",
    "t0 = datetime.now()\n",
    "print(\"Test score:\", model.score(test_X_normalized, test_Y), \"duration: \", datetime.now()-t0)"
   ]
  },
  {
   "cell_type": "markdown",
   "metadata": {
    "colab_type": "text",
    "id": "tYRxzZhAOVkn"
   },
   "source": [
    "## SVM - Spam classifier\n",
    "\n",
    "The UUID is **#S5C2**. You can use it to refer to the slides in Session 5. "
   ]
  },
  {
   "cell_type": "markdown",
   "metadata": {
    "colab_type": "text",
    "id": "6Km7kwdBPnIm"
   },
   "source": [
    "### Load the data"
   ]
  },
  {
   "cell_type": "code",
   "execution_count": null,
   "metadata": {
    "colab": {
     "base_uri": "https://localhost:8080/",
     "height": 309
    },
    "colab_type": "code",
    "id": "Orb23U_x1EIp",
    "outputId": "c92346c2-c02c-4018-d5f0-ecfa430ced35"
   },
   "outputs": [],
   "source": []
  },
  {
   "cell_type": "code",
   "execution_count": 125,
   "metadata": {
    "colab": {},
    "colab_type": "code",
    "id": "8_m27o0YQra0"
   },
   "outputs": [],
   "source": [
    "import pandas as pd\n",
    "\"\"\"\n",
    "We need to define a particular encoding, because the original file contain invalid characters.\n",
    "So depending on your Pandas, an error can be thrown such as:\n",
    "\n",
    "UnicodeDecodeError: 'utf-8' codec can't decode bytes in position 135-136: invalid continuation byte\n",
    "\n",
    "Usually, when working with text, you will find this issues scattered around. Since nowadays we \n",
    "tend to use emojis, symbols and other stuff which is not recognized by utf-8\n",
    "\"\"\"\n",
    "df_spam = pd.read_csv('data/spam.csv', encoding='ISO-8859-1')"
   ]
  },
  {
   "cell_type": "code",
   "execution_count": 126,
   "metadata": {
    "colab": {
     "base_uri": "https://localhost:8080/",
     "height": 289
    },
    "colab_type": "code",
    "id": "1vV8xYihRvcf",
    "outputId": "b7ed07ed-bd44-4b3a-c079-85ab03ed18f0"
   },
   "outputs": [
    {
     "data": {
      "text/html": [
       "<div>\n",
       "<style scoped>\n",
       "    .dataframe tbody tr th:only-of-type {\n",
       "        vertical-align: middle;\n",
       "    }\n",
       "\n",
       "    .dataframe tbody tr th {\n",
       "        vertical-align: top;\n",
       "    }\n",
       "\n",
       "    .dataframe thead th {\n",
       "        text-align: right;\n",
       "    }\n",
       "</style>\n",
       "<table border=\"1\" class=\"dataframe\">\n",
       "  <thead>\n",
       "    <tr style=\"text-align: right;\">\n",
       "      <th></th>\n",
       "      <th>v1</th>\n",
       "      <th>v2</th>\n",
       "      <th>Unnamed: 2</th>\n",
       "      <th>Unnamed: 3</th>\n",
       "      <th>Unnamed: 4</th>\n",
       "    </tr>\n",
       "  </thead>\n",
       "  <tbody>\n",
       "    <tr>\n",
       "      <th>0</th>\n",
       "      <td>ham</td>\n",
       "      <td>Go until jurong point, crazy.. Available only ...</td>\n",
       "      <td>NaN</td>\n",
       "      <td>NaN</td>\n",
       "      <td>NaN</td>\n",
       "    </tr>\n",
       "    <tr>\n",
       "      <th>1</th>\n",
       "      <td>ham</td>\n",
       "      <td>Ok lar... Joking wif u oni...</td>\n",
       "      <td>NaN</td>\n",
       "      <td>NaN</td>\n",
       "      <td>NaN</td>\n",
       "    </tr>\n",
       "    <tr>\n",
       "      <th>2</th>\n",
       "      <td>spam</td>\n",
       "      <td>Free entry in 2 a wkly comp to win FA Cup fina...</td>\n",
       "      <td>NaN</td>\n",
       "      <td>NaN</td>\n",
       "      <td>NaN</td>\n",
       "    </tr>\n",
       "    <tr>\n",
       "      <th>3</th>\n",
       "      <td>ham</td>\n",
       "      <td>U dun say so early hor... U c already then say...</td>\n",
       "      <td>NaN</td>\n",
       "      <td>NaN</td>\n",
       "      <td>NaN</td>\n",
       "    </tr>\n",
       "    <tr>\n",
       "      <th>4</th>\n",
       "      <td>ham</td>\n",
       "      <td>Nah I don't think he goes to usf, he lives aro...</td>\n",
       "      <td>NaN</td>\n",
       "      <td>NaN</td>\n",
       "      <td>NaN</td>\n",
       "    </tr>\n",
       "  </tbody>\n",
       "</table>\n",
       "</div>"
      ],
      "text/plain": [
       "     v1                                                 v2 Unnamed: 2  \\\n",
       "0   ham  Go until jurong point, crazy.. Available only ...        NaN   \n",
       "1   ham                      Ok lar... Joking wif u oni...        NaN   \n",
       "2  spam  Free entry in 2 a wkly comp to win FA Cup fina...        NaN   \n",
       "3   ham  U dun say so early hor... U c already then say...        NaN   \n",
       "4   ham  Nah I don't think he goes to usf, he lives aro...        NaN   \n",
       "\n",
       "  Unnamed: 3 Unnamed: 4  \n",
       "0        NaN        NaN  \n",
       "1        NaN        NaN  \n",
       "2        NaN        NaN  \n",
       "3        NaN        NaN  \n",
       "4        NaN        NaN  "
      ]
     },
     "execution_count": 126,
     "metadata": {},
     "output_type": "execute_result"
    }
   ],
   "source": [
    "df_spam.head()"
   ]
  },
  {
   "cell_type": "code",
   "execution_count": 127,
   "metadata": {
    "colab": {
     "base_uri": "https://localhost:8080/",
     "height": 204
    },
    "colab_type": "code",
    "id": "wb2WtzCdR9rL",
    "outputId": "321f2e33-c519-496d-9ce4-711ca5dbaa10"
   },
   "outputs": [
    {
     "data": {
      "text/html": [
       "<div>\n",
       "<style scoped>\n",
       "    .dataframe tbody tr th:only-of-type {\n",
       "        vertical-align: middle;\n",
       "    }\n",
       "\n",
       "    .dataframe tbody tr th {\n",
       "        vertical-align: top;\n",
       "    }\n",
       "\n",
       "    .dataframe thead th {\n",
       "        text-align: right;\n",
       "    }\n",
       "</style>\n",
       "<table border=\"1\" class=\"dataframe\">\n",
       "  <thead>\n",
       "    <tr style=\"text-align: right;\">\n",
       "      <th></th>\n",
       "      <th>v1</th>\n",
       "      <th>v2</th>\n",
       "    </tr>\n",
       "  </thead>\n",
       "  <tbody>\n",
       "    <tr>\n",
       "      <th>0</th>\n",
       "      <td>ham</td>\n",
       "      <td>Go until jurong point, crazy.. Available only ...</td>\n",
       "    </tr>\n",
       "    <tr>\n",
       "      <th>1</th>\n",
       "      <td>ham</td>\n",
       "      <td>Ok lar... Joking wif u oni...</td>\n",
       "    </tr>\n",
       "    <tr>\n",
       "      <th>2</th>\n",
       "      <td>spam</td>\n",
       "      <td>Free entry in 2 a wkly comp to win FA Cup fina...</td>\n",
       "    </tr>\n",
       "    <tr>\n",
       "      <th>3</th>\n",
       "      <td>ham</td>\n",
       "      <td>U dun say so early hor... U c already then say...</td>\n",
       "    </tr>\n",
       "    <tr>\n",
       "      <th>4</th>\n",
       "      <td>ham</td>\n",
       "      <td>Nah I don't think he goes to usf, he lives aro...</td>\n",
       "    </tr>\n",
       "  </tbody>\n",
       "</table>\n",
       "</div>"
      ],
      "text/plain": [
       "     v1                                                 v2\n",
       "0   ham  Go until jurong point, crazy.. Available only ...\n",
       "1   ham                      Ok lar... Joking wif u oni...\n",
       "2  spam  Free entry in 2 a wkly comp to win FA Cup fina...\n",
       "3   ham  U dun say so early hor... U c already then say...\n",
       "4   ham  Nah I don't think he goes to usf, he lives aro..."
      ]
     },
     "execution_count": 127,
     "metadata": {},
     "output_type": "execute_result"
    }
   ],
   "source": [
    "# Let's drop the columns that are not useful\n",
    "\n",
    "df_spam = df_spam.drop([\"Unnamed: 2\", \"Unnamed: 3\", \"Unnamed: 4\"], axis=1)\n",
    "df_spam.head()"
   ]
  },
  {
   "cell_type": "code",
   "execution_count": 128,
   "metadata": {
    "colab": {
     "base_uri": "https://localhost:8080/",
     "height": 204
    },
    "colab_type": "code",
    "id": "sENE4qvOSP0G",
    "outputId": "770df0d0-8ae2-4aef-a6a2-5ec83e308ca8"
   },
   "outputs": [
    {
     "data": {
      "text/html": [
       "<div>\n",
       "<style scoped>\n",
       "    .dataframe tbody tr th:only-of-type {\n",
       "        vertical-align: middle;\n",
       "    }\n",
       "\n",
       "    .dataframe tbody tr th {\n",
       "        vertical-align: top;\n",
       "    }\n",
       "\n",
       "    .dataframe thead th {\n",
       "        text-align: right;\n",
       "    }\n",
       "</style>\n",
       "<table border=\"1\" class=\"dataframe\">\n",
       "  <thead>\n",
       "    <tr style=\"text-align: right;\">\n",
       "      <th></th>\n",
       "      <th>labels</th>\n",
       "      <th>data</th>\n",
       "    </tr>\n",
       "  </thead>\n",
       "  <tbody>\n",
       "    <tr>\n",
       "      <th>0</th>\n",
       "      <td>ham</td>\n",
       "      <td>Go until jurong point, crazy.. Available only ...</td>\n",
       "    </tr>\n",
       "    <tr>\n",
       "      <th>1</th>\n",
       "      <td>ham</td>\n",
       "      <td>Ok lar... Joking wif u oni...</td>\n",
       "    </tr>\n",
       "    <tr>\n",
       "      <th>2</th>\n",
       "      <td>spam</td>\n",
       "      <td>Free entry in 2 a wkly comp to win FA Cup fina...</td>\n",
       "    </tr>\n",
       "    <tr>\n",
       "      <th>3</th>\n",
       "      <td>ham</td>\n",
       "      <td>U dun say so early hor... U c already then say...</td>\n",
       "    </tr>\n",
       "    <tr>\n",
       "      <th>4</th>\n",
       "      <td>ham</td>\n",
       "      <td>Nah I don't think he goes to usf, he lives aro...</td>\n",
       "    </tr>\n",
       "  </tbody>\n",
       "</table>\n",
       "</div>"
      ],
      "text/plain": [
       "  labels                                               data\n",
       "0    ham  Go until jurong point, crazy.. Available only ...\n",
       "1    ham                      Ok lar... Joking wif u oni...\n",
       "2   spam  Free entry in 2 a wkly comp to win FA Cup fina...\n",
       "3    ham  U dun say so early hor... U c already then say...\n",
       "4    ham  Nah I don't think he goes to usf, he lives aro..."
      ]
     },
     "execution_count": 128,
     "metadata": {},
     "output_type": "execute_result"
    }
   ],
   "source": [
    "# Let's also rename the columns so we have something better than \"v1\" and \"v2\"\n",
    "\n",
    "df_spam.columns = ['labels', 'data']\n",
    "df_spam.head()"
   ]
  },
  {
   "cell_type": "markdown",
   "metadata": {
    "colab_type": "text",
    "id": "ouhLlDdz13jB"
   },
   "source": [
    "### Data preprocessing"
   ]
  },
  {
   "cell_type": "code",
   "execution_count": 129,
   "metadata": {
    "colab": {
     "base_uri": "https://localhost:8080/",
     "height": 204
    },
    "colab_type": "code",
    "id": "t1GVFp9cyp5y",
    "outputId": "598a968c-f49e-422e-b581-1d3123615630"
   },
   "outputs": [
    {
     "data": {
      "text/html": [
       "<div>\n",
       "<style scoped>\n",
       "    .dataframe tbody tr th:only-of-type {\n",
       "        vertical-align: middle;\n",
       "    }\n",
       "\n",
       "    .dataframe tbody tr th {\n",
       "        vertical-align: top;\n",
       "    }\n",
       "\n",
       "    .dataframe thead th {\n",
       "        text-align: right;\n",
       "    }\n",
       "</style>\n",
       "<table border=\"1\" class=\"dataframe\">\n",
       "  <thead>\n",
       "    <tr style=\"text-align: right;\">\n",
       "      <th></th>\n",
       "      <th>labels</th>\n",
       "      <th>data</th>\n",
       "      <th>binary_labels</th>\n",
       "    </tr>\n",
       "  </thead>\n",
       "  <tbody>\n",
       "    <tr>\n",
       "      <th>0</th>\n",
       "      <td>ham</td>\n",
       "      <td>Go until jurong point, crazy.. Available only ...</td>\n",
       "      <td>0</td>\n",
       "    </tr>\n",
       "    <tr>\n",
       "      <th>1</th>\n",
       "      <td>ham</td>\n",
       "      <td>Ok lar... Joking wif u oni...</td>\n",
       "      <td>0</td>\n",
       "    </tr>\n",
       "    <tr>\n",
       "      <th>2</th>\n",
       "      <td>spam</td>\n",
       "      <td>Free entry in 2 a wkly comp to win FA Cup fina...</td>\n",
       "      <td>1</td>\n",
       "    </tr>\n",
       "    <tr>\n",
       "      <th>3</th>\n",
       "      <td>ham</td>\n",
       "      <td>U dun say so early hor... U c already then say...</td>\n",
       "      <td>0</td>\n",
       "    </tr>\n",
       "    <tr>\n",
       "      <th>4</th>\n",
       "      <td>ham</td>\n",
       "      <td>Nah I don't think he goes to usf, he lives aro...</td>\n",
       "      <td>0</td>\n",
       "    </tr>\n",
       "  </tbody>\n",
       "</table>\n",
       "</div>"
      ],
      "text/plain": [
       "  labels                                               data  binary_labels\n",
       "0    ham  Go until jurong point, crazy.. Available only ...              0\n",
       "1    ham                      Ok lar... Joking wif u oni...              0\n",
       "2   spam  Free entry in 2 a wkly comp to win FA Cup fina...              1\n",
       "3    ham  U dun say so early hor... U c already then say...              0\n",
       "4    ham  Nah I don't think he goes to usf, he lives aro...              0"
      ]
     },
     "execution_count": 129,
     "metadata": {},
     "output_type": "execute_result"
    }
   ],
   "source": [
    "# Let's create a column for binary labels \n",
    "df_spam['binary_labels'] = df_spam['labels'].map({'ham':0, 'spam':1})\n",
    "df_spam.head()"
   ]
  },
  {
   "cell_type": "code",
   "execution_count": 130,
   "metadata": {
    "colab": {
     "base_uri": "https://localhost:8080/",
     "height": 34
    },
    "colab_type": "code",
    "id": "XpoaQG2z0kNr",
    "outputId": "53fee94f-818e-4369-e0ef-7564dfbf3672"
   },
   "outputs": [
    {
     "data": {
      "text/plain": [
       "array([0, 0, 1, ..., 0, 0, 0])"
      ]
     },
     "execution_count": 130,
     "metadata": {},
     "output_type": "execute_result"
    }
   ],
   "source": [
    "# Let's create our \"Y\" matrix by extracting our numpy array\n",
    "\n",
    "\"\"\"\n",
    "We really don't need to do this, as Sklearn accepts strings and series as labels.\n",
    "In any case, it is good practice to do this, as we have a numerical representation\n",
    "of the data in case that we want to build our own model.\n",
    "\"\"\"\n",
    "\n",
    "Y = df_spam['binary_labels'].values\n",
    "Y"
   ]
  },
  {
   "cell_type": "code",
   "execution_count": 131,
   "metadata": {},
   "outputs": [
    {
     "data": {
      "text/plain": [
       "(5572,)"
      ]
     },
     "execution_count": 131,
     "metadata": {},
     "output_type": "execute_result"
    }
   ],
   "source": [
    "Y.shape"
   ]
  },
  {
   "cell_type": "code",
   "execution_count": 132,
   "metadata": {
    "colab": {},
    "colab_type": "code",
    "id": "op_Ll7p61xBC"
   },
   "outputs": [],
   "source": [
    "# Now let's create our \"X\" matrix, our input features for every sample\n",
    "\n",
    "\"\"\"\n",
    "Here we can use different approaches for our input matrix, whether that is TF-IDF\n",
    "or CountVectorizer which does basically raw counts.\n",
    "\n",
    "Here is the TF-IDF version\n",
    "\n",
    "We need to use the decode error to ignore invalid utf-8 characters\n",
    "\"\"\"\n",
    "from sklearn.feature_extraction.text import TfidfVectorizer\n",
    "\n",
    "tfidf = TfidfVectorizer(decode_error='ignore')\n",
    "X_tfidf = tfidf.fit_transform(df_spam['data'])"
   ]
  },
  {
   "cell_type": "code",
   "execution_count": 133,
   "metadata": {
    "colab": {},
    "colab_type": "code",
    "id": "20GlsZCB592b"
   },
   "outputs": [],
   "source": [
    "\"\"\"\n",
    "Here we can use different approaches for our input matrix, whether that is TF-IDF\n",
    "or CountVectorizer which does basically raw counts.\n",
    "\n",
    "Here is the CountVectorizer version\n",
    "\n",
    "We need to use the decode error to ignore invalid utf-8 characters\n",
    "\"\"\"\n",
    "\n",
    "from sklearn.feature_extraction.text import CountVectorizer\n",
    "\n",
    "count_vectorizer = CountVectorizer(decode_error='ignore')\n",
    "X_rawcount = count_vectorizer.fit_transform(df_spam['data'])"
   ]
  },
  {
   "cell_type": "code",
   "execution_count": 134,
   "metadata": {
    "colab": {},
    "colab_type": "code",
    "id": "3GjPvCIy7Ifd"
   },
   "outputs": [],
   "source": [
    "# Let's create the datasets \n",
    "from sklearn.model_selection import train_test_split\n",
    "\n",
    "Xtrain_tfidf, Xtest_tfidf, Ytrain_tfidf, Ytest_tfidf = train_test_split(X_tfidf, Y, test_size=0.2)\n",
    "Xtrain_rawcount, Xtest_rawcount, Ytrain_rawcount, Ytest_rawcount = train_test_split(X_rawcount, Y, test_size=0.2)"
   ]
  },
  {
   "cell_type": "code",
   "execution_count": 135,
   "metadata": {
    "colab": {
     "base_uri": "https://localhost:8080/",
     "height": 34
    },
    "colab_type": "code",
    "id": "W8st0g4EIiTx",
    "outputId": "ee97b7eb-ac86-4686-8144-b61d51ce85a6"
   },
   "outputs": [
    {
     "data": {
      "text/plain": [
       "(4457, 8672)"
      ]
     },
     "execution_count": 135,
     "metadata": {},
     "output_type": "execute_result"
    }
   ],
   "source": [
    "Xtrain_tfidf.shape"
   ]
  },
  {
   "cell_type": "code",
   "execution_count": 67,
   "metadata": {
    "colab": {},
    "colab_type": "code",
    "id": "abYxqMAMPpeN"
   },
   "outputs": [],
   "source": [
    "#tfidf.get_feature_names_out()"
   ]
  },
  {
   "cell_type": "markdown",
   "metadata": {
    "colab_type": "text",
    "id": "ToIoGKsuL9fc"
   },
   "source": [
    "### Visualize the dataset"
   ]
  },
  {
   "cell_type": "code",
   "execution_count": 69,
   "metadata": {
    "colab": {},
    "colab_type": "code",
    "id": "uwWJqZ-oKbKb"
   },
   "outputs": [
    {
     "ename": "ModuleNotFoundError",
     "evalue": "No module named 'wordcloud'",
     "output_type": "error",
     "traceback": [
      "\u001b[0;31m---------------------------------------------------------------------------\u001b[0m",
      "\u001b[0;31mModuleNotFoundError\u001b[0m                       Traceback (most recent call last)",
      "\u001b[0;32m/var/folders/8k/smsk423d6472cmj_0crn22_00000gn/T/ipykernel_28735/3382055877.py\u001b[0m in \u001b[0;36m<module>\u001b[0;34m\u001b[0m\n\u001b[0;32m----> 1\u001b[0;31m \u001b[0;32mfrom\u001b[0m \u001b[0mwordcloud\u001b[0m \u001b[0;32mimport\u001b[0m \u001b[0mWordCloud\u001b[0m\u001b[0;34m\u001b[0m\u001b[0;34m\u001b[0m\u001b[0m\n\u001b[0m\u001b[1;32m      2\u001b[0m \u001b[0;32mimport\u001b[0m \u001b[0mmatplotlib\u001b[0m\u001b[0;34m.\u001b[0m\u001b[0mpyplot\u001b[0m \u001b[0;32mas\u001b[0m \u001b[0mplt\u001b[0m\u001b[0;34m\u001b[0m\u001b[0;34m\u001b[0m\u001b[0m\n\u001b[1;32m      3\u001b[0m \u001b[0;34m\u001b[0m\u001b[0m\n\u001b[1;32m      4\u001b[0m \u001b[0;31m# Let's create a function to visualize our data in a word cloud\u001b[0m\u001b[0;34m\u001b[0m\u001b[0;34m\u001b[0m\u001b[0;34m\u001b[0m\u001b[0m\n\u001b[1;32m      5\u001b[0m \u001b[0;34m\u001b[0m\u001b[0m\n",
      "\u001b[0;31mModuleNotFoundError\u001b[0m: No module named 'wordcloud'"
     ]
    }
   ],
   "source": [
    "from wordcloud import WordCloud\n",
    "import matplotlib.pyplot as plt\n",
    "\n",
    "# Let's create a function to visualize our data in a word cloud\n",
    "\n",
    "# We create our function that asks for a label\n",
    "def visualize(label):\n",
    "\n",
    "    # We initialize a \"words\" string\n",
    "    words = ''\n",
    "\n",
    "    # Loop through the DF, pass every message ('data') that has the same label noted in the string above\n",
    "    for msg in df_spam[df_spam['labels'] == label]['data']:\n",
    "        \n",
    "        # Convert the message to lowercase\n",
    "        msg = msg.lower()\n",
    "        \n",
    "        # Append the message to the words string and add a space\n",
    "        words += msg + ' '\n",
    "\n",
    "    # Generate a WordCloud with all the looped words\n",
    "    wordcloud = WordCloud(width=600, height=400).generate(words)\n",
    "\n",
    "    # Show the wordcloud with plt.imshow\n",
    "    plt.imshow(wordcloud)\n",
    "\n",
    "    # Take the axis off\n",
    "    plt.axis('off')\n",
    "\n",
    "    # Set a title with the label\n",
    "    plt.title(label)\n",
    "\n",
    "    # Show the image\n",
    "    plt.show()\n"
   ]
  },
  {
   "cell_type": "code",
   "execution_count": null,
   "metadata": {
    "colab": {
     "base_uri": "https://localhost:8080/",
     "height": 264
    },
    "colab_type": "code",
    "id": "oKVfxWeEW4Me",
    "outputId": "09e22fb4-4fe0-4e1c-a188-ea88016e4a79"
   },
   "outputs": [],
   "source": [
    "visualize('spam')"
   ]
  },
  {
   "cell_type": "code",
   "execution_count": null,
   "metadata": {
    "colab": {
     "base_uri": "https://localhost:8080/",
     "height": 264
    },
    "colab_type": "code",
    "id": "zFNAhyv-W51T",
    "outputId": "e02560ef-87dc-409f-9d7d-e48207a3ca7a"
   },
   "outputs": [],
   "source": [
    "visualize('ham')"
   ]
  },
  {
   "cell_type": "markdown",
   "metadata": {
    "colab_type": "text",
    "id": "DivE3XDeINeP"
   },
   "source": [
    "### Fit the SVC for TF-IDF"
   ]
  },
  {
   "cell_type": "code",
   "execution_count": 156,
   "metadata": {
    "colab": {},
    "colab_type": "code",
    "id": "fmohT-AxF571"
   },
   "outputs": [],
   "source": [
    "# Let's fit the SVC model\n",
    "from sklearn.svm import SVC\n",
    "\n",
    "# We will see what C stands for in next examples\n",
    "model_tfidf = SVC(kernel='linear', C=2.)"
   ]
  },
  {
   "cell_type": "code",
   "execution_count": 157,
   "metadata": {
    "colab": {
     "base_uri": "https://localhost:8080/",
     "height": 34
    },
    "colab_type": "code",
    "id": "xZluC32MKSIh",
    "outputId": "5f256eae-1cf4-4eb6-8f0e-c50c58cf4221"
   },
   "outputs": [
    {
     "name": "stdout",
     "output_type": "stream",
     "text": [
      "train duration: 0:00:00.680985\n"
     ]
    }
   ],
   "source": [
    "\"\"\"\n",
    "This time training the SVM is way faster, because we have less data. And it is also\n",
    "just vectorized strings\n",
    "\"\"\"\n",
    "\n",
    "from datetime import datetime\n",
    "\n",
    "t0 = datetime.now()\n",
    "model_tfidf.fit(Xtrain_tfidf, Ytrain_tfidf)\n",
    "print(\"train duration:\", datetime.now() - t0)"
   ]
  },
  {
   "cell_type": "markdown",
   "metadata": {
    "colab_type": "text",
    "id": "J0mIEXHILx4a"
   },
   "source": [
    "### Evaluate the SVC for TF-IDF\n"
   ]
  },
  {
   "cell_type": "code",
   "execution_count": 158,
   "metadata": {
    "colab": {
     "base_uri": "https://localhost:8080/",
     "height": 34
    },
    "colab_type": "code",
    "id": "f25_-fh9KWzk",
    "outputId": "5b3176c3-bde3-49ef-b2a7-ac0cdfae30da"
   },
   "outputs": [
    {
     "name": "stdout",
     "output_type": "stream",
     "text": [
      "train score: 0.9993269015032533 duration: 0:00:00.583515\n"
     ]
    }
   ],
   "source": [
    "t0 = datetime.now()\n",
    "print(\"train score:\", model_tfidf.score(Xtrain_tfidf, Ytrain_tfidf), \"duration:\", datetime.now() - t0)"
   ]
  },
  {
   "cell_type": "code",
   "execution_count": 159,
   "metadata": {
    "colab": {
     "base_uri": "https://localhost:8080/",
     "height": 34
    },
    "colab_type": "code",
    "id": "U9Om1KDIKY2v",
    "outputId": "b3b1915d-9691-493a-f231-953c1885d8bf"
   },
   "outputs": [
    {
     "name": "stdout",
     "output_type": "stream",
     "text": [
      "test score: 0.9838565022421525 duration: 0:00:00.155245\n"
     ]
    }
   ],
   "source": [
    "t0 = datetime.now()\n",
    "print(\"test score:\", model_tfidf.score(Xtest_tfidf, Ytest_tfidf), \"duration:\", datetime.now() - t0)"
   ]
  },
  {
   "cell_type": "markdown",
   "metadata": {
    "colab_type": "text",
    "id": "SJwACIMrWa91"
   },
   "source": [
    "### Fit the SVC for Raw Count"
   ]
  },
  {
   "cell_type": "code",
   "execution_count": 74,
   "metadata": {
    "colab": {},
    "colab_type": "code",
    "id": "CWS29GbzbAnD"
   },
   "outputs": [],
   "source": [
    "# Let's fit the SVC model\n",
    "from sklearn.svm import SVC\n",
    "\n",
    "# We will see what C stands for in next examples\n",
    "model_rawcount = SVC(kernel='linear', C=2.)"
   ]
  },
  {
   "cell_type": "code",
   "execution_count": 75,
   "metadata": {
    "colab": {
     "base_uri": "https://localhost:8080/",
     "height": 34
    },
    "colab_type": "code",
    "id": "eZPTKRKKWa-D",
    "outputId": "faeb1425-8e10-4c69-f96f-ebc29ba65efe"
   },
   "outputs": [
    {
     "name": "stdout",
     "output_type": "stream",
     "text": [
      "train duration: 0:00:00.458573\n"
     ]
    }
   ],
   "source": [
    "\"\"\"\n",
    "This time training the SVM is way faster, because we have less data. And it is also\n",
    "just vectorized strings\n",
    "\"\"\"\n",
    "\n",
    "from datetime import datetime\n",
    "\n",
    "t0 = datetime.now()\n",
    "model_rawcount.fit(Xtrain_rawcount, Ytrain_rawcount)\n",
    "print(\"train duration:\", datetime.now() - t0)"
   ]
  },
  {
   "cell_type": "markdown",
   "metadata": {
    "colab_type": "text",
    "id": "dwb730McWa-H"
   },
   "source": [
    "### Evaluate the SVC for Raw Count"
   ]
  },
  {
   "cell_type": "code",
   "execution_count": 76,
   "metadata": {
    "colab": {
     "base_uri": "https://localhost:8080/",
     "height": 34
    },
    "colab_type": "code",
    "id": "6q8jey2QWa-I",
    "outputId": "7fd5553e-eeb2-489e-deda-f723b34e9ab5"
   },
   "outputs": [
    {
     "name": "stdout",
     "output_type": "stream",
     "text": [
      "train score: 1.0 duration: 0:00:00.343196\n"
     ]
    }
   ],
   "source": [
    "t0 = datetime.now()\n",
    "print(\"train score:\", model_rawcount.score(Xtrain_rawcount, Ytrain_rawcount), \"duration:\", datetime.now() - t0)"
   ]
  },
  {
   "cell_type": "code",
   "execution_count": 84,
   "metadata": {
    "colab": {
     "base_uri": "https://localhost:8080/",
     "height": 34
    },
    "colab_type": "code",
    "id": "twb2jq4lWa-M",
    "outputId": "4e481eb0-57c9-4023-8f44-5f8410b21c04"
   },
   "outputs": [
    {
     "name": "stdout",
     "output_type": "stream",
     "text": [
      "test score: 0.9820627802690582 duration: 0:00:00.097037\n"
     ]
    }
   ],
   "source": [
    "t0 = datetime.now()\n",
    "print(\"test score:\", model_rawcount.score(Xtest_rawcount, Ytest_rawcount), \"duration:\", datetime.now() - t0)"
   ]
  },
  {
   "cell_type": "markdown",
   "metadata": {
    "colab_type": "text",
    "id": "LceshfWdW_fA"
   },
   "source": [
    "### Predictions\n",
    "\n",
    "We can dive a little bit deeper in that accuracy and see what is going on"
   ]
  },
  {
   "cell_type": "code",
   "execution_count": 160,
   "metadata": {
    "colab": {
     "base_uri": "https://localhost:8080/",
     "height": 238
    },
    "colab_type": "code",
    "id": "IUAr0K3JKdZP",
    "outputId": "3973e1ea-9eff-417f-b912-ca91ecef119c"
   },
   "outputs": [
    {
     "data": {
      "text/html": [
       "<div>\n",
       "<style scoped>\n",
       "    .dataframe tbody tr th:only-of-type {\n",
       "        vertical-align: middle;\n",
       "    }\n",
       "\n",
       "    .dataframe tbody tr th {\n",
       "        vertical-align: top;\n",
       "    }\n",
       "\n",
       "    .dataframe thead th {\n",
       "        text-align: right;\n",
       "    }\n",
       "</style>\n",
       "<table border=\"1\" class=\"dataframe\">\n",
       "  <thead>\n",
       "    <tr style=\"text-align: right;\">\n",
       "      <th></th>\n",
       "      <th>labels</th>\n",
       "      <th>data</th>\n",
       "      <th>binary_labels</th>\n",
       "      <th>predictions</th>\n",
       "    </tr>\n",
       "  </thead>\n",
       "  <tbody>\n",
       "    <tr>\n",
       "      <th>0</th>\n",
       "      <td>ham</td>\n",
       "      <td>Go until jurong point, crazy.. Available only ...</td>\n",
       "      <td>0</td>\n",
       "      <td>0</td>\n",
       "    </tr>\n",
       "    <tr>\n",
       "      <th>1</th>\n",
       "      <td>ham</td>\n",
       "      <td>Ok lar... Joking wif u oni...</td>\n",
       "      <td>0</td>\n",
       "      <td>0</td>\n",
       "    </tr>\n",
       "    <tr>\n",
       "      <th>2</th>\n",
       "      <td>spam</td>\n",
       "      <td>Free entry in 2 a wkly comp to win FA Cup fina...</td>\n",
       "      <td>1</td>\n",
       "      <td>1</td>\n",
       "    </tr>\n",
       "    <tr>\n",
       "      <th>3</th>\n",
       "      <td>ham</td>\n",
       "      <td>U dun say so early hor... U c already then say...</td>\n",
       "      <td>0</td>\n",
       "      <td>0</td>\n",
       "    </tr>\n",
       "    <tr>\n",
       "      <th>4</th>\n",
       "      <td>ham</td>\n",
       "      <td>Nah I don't think he goes to usf, he lives aro...</td>\n",
       "      <td>0</td>\n",
       "      <td>0</td>\n",
       "    </tr>\n",
       "  </tbody>\n",
       "</table>\n",
       "</div>"
      ],
      "text/plain": [
       "  labels                                               data  binary_labels  \\\n",
       "0    ham  Go until jurong point, crazy.. Available only ...              0   \n",
       "1    ham                      Ok lar... Joking wif u oni...              0   \n",
       "2   spam  Free entry in 2 a wkly comp to win FA Cup fina...              1   \n",
       "3    ham  U dun say so early hor... U c already then say...              0   \n",
       "4    ham  Nah I don't think he goes to usf, he lives aro...              0   \n",
       "\n",
       "   predictions  \n",
       "0            0  \n",
       "1            0  \n",
       "2            1  \n",
       "3            0  \n",
       "4            0  "
      ]
     },
     "execution_count": 160,
     "metadata": {},
     "output_type": "execute_result"
    }
   ],
   "source": [
    "# We are getting close to 100% accuracy in TF-IDF, but let's see what is wrong with our model\n",
    "df_spam['predictions'] = model_tfidf.predict(X_tfidf)\n",
    "df_spam.head()"
   ]
  },
  {
   "cell_type": "code",
   "execution_count": 161,
   "metadata": {
    "colab": {
     "base_uri": "https://localhost:8080/",
     "height": 343
    },
    "colab_type": "code",
    "id": "40hCx40AKfJI",
    "outputId": "6da51cbc-7524-4689-87e9-426760b54bad"
   },
   "outputs": [
    {
     "name": "stdout",
     "output_type": "stream",
     "text": [
      "*** things that should be spam ***\n",
      "XCLUSIVE@CLUBSAISAI 2MOROW 28/5 SOIREE SPECIALE ZOUK WITH NICHOLS FROM PARIS.FREE ROSES 2 ALL LADIES !!! info: 07946746291/07880867867 \n",
      "SMS. ac sun0819 posts HELLO:\\You seem cool\n",
      "For sale - arsenal dartboard. Good condition but no doubles or trebles!\n",
      "Call FREEPHONE 0800 542 0578 now!\n",
      "Would you like to see my XXX pics they are so hot they were nearly banned in the uk!\n",
      "Back 2 work 2morro half term over! Can U C me 2nite 4 some sexy passion B4 I have 2 go back? Chat NOW 09099726481 Luv DENA Calls å£1/minMobsmoreLKPOBOX177HP51FL\n",
      "Hello darling how are you today? I would love to have a chat, why dont you tell me what you look like and what you are in to sexy?\n",
      "Do you ever notice that when you're driving, anyone going slower than you is an idiot and everyone driving faster than you is a maniac?\n",
      "LookAtMe!: Thanks for your purchase of a video clip from LookAtMe!, you've been charged 35p. Think you can do better? Why not send a video in a MMSto 32323.\n",
      "Sorry I missed your call let's talk when you have the time. I'm on 07090201529\n",
      "LIFE has never been this much fun and great until you came in. You made it truly special for me. I won't forget you! enjoy @ one gbp/sms\n",
      "2/2 146tf150p\n",
      "ringtoneking 84484\n",
      "Block Breaker now comes in deluxe format with new features and great graphics from T-Mobile. Buy for just å£5 by replying GET BBDELUXE and take the challenge\n",
      "thesmszone.com lets you send free anonymous and masked messages..im sending this message from there..do you see the potential for abuse???\n",
      "Check Out Choose Your Babe Videos @ sms.shsex.netUN fgkslpoPW fgkslpo\n",
      "ASKED 3MOBILE IF 0870 CHATLINES INCLU IN FREE MINS. INDIA CUST SERVs SED YES. L8ER GOT MEGA BILL. 3 DONT GIV A SHIT. BAILIFF DUE IN DAYS. I O å£250 3 WANT å£800\n"
     ]
    }
   ],
   "source": [
    "# Let's look at things that should be spam\n",
    "print(\"*** things that should be spam ***\")\n",
    "\n",
    "# We filter the dataframe with elementwise AND operation to check when pred=0 but labels=1\n",
    "sneaky_spam = df_spam[(df_spam['predictions'] == 0) & (df_spam['binary_labels'] == 1)]['data']\n",
    "\n",
    "# We loop through each message in sneaky_spam and check messages that should have been spam (FALSE NEGATIVES)\n",
    "for msg in sneaky_spam:\n",
    "  print(msg)"
   ]
  },
  {
   "cell_type": "code",
   "execution_count": 162,
   "metadata": {
    "colab": {
     "base_uri": "https://localhost:8080/",
     "height": 34
    },
    "colab_type": "code",
    "id": "xZhpeJwqKhmq",
    "outputId": "57c5a270-20ed-4089-9e56-125517d3722e"
   },
   "outputs": [
    {
     "name": "stdout",
     "output_type": "stream",
     "text": [
      "*** things that should be spam ***\n",
      "K..u also dont msg or reply to his msg..\n",
      "These won't do. Have to move on to morphine\n",
      "I liked the new mobile\n",
      "K k:) sms chat with me.\n"
     ]
    }
   ],
   "source": [
    "# Let's look at things that should be spam\n",
    "print(\"*** things that should be spam ***\")\n",
    "\n",
    "# We filter the dataframe with elementwise AND operation to check when pred=1 but labels=0\n",
    "sneaky_spam = df_spam[(df_spam['predictions'] == 1) & (df_spam['binary_labels'] == 0)]['data']\n",
    "\n",
    "# We loop through each message in sneaky_spam and check messages that should have been spam (FALSE POSITIVES)\n",
    "for msg in sneaky_spam:\n",
    "  print(msg)"
   ]
  },
  {
   "cell_type": "markdown",
   "metadata": {
    "colab_type": "text",
    "id": "oAPeYEgBeVDm"
   },
   "source": [
    "### Let's plot PR curves, we need to update sklern to version 0.22"
   ]
  },
  {
   "cell_type": "code",
   "execution_count": null,
   "metadata": {
    "colab": {
     "base_uri": "https://localhost:8080/",
     "height": 34
    },
    "colab_type": "code",
    "id": "jlhr56NheMKd",
    "outputId": "a8738f80-2c5d-49f6-e9d5-69648a83564f"
   },
   "outputs": [],
   "source": []
  },
  {
   "cell_type": "code",
   "execution_count": null,
   "metadata": {
    "colab": {
     "base_uri": "https://localhost:8080/",
     "height": 309
    },
    "colab_type": "code",
    "id": "_0cSWMJDeo7U",
    "outputId": "c237f2f0-0ed3-4358-e01a-0fddacc44f43"
   },
   "outputs": [],
   "source": []
  },
  {
   "cell_type": "code",
   "execution_count": null,
   "metadata": {
    "colab": {
     "base_uri": "https://localhost:8080/",
     "height": 34
    },
    "colab_type": "code",
    "id": "zATk9mbFeuCR",
    "outputId": "aaaee780-eae1-4e60-83e3-8e889e03cac7"
   },
   "outputs": [],
   "source": []
  },
  {
   "cell_type": "code",
   "execution_count": 82,
   "metadata": {
    "colab": {
     "base_uri": "https://localhost:8080/",
     "height": 279
    },
    "colab_type": "code",
    "id": "PXfmDP22cHFi",
    "outputId": "57a5893f-3b8a-455c-bedc-cc09a91e1ddf"
   },
   "outputs": [
    {
     "name": "stderr",
     "output_type": "stream",
     "text": [
      "/Users/miguelsanz/bts/venv/lib/python3.9/site-packages/sklearn/utils/deprecation.py:87: FutureWarning: Function plot_precision_recall_curve is deprecated; Function `plot_precision_recall_curve` is deprecated in 1.0 and will be removed in 1.2. Use one of the class methods: PrecisionRecallDisplay.from_predictions or PrecisionRecallDisplay.from_estimator.\n",
      "  warnings.warn(msg, category=FutureWarning)\n"
     ]
    },
    {
     "data": {
      "image/png": "[encoded data removed]",
      "text/plain": [
       "<Figure size 432x288 with 1 Axes>"
      ]
     },
     "metadata": {
      "needs_background": "light"
     },
     "output_type": "display_data"
    }
   ],
   "source": [
    "from sklearn.metrics import precision_recall_curve\n",
    "from sklearn.metrics import plot_precision_recall_curve\n",
    "import matplotlib.pyplot as plt\n",
    "\n",
    "disp = plot_precision_recall_curve(model_tfidf, Xtest_tfidf, Ytest_tfidf)\n"
   ]
  },
  {
   "cell_type": "code",
   "execution_count": 83,
   "metadata": {
    "colab": {
     "base_uri": "https://localhost:8080/",
     "height": 279
    },
    "colab_type": "code",
    "id": "myoUM8sSfLdJ",
    "outputId": "1b074e63-dc1c-4b83-aaf5-defec38a6890"
   },
   "outputs": [
    {
     "name": "stderr",
     "output_type": "stream",
     "text": [
      "/Users/miguelsanz/bts/venv/lib/python3.9/site-packages/sklearn/utils/deprecation.py:87: FutureWarning: Function plot_precision_recall_curve is deprecated; Function `plot_precision_recall_curve` is deprecated in 1.0 and will be removed in 1.2. Use one of the class methods: PrecisionRecallDisplay.from_predictions or PrecisionRecallDisplay.from_estimator.\n",
      "  warnings.warn(msg, category=FutureWarning)\n"
     ]
    },
    {
     "data": {
      "image/png": "[encoded data removed]",
      "text/plain": [
       "<Figure size 432x288 with 1 Axes>"
      ]
     },
     "metadata": {
      "needs_background": "light"
     },
     "output_type": "display_data"
    }
   ],
   "source": [
    "from sklearn.metrics import precision_recall_curve\n",
    "from sklearn.metrics import plot_precision_recall_curve\n",
    "import matplotlib.pyplot as plt\n",
    "\n",
    "disp = plot_precision_recall_curve(model_rawcount, Xtest_rawcount, Ytest_rawcount)"
   ]
  },
  {
   "cell_type": "markdown",
   "metadata": {
    "colab_type": "text",
    "id": "_jQivk-3gNQ3"
   },
   "source": [
    "## SVM - Medical diagnosis\n",
    "\n",
    "The UUID is **#S5C3**. You can use it to refer to the slides in Session 5."
   ]
  },
  {
   "cell_type": "markdown",
   "metadata": {
    "colab_type": "text",
    "id": "bd-lkLVyBuoM"
   },
   "source": [
    "### Load the data"
   ]
  },
  {
   "cell_type": "code",
   "execution_count": 163,
   "metadata": {
    "colab": {},
    "colab_type": "code",
    "id": "wU0Qi3LvgaC4"
   },
   "outputs": [],
   "source": [
    "from sklearn.datasets import load_breast_cancer\n",
    "\n",
    "# Load the brest cancer dataset\n",
    "data = load_breast_cancer()"
   ]
  },
  {
   "cell_type": "code",
   "execution_count": 164,
   "metadata": {
    "colab": {
     "base_uri": "https://localhost:8080/",
     "height": 34
    },
    "colab_type": "code",
    "id": "6PiaJXVqFZ1b",
    "outputId": "5b37bda0-c7f0-444e-c808-b64d5f611ead"
   },
   "outputs": [
    {
     "data": {
      "text/plain": [
       "(569, 30)"
      ]
     },
     "execution_count": 164,
     "metadata": {},
     "output_type": "execute_result"
    }
   ],
   "source": [
    "# As stated, we get 569 instances and 30 features or attributes\n",
    "data.data.shape"
   ]
  },
  {
   "cell_type": "code",
   "execution_count": 165,
   "metadata": {
    "colab": {
     "base_uri": "https://localhost:8080/",
     "height": 1000
    },
    "colab_type": "code",
    "collapsed": true,
    "id": "knWDaUb1FoSy",
    "jupyter": {
     "outputs_hidden": true
    },
    "outputId": "113c8f59-ec24-4e6c-e3c2-4cb8f12bae9c",
    "tags": []
   },
   "outputs": [
    {
     "name": "stdout",
     "output_type": "stream",
     "text": [
      ".. _breast_cancer_dataset:\n",
      "\n",
      "Breast cancer wisconsin (diagnostic) dataset\n",
      "--------------------------------------------\n",
      "\n",
      "**Data Set Characteristics:**\n",
      "\n",
      "    :Number of Instances: 569\n",
      "\n",
      "    :Number of Attributes: 30 numeric, predictive attributes and the class\n",
      "\n",
      "    :Attribute Information:\n",
      "        - radius (mean of distances from center to points on the perimeter)\n",
      "        - texture (standard deviation of gray-scale values)\n",
      "        - perimeter\n",
      "        - area\n",
      "        - smoothness (local variation in radius lengths)\n",
      "        - compactness (perimeter^2 / area - 1.0)\n",
      "        - concavity (severity of concave portions of the contour)\n",
      "        - concave points (number of concave portions of the contour)\n",
      "        - symmetry\n",
      "        - fractal dimension (\"coastline approximation\" - 1)\n",
      "\n",
      "        The mean, standard error, and \"worst\" or largest (mean of the three\n",
      "        worst/largest values) of these features were computed for each image,\n",
      "        resulting in 30 features.  For instance, field 0 is Mean Radius, field\n",
      "        10 is Radius SE, field 20 is Worst Radius.\n",
      "\n",
      "        - class:\n",
      "                - WDBC-Malignant\n",
      "                - WDBC-Benign\n",
      "\n",
      "    :Summary Statistics:\n",
      "\n",
      "    ===================================== ====== ======\n",
      "                                           Min    Max\n",
      "    ===================================== ====== ======\n",
      "    radius (mean):                        6.981  28.11\n",
      "    texture (mean):                       9.71   39.28\n",
      "    perimeter (mean):                     43.79  188.5\n",
      "    area (mean):                          143.5  2501.0\n",
      "    smoothness (mean):                    0.053  0.163\n",
      "    compactness (mean):                   0.019  0.345\n",
      "    concavity (mean):                     0.0    0.427\n",
      "    concave points (mean):                0.0    0.201\n",
      "    symmetry (mean):                      0.106  0.304\n",
      "    fractal dimension (mean):             0.05   0.097\n",
      "    radius (standard error):              0.112  2.873\n",
      "    texture (standard error):             0.36   4.885\n",
      "    perimeter (standard error):           0.757  21.98\n",
      "    area (standard error):                6.802  542.2\n",
      "    smoothness (standard error):          0.002  0.031\n",
      "    compactness (standard error):         0.002  0.135\n",
      "    concavity (standard error):           0.0    0.396\n",
      "    concave points (standard error):      0.0    0.053\n",
      "    symmetry (standard error):            0.008  0.079\n",
      "    fractal dimension (standard error):   0.001  0.03\n",
      "    radius (worst):                       7.93   36.04\n",
      "    texture (worst):                      12.02  49.54\n",
      "    perimeter (worst):                    50.41  251.2\n",
      "    area (worst):                         185.2  4254.0\n",
      "    smoothness (worst):                   0.071  0.223\n",
      "    compactness (worst):                  0.027  1.058\n",
      "    concavity (worst):                    0.0    1.252\n",
      "    concave points (worst):               0.0    0.291\n",
      "    symmetry (worst):                     0.156  0.664\n",
      "    fractal dimension (worst):            0.055  0.208\n",
      "    ===================================== ====== ======\n",
      "\n",
      "    :Missing Attribute Values: None\n",
      "\n",
      "    :Class Distribution: 212 - Malignant, 357 - Benign\n",
      "\n",
      "    :Creator:  Dr. William H. Wolberg, W. Nick Street, Olvi L. Mangasarian\n",
      "\n",
      "    :Donor: Nick Street\n",
      "\n",
      "    :Date: November, 1995\n",
      "\n",
      "This is a copy of UCI ML Breast Cancer Wisconsin (Diagnostic) datasets.\n",
      "https://goo.gl/U2Uwz2\n",
      "\n",
      "Features are computed from a digitized image of a fine needle\n",
      "aspirate (FNA) of a breast mass.  They describe\n",
      "characteristics of the cell nuclei present in the image.\n",
      "\n",
      "Separating plane described above was obtained using\n",
      "Multisurface Method-Tree (MSM-T) [K. P. Bennett, \"Decision Tree\n",
      "Construction Via Linear Programming.\" Proceedings of the 4th\n",
      "Midwest Artificial Intelligence and Cognitive Science Society,\n",
      "pp. 97-101, 1992], a classification method which uses linear\n",
      "programming to construct a decision tree.  Relevant features\n",
      "were selected using an exhaustive search in the space of 1-4\n",
      "features and 1-3 separating planes.\n",
      "\n",
      "The actual linear program used to obtain the separating plane\n",
      "in the 3-dimensional space is that described in:\n",
      "[K. P. Bennett and O. L. Mangasarian: \"Robust Linear\n",
      "Programming Discrimination of Two Linearly Inseparable Sets\",\n",
      "Optimization Methods and Software 1, 1992, 23-34].\n",
      "\n",
      "This database is also available through the UW CS ftp server:\n",
      "\n",
      "ftp ftp.cs.wisc.edu\n",
      "cd math-prog/cpo-dataset/machine-learn/WDBC/\n",
      "\n",
      ".. topic:: References\n",
      "\n",
      "   - W.N. Street, W.H. Wolberg and O.L. Mangasarian. Nuclear feature extraction \n",
      "     for breast tumor diagnosis. IS&T/SPIE 1993 International Symposium on \n",
      "     Electronic Imaging: Science and Technology, volume 1905, pages 861-870,\n",
      "     San Jose, CA, 1993.\n",
      "   - O.L. Mangasarian, W.N. Street and W.H. Wolberg. Breast cancer diagnosis and \n",
      "     prognosis via linear programming. Operations Research, 43(4), pages 570-577, \n",
      "     July-August 1995.\n",
      "   - W.H. Wolberg, W.N. Street, and O.L. Mangasarian. Machine learning techniques\n",
      "     to diagnose breast cancer from fine-needle aspirates. Cancer Letters 77 (1994) \n",
      "     163-171.\n"
     ]
    }
   ],
   "source": [
    "# The description of the dataset is associated with it\n",
    "print(data.DESCR)"
   ]
  },
  {
   "cell_type": "markdown",
   "metadata": {
    "colab_type": "text",
    "id": "GQW_nydzB1JU"
   },
   "source": [
    "### Data preprocessing"
   ]
  },
  {
   "cell_type": "code",
   "execution_count": 166,
   "metadata": {
    "colab": {},
    "colab_type": "code",
    "id": "SzL1VRgo74Sk"
   },
   "outputs": [],
   "source": [
    "from sklearn.model_selection import train_test_split\n",
    "\n",
    "Xtrain, Xtest, Ytrain, Ytest = train_test_split(data.data, data.target, test_size=0.3)"
   ]
  },
  {
   "cell_type": "code",
   "execution_count": 167,
   "metadata": {
    "colab": {},
    "colab_type": "code",
    "id": "7n5j12S_766h"
   },
   "outputs": [],
   "source": [
    "from sklearn.preprocessing import StandardScaler\n",
    "\n",
    "# The StandardScaler scales real value variables\n",
    "\n",
    "\"\"\"\n",
    "The standarization is done by removing the mean and scaling to unit variance.\n",
    "\n",
    "The standardized score of a sample \"X\" is calculated as:\n",
    "\n",
    "z = (x - u)/s\n",
    "\n",
    "    * u : the mean of the training samples\n",
    "    * s : standard deviation\n",
    "\"\"\"\n",
    "scaler = StandardScaler()\n",
    "Xtrain = scaler.fit_transform(Xtrain)\n",
    "Xtest = scaler.transform(Xtest)"
   ]
  },
  {
   "cell_type": "markdown",
   "metadata": {
    "colab_type": "text",
    "id": "iNV35zKfB4Gr"
   },
   "source": [
    "### Fit the SVC - linear kernel\n",
    "\n",
    "Check the slides related with **#S5C3** for more information on kernel functions\n"
   ]
  },
  {
   "cell_type": "code",
   "execution_count": 168,
   "metadata": {
    "colab": {
     "base_uri": "https://localhost:8080/",
     "height": 85
    },
    "colab_type": "code",
    "id": "0jB3y1nY7-MQ",
    "outputId": "1292d137-aea9-4a69-a11c-4ced29cffae8"
   },
   "outputs": [
    {
     "data": {
      "text/plain": [
       "SVC(kernel='linear')"
      ]
     },
     "execution_count": 168,
     "metadata": {},
     "output_type": "execute_result"
    }
   ],
   "source": [
    "\"\"\"\n",
    "Even if we are not experts at breast cancer detection, the beauty of machine learning\n",
    "is that we can extract information from the data even if we are not doctors. \n",
    "It doens't matter what the data is, it does not affect how the algorithm works.\n",
    "\"\"\"\n",
    "from sklearn.svm import SVC\n",
    "\n",
    "model = SVC(kernel='linear')\n",
    "# model = SVC()\n",
    "model.fit(Xtrain, Ytrain)"
   ]
  },
  {
   "cell_type": "markdown",
   "metadata": {
    "colab_type": "text",
    "id": "x6OLOwlBCY9G"
   },
   "source": [
    "### Evaluate the SVC - linear kernel"
   ]
  },
  {
   "cell_type": "code",
   "execution_count": 169,
   "metadata": {
    "colab": {
     "base_uri": "https://localhost:8080/",
     "height": 51
    },
    "colab_type": "code",
    "id": "xBzBityiCp0C",
    "outputId": "dbc16ee5-cc13-4987-ea41-400e11a6c8bf"
   },
   "outputs": [
    {
     "name": "stdout",
     "output_type": "stream",
     "text": [
      "train score: 0.9949748743718593\n",
      "test score: 0.9649122807017544\n"
     ]
    }
   ],
   "source": [
    "print(\"train score:\", model.score(Xtrain, Ytrain))\n",
    "print(\"test score:\", model.score(Xtest, Ytest))"
   ]
  },
  {
   "cell_type": "markdown",
   "metadata": {
    "colab_type": "text",
    "id": "i6S16SDoSztt"
   },
   "source": [
    "### Fit the SVC - default RBF kernel\n",
    "\n",
    "Check the slides related with **#S5C3** for more information on kernel functions\n"
   ]
  },
  {
   "cell_type": "code",
   "execution_count": 172,
   "metadata": {
    "colab": {
     "base_uri": "https://localhost:8080/",
     "height": 85
    },
    "colab_type": "code",
    "id": "xRXfJ7vhSztw",
    "outputId": "a46b3a88-63ec-4292-8ad8-ddf6475a71bd"
   },
   "outputs": [
    {
     "data": {
      "text/plain": [
       "SVC()"
      ]
     },
     "execution_count": 172,
     "metadata": {},
     "output_type": "execute_result"
    }
   ],
   "source": [
    "\"\"\"\n",
    "Even if we are not experts at breast cancer detection, the beauty of machine learning\n",
    "is that we can extract information from the data even if we are not doctors. \n",
    "It doens't matter what the data is, it does not affect how the algorithm works.\n",
    "\"\"\"\n",
    "from sklearn.svm import SVC\n",
    "\n",
    "model = SVC(kernel='rbf')\n",
    "# model = SVC()\n",
    "model.fit(Xtrain, Ytrain)"
   ]
  },
  {
   "cell_type": "markdown",
   "metadata": {
    "colab_type": "text",
    "id": "sgVFpaFgSzt2"
   },
   "source": [
    "### Evaluate the SVC - default RBF kernel"
   ]
  },
  {
   "cell_type": "code",
   "execution_count": 173,
   "metadata": {
    "colab": {
     "base_uri": "https://localhost:8080/",
     "height": 51
    },
    "colab_type": "code",
    "id": "nRN_UoBESzt3",
    "outputId": "473406a1-e21b-4591-cb4b-60f312fdce9c"
   },
   "outputs": [
    {
     "name": "stdout",
     "output_type": "stream",
     "text": [
      "train score: 0.9874371859296482\n",
      "test score: 0.9649122807017544\n"
     ]
    }
   ],
   "source": [
    "print(\"train score:\", model.score(Xtrain, Ytrain))\n",
    "print(\"test score:\", model.score(Xtest, Ytest))"
   ]
  },
  {
   "cell_type": "markdown",
   "metadata": {
    "colab_type": "text",
    "id": "KsSDDLQ5TL9M"
   },
   "source": [
    "### Conclusion\n",
    "\n",
    "A linear model is good enough so a non-linear model is not needed. As a reminder, just because you can use a more expressive model (non-linear) you don't need to use it. Sometimes, linear models are good enough generalizers and faster to train."
   ]
  },
  {
   "cell_type": "markdown",
   "metadata": {
    "colab_type": "text",
    "id": "fKOdqWFuaEDV"
   },
   "source": [
    "## SVM - Concrete regression\n",
    "\n",
    "The UUID is **#S5C4**. You can use it to refer to the slides in Session 5."
   ]
  },
  {
   "cell_type": "markdown",
   "metadata": {
    "colab_type": "text",
    "id": "a-BW6IsGc3jr"
   },
   "source": [
    "### Download and load the data"
   ]
  },
  {
   "cell_type": "code",
   "execution_count": null,
   "metadata": {
    "colab": {
     "base_uri": "https://localhost:8080/",
     "height": 224
    },
    "colab_type": "code",
    "id": "5Jt4ojInSsGy",
    "outputId": "ce2400f3-11be-4d70-d560-38a810c8e30c"
   },
   "outputs": [],
   "source": []
  },
  {
   "cell_type": "code",
   "execution_count": 95,
   "metadata": {
    "colab": {
     "base_uri": "https://localhost:8080/",
     "height": 326
    },
    "colab_type": "code",
    "id": "EkLAJBNtaOwL",
    "outputId": "d1b26e46-b03c-45f5-a4d8-76b4fa33f0f0"
   },
   "outputs": [
    {
     "data": {
      "text/html": [
       "<div>\n",
       "<style scoped>\n",
       "    .dataframe tbody tr th:only-of-type {\n",
       "        vertical-align: middle;\n",
       "    }\n",
       "\n",
       "    .dataframe tbody tr th {\n",
       "        vertical-align: top;\n",
       "    }\n",
       "\n",
       "    .dataframe thead th {\n",
       "        text-align: right;\n",
       "    }\n",
       "</style>\n",
       "<table border=\"1\" class=\"dataframe\">\n",
       "  <thead>\n",
       "    <tr style=\"text-align: right;\">\n",
       "      <th></th>\n",
       "      <th>Cement (component 1)(kg in a m^3 mixture)</th>\n",
       "      <th>Blast Furnace Slag (component 2)(kg in a m^3 mixture)</th>\n",
       "      <th>Fly Ash (component 3)(kg in a m^3 mixture)</th>\n",
       "      <th>Water  (component 4)(kg in a m^3 mixture)</th>\n",
       "      <th>Superplasticizer (component 5)(kg in a m^3 mixture)</th>\n",
       "      <th>Coarse Aggregate  (component 6)(kg in a m^3 mixture)</th>\n",
       "      <th>Fine Aggregate (component 7)(kg in a m^3 mixture)</th>\n",
       "      <th>Age (day)</th>\n",
       "      <th>Concrete compressive strength(MPa, megapascals)</th>\n",
       "    </tr>\n",
       "  </thead>\n",
       "  <tbody>\n",
       "    <tr>\n",
       "      <th>0</th>\n",
       "      <td>540.0</td>\n",
       "      <td>0.0</td>\n",
       "      <td>0.0</td>\n",
       "      <td>162.0</td>\n",
       "      <td>2.5</td>\n",
       "      <td>1040.0</td>\n",
       "      <td>676.0</td>\n",
       "      <td>28</td>\n",
       "      <td>79.986111</td>\n",
       "    </tr>\n",
       "    <tr>\n",
       "      <th>1</th>\n",
       "      <td>540.0</td>\n",
       "      <td>0.0</td>\n",
       "      <td>0.0</td>\n",
       "      <td>162.0</td>\n",
       "      <td>2.5</td>\n",
       "      <td>1055.0</td>\n",
       "      <td>676.0</td>\n",
       "      <td>28</td>\n",
       "      <td>61.887366</td>\n",
       "    </tr>\n",
       "    <tr>\n",
       "      <th>2</th>\n",
       "      <td>332.5</td>\n",
       "      <td>142.5</td>\n",
       "      <td>0.0</td>\n",
       "      <td>228.0</td>\n",
       "      <td>0.0</td>\n",
       "      <td>932.0</td>\n",
       "      <td>594.0</td>\n",
       "      <td>270</td>\n",
       "      <td>40.269535</td>\n",
       "    </tr>\n",
       "    <tr>\n",
       "      <th>3</th>\n",
       "      <td>332.5</td>\n",
       "      <td>142.5</td>\n",
       "      <td>0.0</td>\n",
       "      <td>228.0</td>\n",
       "      <td>0.0</td>\n",
       "      <td>932.0</td>\n",
       "      <td>594.0</td>\n",
       "      <td>365</td>\n",
       "      <td>41.052780</td>\n",
       "    </tr>\n",
       "    <tr>\n",
       "      <th>4</th>\n",
       "      <td>198.6</td>\n",
       "      <td>132.4</td>\n",
       "      <td>0.0</td>\n",
       "      <td>192.0</td>\n",
       "      <td>0.0</td>\n",
       "      <td>978.4</td>\n",
       "      <td>825.5</td>\n",
       "      <td>360</td>\n",
       "      <td>44.296075</td>\n",
       "    </tr>\n",
       "  </tbody>\n",
       "</table>\n",
       "</div>"
      ],
      "text/plain": [
       "   Cement (component 1)(kg in a m^3 mixture)  \\\n",
       "0                                      540.0   \n",
       "1                                      540.0   \n",
       "2                                      332.5   \n",
       "3                                      332.5   \n",
       "4                                      198.6   \n",
       "\n",
       "   Blast Furnace Slag (component 2)(kg in a m^3 mixture)  \\\n",
       "0                                                0.0       \n",
       "1                                                0.0       \n",
       "2                                              142.5       \n",
       "3                                              142.5       \n",
       "4                                              132.4       \n",
       "\n",
       "   Fly Ash (component 3)(kg in a m^3 mixture)  \\\n",
       "0                                         0.0   \n",
       "1                                         0.0   \n",
       "2                                         0.0   \n",
       "3                                         0.0   \n",
       "4                                         0.0   \n",
       "\n",
       "   Water  (component 4)(kg in a m^3 mixture)  \\\n",
       "0                                      162.0   \n",
       "1                                      162.0   \n",
       "2                                      228.0   \n",
       "3                                      228.0   \n",
       "4                                      192.0   \n",
       "\n",
       "   Superplasticizer (component 5)(kg in a m^3 mixture)  \\\n",
       "0                                                2.5     \n",
       "1                                                2.5     \n",
       "2                                                0.0     \n",
       "3                                                0.0     \n",
       "4                                                0.0     \n",
       "\n",
       "   Coarse Aggregate  (component 6)(kg in a m^3 mixture)  \\\n",
       "0                                             1040.0      \n",
       "1                                             1055.0      \n",
       "2                                              932.0      \n",
       "3                                              932.0      \n",
       "4                                              978.4      \n",
       "\n",
       "   Fine Aggregate (component 7)(kg in a m^3 mixture)  Age (day)  \\\n",
       "0                                              676.0         28   \n",
       "1                                              676.0         28   \n",
       "2                                              594.0        270   \n",
       "3                                              594.0        365   \n",
       "4                                              825.5        360   \n",
       "\n",
       "   Concrete compressive strength(MPa, megapascals)   \n",
       "0                                         79.986111  \n",
       "1                                         61.887366  \n",
       "2                                         40.269535  \n",
       "3                                         41.052780  \n",
       "4                                         44.296075  "
      ]
     },
     "execution_count": 95,
     "metadata": {},
     "output_type": "execute_result"
    }
   ],
   "source": [
    "import pandas as pd\n",
    "\n",
    "df = pd.read_excel('data/Concrete_Data.xls')\n",
    "df.head()"
   ]
  },
  {
   "cell_type": "markdown",
   "metadata": {
    "colab_type": "text",
    "id": "uhXLQUSmc6iP"
   },
   "source": [
    "### Preprocess the data"
   ]
  },
  {
   "cell_type": "code",
   "execution_count": 96,
   "metadata": {
    "colab": {
     "base_uri": "https://localhost:8080/",
     "height": 204
    },
    "colab_type": "code",
    "id": "5Opkcm5PaV1-",
    "outputId": "201613db-e70f-46cb-ba2f-85b86966138e"
   },
   "outputs": [
    {
     "data": {
      "text/html": [
       "<div>\n",
       "<style scoped>\n",
       "    .dataframe tbody tr th:only-of-type {\n",
       "        vertical-align: middle;\n",
       "    }\n",
       "\n",
       "    .dataframe tbody tr th {\n",
       "        vertical-align: top;\n",
       "    }\n",
       "\n",
       "    .dataframe thead th {\n",
       "        text-align: right;\n",
       "    }\n",
       "</style>\n",
       "<table border=\"1\" class=\"dataframe\">\n",
       "  <thead>\n",
       "    <tr style=\"text-align: right;\">\n",
       "      <th></th>\n",
       "      <th>0</th>\n",
       "      <th>1</th>\n",
       "      <th>2</th>\n",
       "      <th>3</th>\n",
       "      <th>4</th>\n",
       "      <th>5</th>\n",
       "      <th>6</th>\n",
       "      <th>7</th>\n",
       "      <th>8</th>\n",
       "    </tr>\n",
       "  </thead>\n",
       "  <tbody>\n",
       "    <tr>\n",
       "      <th>0</th>\n",
       "      <td>540.0</td>\n",
       "      <td>0.0</td>\n",
       "      <td>0.0</td>\n",
       "      <td>162.0</td>\n",
       "      <td>2.5</td>\n",
       "      <td>1040.0</td>\n",
       "      <td>676.0</td>\n",
       "      <td>28</td>\n",
       "      <td>79.986111</td>\n",
       "    </tr>\n",
       "    <tr>\n",
       "      <th>1</th>\n",
       "      <td>540.0</td>\n",
       "      <td>0.0</td>\n",
       "      <td>0.0</td>\n",
       "      <td>162.0</td>\n",
       "      <td>2.5</td>\n",
       "      <td>1055.0</td>\n",
       "      <td>676.0</td>\n",
       "      <td>28</td>\n",
       "      <td>61.887366</td>\n",
       "    </tr>\n",
       "    <tr>\n",
       "      <th>2</th>\n",
       "      <td>332.5</td>\n",
       "      <td>142.5</td>\n",
       "      <td>0.0</td>\n",
       "      <td>228.0</td>\n",
       "      <td>0.0</td>\n",
       "      <td>932.0</td>\n",
       "      <td>594.0</td>\n",
       "      <td>270</td>\n",
       "      <td>40.269535</td>\n",
       "    </tr>\n",
       "    <tr>\n",
       "      <th>3</th>\n",
       "      <td>332.5</td>\n",
       "      <td>142.5</td>\n",
       "      <td>0.0</td>\n",
       "      <td>228.0</td>\n",
       "      <td>0.0</td>\n",
       "      <td>932.0</td>\n",
       "      <td>594.0</td>\n",
       "      <td>365</td>\n",
       "      <td>41.052780</td>\n",
       "    </tr>\n",
       "    <tr>\n",
       "      <th>4</th>\n",
       "      <td>198.6</td>\n",
       "      <td>132.4</td>\n",
       "      <td>0.0</td>\n",
       "      <td>192.0</td>\n",
       "      <td>0.0</td>\n",
       "      <td>978.4</td>\n",
       "      <td>825.5</td>\n",
       "      <td>360</td>\n",
       "      <td>44.296075</td>\n",
       "    </tr>\n",
       "  </tbody>\n",
       "</table>\n",
       "</div>"
      ],
      "text/plain": [
       "       0      1    2      3    4       5      6    7          8\n",
       "0  540.0    0.0  0.0  162.0  2.5  1040.0  676.0   28  79.986111\n",
       "1  540.0    0.0  0.0  162.0  2.5  1055.0  676.0   28  61.887366\n",
       "2  332.5  142.5  0.0  228.0  0.0   932.0  594.0  270  40.269535\n",
       "3  332.5  142.5  0.0  228.0  0.0   932.0  594.0  365  41.052780\n",
       "4  198.6  132.4  0.0  192.0  0.0   978.4  825.5  360  44.296075"
      ]
     },
     "execution_count": 96,
     "metadata": {},
     "output_type": "execute_result"
    }
   ],
   "source": [
    "# We take out those crazy titles and pass the number of each column\n",
    "df.columns = list(range(df.shape[1]))\n",
    "df.head()"
   ]
  },
  {
   "cell_type": "code",
   "execution_count": 97,
   "metadata": {
    "colab": {},
    "colab_type": "code",
    "id": "dAS_HcwVaiDr"
   },
   "outputs": [],
   "source": [
    "# We load the column values as numpy array\n",
    "# Column 8 is the compressive strenght, the target\n",
    "X = df[[0,1,2,3,4,5,6,7]].values\n",
    "Y = df[8].values"
   ]
  },
  {
   "cell_type": "code",
   "execution_count": 98,
   "metadata": {
    "colab": {
     "base_uri": "https://localhost:8080/",
     "height": 34
    },
    "colab_type": "code",
    "id": "bTjkHa8pakAG",
    "outputId": "9e214d9e-967e-45ba-d4d2-6ff5007032ee"
   },
   "outputs": [
    {
     "data": {
      "text/plain": [
       "(340,)"
      ]
     },
     "execution_count": 98,
     "metadata": {},
     "output_type": "execute_result"
    }
   ],
   "source": [
    "from sklearn.model_selection import train_test_split\n",
    "\n",
    "Xtrain, Xtest, Ytrain, Ytest = train_test_split(X, Y, test_size=0.33)\n",
    "Ytest.shape"
   ]
  },
  {
   "cell_type": "markdown",
   "metadata": {
    "colab_type": "text",
    "id": "AXoBzTsAeKoH"
   },
   "source": [
    "We standardize both input and target"
   ]
  },
  {
   "cell_type": "code",
   "execution_count": 99,
   "metadata": {
    "colab": {},
    "colab_type": "code",
    "id": "Hpdz_z_ZamIn"
   },
   "outputs": [],
   "source": [
    "from sklearn.preprocessing import StandardScaler\n",
    "\n",
    "scaler = StandardScaler()\n",
    "Xtrain = scaler.fit_transform(Xtrain)\n",
    "Xtest = scaler.transform(Xtest)"
   ]
  },
  {
   "cell_type": "code",
   "execution_count": 100,
   "metadata": {
    "colab": {
     "base_uri": "https://localhost:8080/",
     "height": 1000
    },
    "colab_type": "code",
    "collapsed": true,
    "id": "bNO2Sji4e6EQ",
    "jupyter": {
     "outputs_hidden": true
    },
    "outputId": "3102072b-8a26-4847-e5f7-955c414b0088",
    "tags": []
   },
   "outputs": [
    {
     "ename": "ValueError",
     "evalue": "Expected 2D array, got 1D array instead:\narray=[43.94237391 24.28334472 53.104131   41.05277999 38.40795006 50.77301264\n 52.82696164 66.9481196  40.85834776 35.75425543 15.81657944 51.021224\n 50.07664188 38.76923548 33.60506024 36.80422888 23.786922   45.89841732\n 40.75906322 26.0621928  33.39821744 14.63826496 63.14221208 23.8903434\n 19.35014394 33.21205892 28.79941252 32.82319446 39.300132   28.98557104\n 50.93848688 17.20035777 37.43165204 31.25394708 20.08443588 55.49592324\n 65.69721315 31.35047372 18.19871902 47.81378165 25.48303296  9.4458212\n 30.21973308 14.98920824 41.68020315 51.86376367 41.09966436 37.72192144\n 24.48329276 39.300132   38.6306508  38.60376124 41.1617172  37.99702236\n 43.58177796 25.57335432 33.35684888 45.70536404 40.14818748 42.32693164\n  8.48744956 36.3498642  18.0297974  13.20208645 71.69860924 69.29923276\n 76.23536132 35.34253976 59.59042572 53.69225402 16.50398701 72.09850532\n 51.021224   13.35515012 32.6266938  34.48758952 41.66503468 67.568648\n 27.53077668 52.30364936 29.93015316 56.33708396 19.1991487  12.45193656\n 24.00065956 38.21075992 77.29715436 14.98920824 62.93536928 42.919881\n 19.0095428  37.231704   31.11605188 40.38950408 69.65776028 26.31040416\n 71.98818916 21.6495464  29.23171397 20.27748916 35.22532884 82.5992248\n 16.87837248 39.94134468 14.54104884 41.71950328 52.42086028 49.99390476\n 10.38350856 19.41564416 47.09810556 33.56369168 12.78840085 36.44570136\n 58.60546    21.50475644 68.75060685 52.00717468 35.57006684 71.62276688\n 30.44726016 78.80021204 46.23419213 15.60973664 55.45455468 21.78054684\n 38.20386516 18.91232668 17.54026944 21.8591471  28.59946448 81.75116932\n 44.6980396  21.81984697 21.48062478 74.16693332 74.69782984 40.679084\n 31.1787942  29.15794004 31.2677366  39.64487    64.90037588 25.89396066\n 36.3009114  39.300132   36.93522932 42.03045696 79.29663476 41.20308576\n 32.10988228 23.83518532 39.58971192 54.89607912 18.28490352 56.3991368\n 12.24509376 44.20920112 39.28978986 54.27555072 29.89223198 30.6472082\n 26.91714304 15.04919265 35.3011712  31.64005364 17.95947085 33.00521612\n 38.70028788 42.13387836 22.89749796 25.96566616 37.91704314 20.41607384\n 31.35047372 40.06200298 12.5484632  27.66177712 74.36491146 65.99664272\n 30.14389072 48.28400428 33.08795324 29.72606826 42.62064842 19.76520849\n 34.6806428  29.86810032 40.9348796  44.20782217 55.25460664 44.52360218\n 48.69562145 55.82687172 55.89581932 41.05140104 56.8128224  50.52686971\n 20.96696516 37.25928304 67.11359384 20.91870184 17.22311048 39.32150576\n 23.73865868 10.08979178 26.74477404 26.96540636 36.14922668 23.51802636\n 25.3727168  14.69962832 38.21558625 26.84819544 25.42235907 27.82725136\n 37.16965116 26.85991653 39.2311844  36.56291228 34.90127512 73.69808964\n 12.54156844 30.57136584 26.40003604 33.01900564 32.10269204 44.6118551\n 44.284354   17.95395504 48.97348028 24.53845084 80.19984832 33.05347944\n 32.76389952 68.09954452 51.03501352 46.24315532 33.79811352 30.43967592\n 15.52631004 11.48391226 44.63667624 53.95839176 16.10960674 38.50033984\n 12.47262084 48.79421652 79.40005616 16.49916068 33.71882378 38.32797084\n 11.39221195 32.05167081 43.25082948 22.50449664  7.72351015 15.41668336\n 28.62704352 24.0971862  13.45857152 30.2335226  21.8591471  42.29245784\n 21.17932377 31.87516496 67.86512268 40.28509772 62.5009994  55.59934464\n 38.11423328 21.16001844 61.79773388 59.89478012 53.46196904 41.540929\n 24.91766264 33.68779736 32.53292506 37.36270444 44.32641204 29.65436276\n 60.2946762  32.06821824 45.93978588 37.2661778  44.2960751  59.79825348\n 15.57526284 36.44363293 28.62980142 24.24197616 15.340841   67.30664712\n 66.82401392 31.97100212 51.4349096  13.54130864 66.10006412 45.08483564\n 20.72564856 29.87085822  8.53571288 29.55094136 15.52010476 15.52010476\n 39.6103962   7.31534036 43.57833058 29.06830816 38.46103971 61.92183956\n 25.5595648  31.02642    33.30651713 19.76520849 13.5654403  33.11691123\n 25.08313688 13.19657064 56.61907964 38.70028788 36.96418731 13.66403537\n 24.29092896 17.3403214  23.74417449 10.53588276 14.8437288  71.29871316\n 45.30477848 42.13112046 15.74832132 37.36339392 65.90907927 52.95865156\n 17.96429718  9.73815902 59.19840936 39.45595358 15.42357812 47.73931824\n 24.13166    49.24927068 10.3938507  33.39821744 25.68987576 19.69143456\n 54.09628696 17.43684804 33.94290348 35.86585204 14.94094492 53.30063166\n 79.29663476 55.89581932 24.00065956 51.73276323 17.54026944 41.05140104\n 41.9346198  43.6982994  32.23989776 30.27558064 32.83974188 35.36322404\n 24.0654703  53.57917996 39.77931782  6.90234424 14.39625888 39.0932892\n 55.89581932 17.36790044 15.06997543 41.68434001 31.715896   47.8151606\n 41.36856    24.43778734 25.44786968 72.29845336  4.82771095 11.36256448\n 77.29715436 40.85696881 25.10382116 11.46598588  8.53640236 61.45989064\n 14.2032056  39.35804798 12.37264682 35.22532884 10.35455057 39.0560575\n 56.63355864 54.37828264 55.0201848  10.33593472 39.45181672  9.13142014\n 39.05192064 41.36856    74.19451236 15.340841   45.3675208  52.20022796\n 19.10537996 17.57612219 23.52354217 42.69924868 15.09125069 18.41590396\n 36.58842289 39.1622368  31.89998609 28.02168359 38.07424367 33.0431373\n 43.56523054 39.84481804 25.0969264  31.17810472 58.78472376 23.07676172\n 46.24729218 47.7144971  40.1964508  29.21999288 53.52471136 36.83870268\n 22.752708   45.3675208  23.84897484 28.6822016   9.01145132 31.6469484\n 11.46598588 64.30053176  7.67593631 47.96684532 22.53207568 74.4978818\n 41.05346947 33.39959639 38.45897128 20.72564856 40.92522693 26.94472208\n 21.0634918  43.0577762  40.65839972 23.63917715  6.26733684 25.60910857\n 16.8894041  48.58737372 34.29453624 61.23581094 65.19685056 12.18097249\n 22.62998127 32.01138572 33.3016908  40.0585556  44.39535964 13.12072828\n 20.77391188 56.06129356 35.3011712  37.92118    54.31554033 59.49488404\n 33.70158688 71.29871316 31.38150014 76.80073164 41.40992856 65.19685056\n 33.41890172 51.95891136 28.23748958 29.59230992 56.14403068 21.7529678\n  9.56165317 32.8535314  37.6798634  17.83674412 18.74616296 12.05204048\n 52.42637609 43.73346268  6.88372838 22.43554904 36.2519586  79.29663476\n 27.68108245 41.885667   48.67011084  7.50701469 17.8229546  42.14008364\n 64.90037588 34.77027468 50.51101176 29.72331036 39.48629052 19.53906036\n 25.46096973 35.3011712  13.29378676 66.69990824 29.54897143 33.72916592\n 52.51669744 43.49904084 24.39366088 23.69039536 27.04124872 52.61391356\n 64.30053176 33.76226077 22.31833812 25.17966352 38.01770664 13.08901238\n 31.74347504 33.39821744 42.79577532 23.22155168 49.20100736 43.69898888\n 22.43554904 67.69964844 15.43736764 37.81086384 27.42046052 25.17966352\n 42.54756396 33.08243743 32.66047812  9.61750072 63.3973182  43.37700359\n 13.62404576 15.61594192 33.39821744 39.4352693  26.04840328 46.38794528\n 17.59680647 39.42147978 26.0621928  22.93197176 26.91369566 35.2322236\n 41.8367142  13.22414968  6.94095489 57.21271848 15.04436632 32.39847724\n 17.16588397 13.39553372 32.9569528  30.38520732 10.22217118 11.95758227\n 29.41304616 53.38612668 35.31427124 18.03393426 24.98661024 15.36152528\n 29.58541516 13.33446584 39.39665864 28.46846404 27.62730332 44.13335876\n 43.89204216 25.62092816 27.93549909 52.90831981 65.90701084 46.80163088\n 13.71367764 40.86524252 55.50971276 29.7853632  56.09576736 66.42411784\n 42.6440906  12.83804312 45.08483564 53.90323368 49.97322048 21.02212324\n  8.3743755  25.21689522 13.81709904 15.56836808 46.68441996 55.55108132\n 59.09498796 14.14391066 44.6090972  60.32225524 39.00464228 30.88163004\n 35.85964676 41.94082508 72.99482412 57.226508   52.1243856  40.26953526\n 26.8550902  33.75674496 10.73031499 25.11662572 17.23621052 62.05284\n 26.22766704 26.92265885 36.93522932 18.12632404 31.35047372 32.72253096\n 12.4595208   6.46728488 14.49968028 28.9379972  15.87173752 53.72396992\n 30.12320644 24.3385028  60.2946762  55.64760796 35.07640202 53.65502232\n 32.72046253 24.40055564 19.51906556 11.41427518 79.29663476 43.01296026\n 47.401475    2.33180783 30.07976945 31.84000168 31.0236621  52.90831981\n 56.69561148 42.34761592 16.26473884 24.28196577 66.78067543  9.84965715\n 58.52272288 21.26343984 32.76803638  3.31982694 39.60488039 50.69717028\n 23.34565736 47.7117392  12.17614616  4.5650206   7.83934212 70.69886904\n 42.42345828 19.93275116 27.234302   32.32952964 37.2661778  53.52402188\n 33.48883428 52.44637089 46.89815752 18.01600788 64.0178466  45.83636448\n 44.14025352 41.15137506 22.34798559 52.5035974  49.77327244 33.96358776].\nReshape your data either using array.reshape(-1, 1) if your data has a single feature or array.reshape(1, -1) if it contains a single sample.",
     "output_type": "error",
     "traceback": [
      "\u001b[0;31m---------------------------------------------------------------------------\u001b[0m",
      "\u001b[0;31mValueError\u001b[0m                                Traceback (most recent call last)",
      "\u001b[0;32m/var/folders/8k/smsk423d6472cmj_0crn22_00000gn/T/ipykernel_28735/2554546306.py\u001b[0m in \u001b[0;36m<module>\u001b[0;34m\u001b[0m\n\u001b[1;32m      1\u001b[0m \u001b[0;31m# For the target, this will through an error because expects 2D array and target is 1D\u001b[0m\u001b[0;34m\u001b[0m\u001b[0;34m\u001b[0m\u001b[0;34m\u001b[0m\u001b[0m\n\u001b[1;32m      2\u001b[0m \u001b[0mtarget_scaler\u001b[0m \u001b[0;34m=\u001b[0m \u001b[0mStandardScaler\u001b[0m\u001b[0;34m(\u001b[0m\u001b[0;34m)\u001b[0m\u001b[0;34m\u001b[0m\u001b[0;34m\u001b[0m\u001b[0m\n\u001b[0;32m----> 3\u001b[0;31m \u001b[0mYtrain\u001b[0m \u001b[0;34m=\u001b[0m \u001b[0mtarget_scaler\u001b[0m\u001b[0;34m.\u001b[0m\u001b[0mfit_transform\u001b[0m\u001b[0;34m(\u001b[0m\u001b[0mYtrain\u001b[0m\u001b[0;34m)\u001b[0m\u001b[0;34m\u001b[0m\u001b[0;34m\u001b[0m\u001b[0m\n\u001b[0m\u001b[1;32m      4\u001b[0m \u001b[0mYtest\u001b[0m \u001b[0;34m=\u001b[0m \u001b[0mtarget_scaler\u001b[0m\u001b[0;34m.\u001b[0m\u001b[0mtransform\u001b[0m\u001b[0;34m(\u001b[0m\u001b[0mYtest\u001b[0m\u001b[0;34m)\u001b[0m\u001b[0;34m\u001b[0m\u001b[0;34m\u001b[0m\u001b[0m\n\u001b[1;32m      5\u001b[0m \u001b[0mYtest\u001b[0m\u001b[0;34m.\u001b[0m\u001b[0mshape\u001b[0m\u001b[0;34m\u001b[0m\u001b[0;34m\u001b[0m\u001b[0m\n",
      "\u001b[0;32m~/bts/venv/lib/python3.9/site-packages/sklearn/base.py\u001b[0m in \u001b[0;36mfit_transform\u001b[0;34m(self, X, y, **fit_params)\u001b[0m\n\u001b[1;32m    845\u001b[0m         \u001b[0;32mif\u001b[0m \u001b[0my\u001b[0m \u001b[0;32mis\u001b[0m \u001b[0;32mNone\u001b[0m\u001b[0;34m:\u001b[0m\u001b[0;34m\u001b[0m\u001b[0;34m\u001b[0m\u001b[0m\n\u001b[1;32m    846\u001b[0m             \u001b[0;31m# fit method of arity 1 (unsupervised transformation)\u001b[0m\u001b[0;34m\u001b[0m\u001b[0;34m\u001b[0m\u001b[0;34m\u001b[0m\u001b[0m\n\u001b[0;32m--> 847\u001b[0;31m             \u001b[0;32mreturn\u001b[0m \u001b[0mself\u001b[0m\u001b[0;34m.\u001b[0m\u001b[0mfit\u001b[0m\u001b[0;34m(\u001b[0m\u001b[0mX\u001b[0m\u001b[0;34m,\u001b[0m \u001b[0;34m**\u001b[0m\u001b[0mfit_params\u001b[0m\u001b[0;34m)\u001b[0m\u001b[0;34m.\u001b[0m\u001b[0mtransform\u001b[0m\u001b[0;34m(\u001b[0m\u001b[0mX\u001b[0m\u001b[0;34m)\u001b[0m\u001b[0;34m\u001b[0m\u001b[0;34m\u001b[0m\u001b[0m\n\u001b[0m\u001b[1;32m    848\u001b[0m         \u001b[0;32melse\u001b[0m\u001b[0;34m:\u001b[0m\u001b[0;34m\u001b[0m\u001b[0;34m\u001b[0m\u001b[0m\n\u001b[1;32m    849\u001b[0m             \u001b[0;31m# fit method of arity 2 (supervised transformation)\u001b[0m\u001b[0;34m\u001b[0m\u001b[0;34m\u001b[0m\u001b[0;34m\u001b[0m\u001b[0m\n",
      "\u001b[0;32m~/bts/venv/lib/python3.9/site-packages/sklearn/preprocessing/_data.py\u001b[0m in \u001b[0;36mfit\u001b[0;34m(self, X, y, sample_weight)\u001b[0m\n\u001b[1;32m    804\u001b[0m         \u001b[0;31m# Reset internal state before fitting\u001b[0m\u001b[0;34m\u001b[0m\u001b[0;34m\u001b[0m\u001b[0;34m\u001b[0m\u001b[0m\n\u001b[1;32m    805\u001b[0m         \u001b[0mself\u001b[0m\u001b[0;34m.\u001b[0m\u001b[0m_reset\u001b[0m\u001b[0;34m(\u001b[0m\u001b[0;34m)\u001b[0m\u001b[0;34m\u001b[0m\u001b[0;34m\u001b[0m\u001b[0m\n\u001b[0;32m--> 806\u001b[0;31m         \u001b[0;32mreturn\u001b[0m \u001b[0mself\u001b[0m\u001b[0;34m.\u001b[0m\u001b[0mpartial_fit\u001b[0m\u001b[0;34m(\u001b[0m\u001b[0mX\u001b[0m\u001b[0;34m,\u001b[0m \u001b[0my\u001b[0m\u001b[0;34m,\u001b[0m \u001b[0msample_weight\u001b[0m\u001b[0;34m)\u001b[0m\u001b[0;34m\u001b[0m\u001b[0;34m\u001b[0m\u001b[0m\n\u001b[0m\u001b[1;32m    807\u001b[0m \u001b[0;34m\u001b[0m\u001b[0m\n\u001b[1;32m    808\u001b[0m     \u001b[0;32mdef\u001b[0m \u001b[0mpartial_fit\u001b[0m\u001b[0;34m(\u001b[0m\u001b[0mself\u001b[0m\u001b[0;34m,\u001b[0m \u001b[0mX\u001b[0m\u001b[0;34m,\u001b[0m \u001b[0my\u001b[0m\u001b[0;34m=\u001b[0m\u001b[0;32mNone\u001b[0m\u001b[0;34m,\u001b[0m \u001b[0msample_weight\u001b[0m\u001b[0;34m=\u001b[0m\u001b[0;32mNone\u001b[0m\u001b[0;34m)\u001b[0m\u001b[0;34m:\u001b[0m\u001b[0;34m\u001b[0m\u001b[0;34m\u001b[0m\u001b[0m\n",
      "\u001b[0;32m~/bts/venv/lib/python3.9/site-packages/sklearn/preprocessing/_data.py\u001b[0m in \u001b[0;36mpartial_fit\u001b[0;34m(self, X, y, sample_weight)\u001b[0m\n\u001b[1;32m    839\u001b[0m         \"\"\"\n\u001b[1;32m    840\u001b[0m         \u001b[0mfirst_call\u001b[0m \u001b[0;34m=\u001b[0m \u001b[0;32mnot\u001b[0m \u001b[0mhasattr\u001b[0m\u001b[0;34m(\u001b[0m\u001b[0mself\u001b[0m\u001b[0;34m,\u001b[0m \u001b[0;34m\"n_samples_seen_\"\u001b[0m\u001b[0;34m)\u001b[0m\u001b[0;34m\u001b[0m\u001b[0;34m\u001b[0m\u001b[0m\n\u001b[0;32m--> 841\u001b[0;31m         X = self._validate_data(\n\u001b[0m\u001b[1;32m    842\u001b[0m             \u001b[0mX\u001b[0m\u001b[0;34m,\u001b[0m\u001b[0;34m\u001b[0m\u001b[0;34m\u001b[0m\u001b[0m\n\u001b[1;32m    843\u001b[0m             \u001b[0maccept_sparse\u001b[0m\u001b[0;34m=\u001b[0m\u001b[0;34m(\u001b[0m\u001b[0;34m\"csr\"\u001b[0m\u001b[0;34m,\u001b[0m \u001b[0;34m\"csc\"\u001b[0m\u001b[0;34m)\u001b[0m\u001b[0;34m,\u001b[0m\u001b[0;34m\u001b[0m\u001b[0;34m\u001b[0m\u001b[0m\n",
      "\u001b[0;32m~/bts/venv/lib/python3.9/site-packages/sklearn/base.py\u001b[0m in \u001b[0;36m_validate_data\u001b[0;34m(self, X, y, reset, validate_separately, **check_params)\u001b[0m\n\u001b[1;32m    559\u001b[0m             \u001b[0;32mraise\u001b[0m \u001b[0mValueError\u001b[0m\u001b[0;34m(\u001b[0m\u001b[0;34m\"Validation should be done on X, y or both.\"\u001b[0m\u001b[0;34m)\u001b[0m\u001b[0;34m\u001b[0m\u001b[0;34m\u001b[0m\u001b[0m\n\u001b[1;32m    560\u001b[0m         \u001b[0;32melif\u001b[0m \u001b[0;32mnot\u001b[0m \u001b[0mno_val_X\u001b[0m \u001b[0;32mand\u001b[0m \u001b[0mno_val_y\u001b[0m\u001b[0;34m:\u001b[0m\u001b[0;34m\u001b[0m\u001b[0;34m\u001b[0m\u001b[0m\n\u001b[0;32m--> 561\u001b[0;31m             \u001b[0mX\u001b[0m \u001b[0;34m=\u001b[0m \u001b[0mcheck_array\u001b[0m\u001b[0;34m(\u001b[0m\u001b[0mX\u001b[0m\u001b[0;34m,\u001b[0m \u001b[0;34m**\u001b[0m\u001b[0mcheck_params\u001b[0m\u001b[0;34m)\u001b[0m\u001b[0;34m\u001b[0m\u001b[0;34m\u001b[0m\u001b[0m\n\u001b[0m\u001b[1;32m    562\u001b[0m             \u001b[0mout\u001b[0m \u001b[0;34m=\u001b[0m \u001b[0mX\u001b[0m\u001b[0;34m\u001b[0m\u001b[0;34m\u001b[0m\u001b[0m\n\u001b[1;32m    563\u001b[0m         \u001b[0;32melif\u001b[0m \u001b[0mno_val_X\u001b[0m \u001b[0;32mand\u001b[0m \u001b[0;32mnot\u001b[0m \u001b[0mno_val_y\u001b[0m\u001b[0;34m:\u001b[0m\u001b[0;34m\u001b[0m\u001b[0;34m\u001b[0m\u001b[0m\n",
      "\u001b[0;32m~/bts/venv/lib/python3.9/site-packages/sklearn/utils/validation.py\u001b[0m in \u001b[0;36mcheck_array\u001b[0;34m(array, accept_sparse, accept_large_sparse, dtype, order, copy, force_all_finite, ensure_2d, allow_nd, ensure_min_samples, ensure_min_features, estimator)\u001b[0m\n\u001b[1;32m    759\u001b[0m             \u001b[0;31m# If input is 1D raise error\u001b[0m\u001b[0;34m\u001b[0m\u001b[0;34m\u001b[0m\u001b[0;34m\u001b[0m\u001b[0m\n\u001b[1;32m    760\u001b[0m             \u001b[0;32mif\u001b[0m \u001b[0marray\u001b[0m\u001b[0;34m.\u001b[0m\u001b[0mndim\u001b[0m \u001b[0;34m==\u001b[0m \u001b[0;36m1\u001b[0m\u001b[0;34m:\u001b[0m\u001b[0;34m\u001b[0m\u001b[0;34m\u001b[0m\u001b[0m\n\u001b[0;32m--> 761\u001b[0;31m                 raise ValueError(\n\u001b[0m\u001b[1;32m    762\u001b[0m                     \u001b[0;34m\"Expected 2D array, got 1D array instead:\\narray={}.\\n\"\u001b[0m\u001b[0;34m\u001b[0m\u001b[0;34m\u001b[0m\u001b[0m\n\u001b[1;32m    763\u001b[0m                     \u001b[0;34m\"Reshape your data either using array.reshape(-1, 1) if \"\u001b[0m\u001b[0;34m\u001b[0m\u001b[0;34m\u001b[0m\u001b[0m\n",
      "\u001b[0;31mValueError\u001b[0m: Expected 2D array, got 1D array instead:\narray=[43.94237391 24.28334472 53.104131   41.05277999 38.40795006 50.77301264\n 52.82696164 66.9481196  40.85834776 35.75425543 15.81657944 51.021224\n 50.07664188 38.76923548 33.60506024 36.80422888 23.786922   45.89841732\n 40.75906322 26.0621928  33.39821744 14.63826496 63.14221208 23.8903434\n 19.35014394 33.21205892 28.79941252 32.82319446 39.300132   28.98557104\n 50.93848688 17.20035777 37.43165204 31.25394708 20.08443588 55.49592324\n 65.69721315 31.35047372 18.19871902 47.81378165 25.48303296  9.4458212\n 30.21973308 14.98920824 41.68020315 51.86376367 41.09966436 37.72192144\n 24.48329276 39.300132   38.6306508  38.60376124 41.1617172  37.99702236\n 43.58177796 25.57335432 33.35684888 45.70536404 40.14818748 42.32693164\n  8.48744956 36.3498642  18.0297974  13.20208645 71.69860924 69.29923276\n 76.23536132 35.34253976 59.59042572 53.69225402 16.50398701 72.09850532\n 51.021224   13.35515012 32.6266938  34.48758952 41.66503468 67.568648\n 27.53077668 52.30364936 29.93015316 56.33708396 19.1991487  12.45193656\n 24.00065956 38.21075992 77.29715436 14.98920824 62.93536928 42.919881\n 19.0095428  37.231704   31.11605188 40.38950408 69.65776028 26.31040416\n 71.98818916 21.6495464  29.23171397 20.27748916 35.22532884 82.5992248\n 16.87837248 39.94134468 14.54104884 41.71950328 52.42086028 49.99390476\n 10.38350856 19.41564416 47.09810556 33.56369168 12.78840085 36.44570136\n 58.60546    21.50475644 68.75060685 52.00717468 35.57006684 71.62276688\n 30.44726016 78.80021204 46.23419213 15.60973664 55.45455468 21.78054684\n 38.20386516 18.91232668 17.54026944 21.8591471  28.59946448 81.75116932\n 44.6980396  21.81984697 21.48062478 74.16693332 74.69782984 40.679084\n 31.1787942  29.15794004 31.2677366  39.64487    64.90037588 25.89396066\n 36.3009114  39.300132   36.93522932 42.03045696 79.29663476 41.20308576\n 32.10988228 23.83518532 39.58971192 54.89607912 18.28490352 56.3991368\n 12.24509376 44.20920112 39.28978986 54.27555072 29.89223198 30.6472082\n 26.91714304 15.04919265 35.3011712  31.64005364 17.95947085 33.00521612\n 38.70028788 42.13387836 22.89749796 25.96566616 37.91704314 20.41607384\n 31.35047372 40.06200298 12.5484632  27.66177712 74.36491146 65.99664272\n 30.14389072 48.28400428 33.08795324 29.72606826 42.62064842 19.76520849\n 34.6806428  29.86810032 40.9348796  44.20782217 55.25460664 44.52360218\n 48.69562145 55.82687172 55.89581932 41.05140104 56.8128224  50.52686971\n 20.96696516 37.25928304 67.11359384 20.91870184 17.22311048 39.32150576\n 23.73865868 10.08979178 26.74477404 26.96540636 36.14922668 23.51802636\n 25.3727168  14.69962832 38.21558625 26.84819544 25.42235907 27.82725136\n 37.16965116 26.85991653 39.2311844  36.56291228 34.90127512 73.69808964\n 12.54156844 30.57136584 26.40003604 33.01900564 32.10269204 44.6118551\n 44.284354   17.95395504 48.97348028 24.53845084 80.19984832 33.05347944\n 32.76389952 68.09954452 51.03501352 46.24315532 33.79811352 30.43967592\n 15.52631004 11.48391226 44.63667624 53.95839176 16.10960674 38.50033984\n 12.47262084 48.79421652 79.40005616 16.49916068 33.71882378 38.32797084\n 11.39221195 32.05167081 43.25082948 22.50449664  7.72351015 15.41668336\n 28.62704352 24.0971862  13.45857152 30.2335226  21.8591471  42.29245784\n 21.17932377 31.87516496 67.86512268 40.28509772 62.5009994  55.59934464\n 38.11423328 21.16001844 61.79773388 59.89478012 53.46196904 41.540929\n 24.91766264 33.68779736 32.53292506 37.36270444 44.32641204 29.65436276\n 60.2946762  32.06821824 45.93978588 37.2661778  44.2960751  59.79825348\n 15.57526284 36.44363293 28.62980142 24.24197616 15.340841   67.30664712\n 66.82401392 31.97100212 51.4349096  13.54130864 66.10006412 45.08483564\n 20.72564856 29.87085822  8.53571288 29.55094136 15.52010476 15.52010476\n 39.6103962   7.31534036 43.57833058 29.06830816 38.46103971 61.92183956\n 25.5595648  31.02642    33.30651713 19.76520849 13.5654403  33.11691123\n 25.08313688 13.19657064 56.61907964 38.70028788 36.96418731 13.66403537\n 24.29092896 17.3403214  23.74417449 10.53588276 14.8437288  71.29871316\n 45.30477848 42.13112046 15.74832132 37.36339392 65.90907927 52.95865156\n 17.96429718  9.73815902 59.19840936 39.45595358 15.42357812 47.73931824\n 24.13166    49.24927068 10.3938507  33.39821744 25.68987576 19.69143456\n 54.09628696 17.43684804 33.94290348 35.86585204 14.94094492 53.30063166\n 79.29663476 55.89581932 24.00065956 51.73276323 17.54026944 41.05140104\n 41.9346198  43.6982994  32.23989776 30.27558064 32.83974188 35.36322404\n 24.0654703  53.57917996 39.77931782  6.90234424 14.39625888 39.0932892\n 55.89581932 17.36790044 15.06997543 41.68434001 31.715896   47.8151606\n 41.36856    24.43778734 25.44786968 72.29845336  4.82771095 11.36256448\n 77.29715436 40.85696881 25.10382116 11.46598588  8.53640236 61.45989064\n 14.2032056  39.35804798 12.37264682 35.22532884 10.35455057 39.0560575\n 56.63355864 54.37828264 55.0201848  10.33593472 39.45181672  9.13142014\n 39.05192064 41.36856    74.19451236 15.340841   45.3675208  52.20022796\n 19.10537996 17.57612219 23.52354217 42.69924868 15.09125069 18.41590396\n 36.58842289 39.1622368  31.89998609 28.02168359 38.07424367 33.0431373\n 43.56523054 39.84481804 25.0969264  31.17810472 58.78472376 23.07676172\n 46.24729218 47.7144971  40.1964508  29.21999288 53.52471136 36.83870268\n 22.752708   45.3675208  23.84897484 28.6822016   9.01145132 31.6469484\n 11.46598588 64.30053176  7.67593631 47.96684532 22.53207568 74.4978818\n 41.05346947 33.39959639 38.45897128 20.72564856 40.92522693 26.94472208\n 21.0634918  43.0577762  40.65839972 23.63917715  6.26733684 25.60910857\n 16.8894041  48.58737372 34.29453624 61.23581094 65.19685056 12.18097249\n 22.62998127 32.01138572 33.3016908  40.0585556  44.39535964 13.12072828\n 20.77391188 56.06129356 35.3011712  37.92118    54.31554033 59.49488404\n 33.70158688 71.29871316 31.38150014 76.80073164 41.40992856 65.19685056\n 33.41890172 51.95891136 28.23748958 29.59230992 56.14403068 21.7529678\n  9.56165317 32.8535314  37.6798634  17.83674412 18.74616296 12.05204048\n 52.42637609 43.73346268  6.88372838 22.43554904 36.2519586  79.29663476\n 27.68108245 41.885667   48.67011084  7.50701469 17.8229546  42.14008364\n 64.90037588 34.77027468 50.51101176 29.72331036 39.48629052 19.53906036\n 25.46096973 35.3011712  13.29378676 66.69990824 29.54897143 33.72916592\n 52.51669744 43.49904084 24.39366088 23.69039536 27.04124872 52.61391356\n 64.30053176 33.76226077 22.31833812 25.17966352 38.01770664 13.08901238\n 31.74347504 33.39821744 42.79577532 23.22155168 49.20100736 43.69898888\n 22.43554904 67.69964844 15.43736764 37.81086384 27.42046052 25.17966352\n 42.54756396 33.08243743 32.66047812  9.61750072 63.3973182  43.37700359\n 13.62404576 15.61594192 33.39821744 39.4352693  26.04840328 46.38794528\n 17.59680647 39.42147978 26.0621928  22.93197176 26.91369566 35.2322236\n 41.8367142  13.22414968  6.94095489 57.21271848 15.04436632 32.39847724\n 17.16588397 13.39553372 32.9569528  30.38520732 10.22217118 11.95758227\n 29.41304616 53.38612668 35.31427124 18.03393426 24.98661024 15.36152528\n 29.58541516 13.33446584 39.39665864 28.46846404 27.62730332 44.13335876\n 43.89204216 25.62092816 27.93549909 52.90831981 65.90701084 46.80163088\n 13.71367764 40.86524252 55.50971276 29.7853632  56.09576736 66.42411784\n 42.6440906  12.83804312 45.08483564 53.90323368 49.97322048 21.02212324\n  8.3743755  25.21689522 13.81709904 15.56836808 46.68441996 55.55108132\n 59.09498796 14.14391066 44.6090972  60.32225524 39.00464228 30.88163004\n 35.85964676 41.94082508 72.99482412 57.226508   52.1243856  40.26953526\n 26.8550902  33.75674496 10.73031499 25.11662572 17.23621052 62.05284\n 26.22766704 26.92265885 36.93522932 18.12632404 31.35047372 32.72253096\n 12.4595208   6.46728488 14.49968028 28.9379972  15.87173752 53.72396992\n 30.12320644 24.3385028  60.2946762  55.64760796 35.07640202 53.65502232\n 32.72046253 24.40055564 19.51906556 11.41427518 79.29663476 43.01296026\n 47.401475    2.33180783 30.07976945 31.84000168 31.0236621  52.90831981\n 56.69561148 42.34761592 16.26473884 24.28196577 66.78067543  9.84965715\n 58.52272288 21.26343984 32.76803638  3.31982694 39.60488039 50.69717028\n 23.34565736 47.7117392  12.17614616  4.5650206   7.83934212 70.69886904\n 42.42345828 19.93275116 27.234302   32.32952964 37.2661778  53.52402188\n 33.48883428 52.44637089 46.89815752 18.01600788 64.0178466  45.83636448\n 44.14025352 41.15137506 22.34798559 52.5035974  49.77327244 33.96358776].\nReshape your data either using array.reshape(-1, 1) if your data has a single feature or array.reshape(1, -1) if it contains a single sample."
     ]
    }
   ],
   "source": [
    "# For the target, this will through an error because expects 2D array and target is 1D\n",
    "target_scaler = StandardScaler()\n",
    "Ytrain = target_scaler.fit_transform(Ytrain)\n",
    "Ytest = target_scaler.transform(Ytest)\n",
    "Ytest.shape"
   ]
  },
  {
   "cell_type": "code",
   "execution_count": 101,
   "metadata": {
    "colab": {
     "base_uri": "https://localhost:8080/",
     "height": 34
    },
    "colab_type": "code",
    "id": "KCqITUHoaoVt",
    "outputId": "10d3ca8d-6729-4e5a-c23d-5590e7158ffd"
   },
   "outputs": [
    {
     "data": {
      "text/plain": [
       "(340,)"
      ]
     },
     "execution_count": 101,
     "metadata": {},
     "output_type": "execute_result"
    }
   ],
   "source": [
    "# This is the correct way to do it\n",
    "target_scaler = StandardScaler()\n",
    "Ytrain = target_scaler.fit_transform(Ytrain.reshape(-1, 1)).flatten()\n",
    "Ytest = target_scaler.transform(Ytest.reshape(-1, 1)).flatten()\n",
    "Ytest.shape"
   ]
  },
  {
   "cell_type": "markdown",
   "metadata": {
    "colab_type": "text",
    "id": "WmCq4bZUePCT"
   },
   "source": [
    "We use here the **SVR** which is the SVM that Sklearn uses for regression. We will use different kernels and see how **rbf** is actually the best one that we can apply"
   ]
  },
  {
   "cell_type": "code",
   "execution_count": 102,
   "metadata": {
    "colab": {
     "base_uri": "https://localhost:8080/",
     "height": 51
    },
    "colab_type": "code",
    "id": "7TPhH5zZaxp7",
    "outputId": "5c35025a-2f99-491f-f239-fb01998632c7"
   },
   "outputs": [
    {
     "name": "stdout",
     "output_type": "stream",
     "text": [
      "train score: 0.6071177590939699\n",
      "test score: 0.5613967437587559\n"
     ]
    }
   ],
   "source": [
    "from sklearn.svm import SVR\n",
    "\n",
    "model = SVR(kernel='linear')\n",
    "model.fit(Xtrain, Ytrain)\n",
    "print(\"train score:\", model.score(Xtrain, Ytrain))\n",
    "print(\"test score:\", model.score(Xtest, Ytest))"
   ]
  },
  {
   "cell_type": "code",
   "execution_count": 103,
   "metadata": {
    "colab": {
     "base_uri": "https://localhost:8080/",
     "height": 51
    },
    "colab_type": "code",
    "id": "P9F9C9yea4mZ",
    "outputId": "0f26c919-beac-45e2-8ef5-75a04e761456"
   },
   "outputs": [
    {
     "name": "stdout",
     "output_type": "stream",
     "text": [
      "train score: 0.7553140197514343\n",
      "test score: 0.6925292449896462\n"
     ]
    }
   ],
   "source": [
    "from sklearn.svm import SVR\n",
    "\n",
    "model = SVR(kernel='poly')\n",
    "model.fit(Xtrain, Ytrain)\n",
    "print(\"train score:\", model.score(Xtrain, Ytrain))\n",
    "print(\"test score:\", model.score(Xtest, Ytest))"
   ]
  },
  {
   "cell_type": "code",
   "execution_count": 104,
   "metadata": {
    "colab": {
     "base_uri": "https://localhost:8080/",
     "height": 51
    },
    "colab_type": "code",
    "id": "HplqARtibK6u",
    "outputId": "bf3a109e-9bd3-4464-d0d0-1be3fa3fb6bd"
   },
   "outputs": [
    {
     "name": "stdout",
     "output_type": "stream",
     "text": [
      "train score: 0.8796270110319024\n",
      "test score: 0.8439765494722452\n"
     ]
    }
   ],
   "source": [
    "from sklearn.svm import SVR\n",
    "\n",
    "model = SVR(kernel='rbf')\n",
    "model.fit(Xtrain, Ytrain)\n",
    "print(\"train score:\", model.score(Xtrain, Ytrain))\n",
    "print(\"test score:\", model.score(Xtest, Ytest))"
   ]
  },
  {
   "cell_type": "markdown",
   "metadata": {
    "colab_type": "text",
    "id": "5EsqrIHLavnQ"
   },
   "source": [
    "# SVM Theory"
   ]
  },
  {
   "cell_type": "markdown",
   "metadata": {
    "colab_type": "text",
    "id": "l9X1SSoaOm5W"
   },
   "source": [
    "##  Setup\n",
    "\n",
    "Following Aurelien Geron's suggestion, let's set up the working environment in our notebook."
   ]
  },
  {
   "cell_type": "code",
   "execution_count": 16,
   "metadata": {
    "colab": {
     "base_uri": "https://localhost:8080/",
     "height": 51
    },
    "colab_type": "code",
    "id": "96UJTdfWOvsi",
    "outputId": "4982ec60-6ddc-4ddf-f8b1-f75b63494559"
   },
   "outputs": [
    {
     "name": "stdout",
     "output_type": "stream",
     "text": [
      "3.9.0 (default, Dec  2 2020, 10:36:36) \n",
      "[Clang 12.0.0 (clang-1200.0.32.27)]\n"
     ]
    }
   ],
   "source": [
    "# Python ≥3.5 is required\n",
    "# Let's assert that that is the case\n",
    "import sys\n",
    "assert sys.version_info >= (3, 5)\n",
    "\n",
    "print(sys.version)"
   ]
  },
  {
   "cell_type": "code",
   "execution_count": 17,
   "metadata": {
    "colab": {
     "base_uri": "https://localhost:8080/",
     "height": 34
    },
    "colab_type": "code",
    "id": "6ogJIkAHTzSj",
    "outputId": "322f51f8-269d-4ee4-a87d-4e4f2f4638ad"
   },
   "outputs": [
    {
     "name": "stdout",
     "output_type": "stream",
     "text": [
      "1.0.1\n"
     ]
    }
   ],
   "source": [
    "# Scikit-Learn ≥0.20 is required\n",
    "import sklearn\n",
    "assert sklearn.__version__ >= \"0.20\"\n",
    "\n",
    "print(sklearn.__version__)"
   ]
  },
  {
   "cell_type": "code",
   "execution_count": 18,
   "metadata": {
    "colab": {},
    "colab_type": "code",
    "id": "6EIfzq-6ULxQ"
   },
   "outputs": [],
   "source": [
    "# Common imports\n",
    "import numpy as np\n",
    "import os"
   ]
  },
  {
   "cell_type": "code",
   "execution_count": 19,
   "metadata": {
    "colab": {},
    "colab_type": "code",
    "id": "9peJ1HPCUPFF"
   },
   "outputs": [],
   "source": [
    "# This will make this notebook's output stable across runs\n",
    "np.random.seed(42)"
   ]
  },
  {
   "cell_type": "code",
   "execution_count": 20,
   "metadata": {
    "colab": {},
    "colab_type": "code",
    "id": "rb60GTf6UW3D"
   },
   "outputs": [],
   "source": [
    "# To plot pretty figures\n",
    "%matplotlib inline\n",
    "import matplotlib as mpl\n",
    "import matplotlib.pyplot as plt\n",
    "mpl.rc('axes', labelsize=14)\n",
    "mpl.rc('xtick', labelsize=12)\n",
    "mpl.rc('ytick', labelsize=12)"
   ]
  },
  {
   "cell_type": "code",
   "execution_count": 21,
   "metadata": {
    "colab": {},
    "colab_type": "code",
    "id": "nzNDSkgmUcDS"
   },
   "outputs": [],
   "source": [
    "# Where to save the figures (adjust this to your convenience)\n",
    "PROJECT_ROOT_DIR = \".\"\n",
    "CHAPTER_ID = \"svm\"\n",
    "IMAGES_PATH = os.path.join(PROJECT_ROOT_DIR, \"images\", CHAPTER_ID)\n",
    "os.makedirs(IMAGES_PATH, exist_ok=True)"
   ]
  },
  {
   "cell_type": "code",
   "execution_count": 22,
   "metadata": {
    "colab": {},
    "colab_type": "code",
    "id": "8wNR9zAXUnkV"
   },
   "outputs": [],
   "source": [
    "# A function to save our figures\n",
    "\n",
    "def save_fig(fig_id, tight_layout=True, fig_extension=\"png\", resolution=300):\n",
    "    path = os.path.join(IMAGES_PATH, fig_id + \".\" + fig_extension)\n",
    "    print(\"Saving figure\", fig_id)\n",
    "    if tight_layout:\n",
    "        plt.tight_layout()\n",
    "    plt.savefig(path, format=fig_extension, dpi=resolution)"
   ]
  },
  {
   "cell_type": "markdown",
   "metadata": {
    "colab_type": "text",
    "id": "Z5ZVd0m9a1Az"
   },
   "source": [
    "## Linear SVM - Large Margin Classification\n",
    "\n",
    "The UUID is **#S5C5**. You can use it to refer to the slides in Session 5.\n",
    "\n",
    "This code reproduces the images from the slides.\n"
   ]
  },
  {
   "cell_type": "markdown",
   "metadata": {
    "colab_type": "text",
    "id": "7lj8AitfYaqL"
   },
   "source": [
    "### Data preparation"
   ]
  },
  {
   "cell_type": "code",
   "execution_count": 105,
   "metadata": {
    "colab": {
     "base_uri": "https://localhost:8080/",
     "height": 1000
    },
    "colab_type": "code",
    "id": "37NqjuYjbRu-",
    "outputId": "2ef084e6-97e8-47a5-b318-e355a5e7970f",
    "tags": []
   },
   "outputs": [],
   "source": [
    "# Import SVC and datasets from sklearn\n",
    "from sklearn.svm import SVC\n",
    "from sklearn import datasets\n",
    "import numpy as np\n",
    "\n",
    "# Load the iris dataset\n",
    "iris = datasets.load_iris()\n",
    "#print(iris)"
   ]
  },
  {
   "cell_type": "code",
   "execution_count": 106,
   "metadata": {
    "colab": {},
    "colab_type": "code",
    "id": "XnMYJ31PVVob"
   },
   "outputs": [],
   "source": [
    "# Choose the data we need to work with\n",
    "X = iris[\"data\"][:, (2, 3)]  # petal length, petal width\n",
    "y = iris[\"target\"]\n",
    "\n",
    "\"\"\"\n",
    "The pipe argument \"|\" is a bitwise OR of integers, meaning that it will be true\n",
    "when y==0 and y==1. This creates a boolean matrix with the values to index for \n",
    "X and y\n",
    "\"\"\"\n",
    "setosa_or_versicolor = (y == 0) | (y == 1)\n",
    "X = X[setosa_or_versicolor]\n",
    "y = y[setosa_or_versicolor]"
   ]
  },
  {
   "cell_type": "code",
   "execution_count": 112,
   "metadata": {
    "colab": {
     "base_uri": "https://localhost:8080/",
     "height": 85
    },
    "colab_type": "code",
    "id": "EjvWl2R3XUr9",
    "outputId": "1b04bd31-dea3-4f17-fcf5-0acd7fdd053a"
   },
   "outputs": [
    {
     "data": {
      "text/plain": [
       "SVC(C=inf, kernel='linear')"
      ]
     },
     "execution_count": 112,
     "metadata": {},
     "output_type": "execute_result"
    }
   ],
   "source": [
    "# SVM Classifier model\n",
    "# The kernel is set to linear and C to inf\n",
    "svm_clf = SVC(kernel=\"linear\", C=float(\"inf\"))\n",
    "svm_clf.fit(X, y)"
   ]
  },
  {
   "cell_type": "markdown",
   "metadata": {
    "colab_type": "text",
    "id": "Jbj75UxaYeZd"
   },
   "source": [
    "### Fake linear regressors and SVMs\n",
    "\n",
    "The UUID is **#S5C5**. You can use it to refer to the slides in Session 5.\n",
    "\n",
    "This code reproduces the images from the slides.\n",
    "\n",
    "This code reproduces the fake linear regressors explored in the slides as well as the Linear SVM"
   ]
  },
  {
   "cell_type": "code",
   "execution_count": 113,
   "metadata": {
    "colab": {},
    "colab_type": "code",
    "id": "kb3FW2IcoFMo"
   },
   "outputs": [],
   "source": [
    "# Generation of bad models\n",
    "# Generation of x data with linspace (evenly spaced numbers over start, stop, number of numbers)\n",
    "x0 = np.linspace(0, 5.5, 200)\n",
    "# Y=5*x0 -20\n",
    "pred_1 = 5*x0 - 20\n",
    "# Y=1*x0 -1.8\n",
    "pred_2 = x0 - 1.8\n",
    "# Y=0.1*x0 + 0.5\n",
    "pred_3 = 0.1 * x0 + 0.5"
   ]
  },
  {
   "cell_type": "code",
   "execution_count": 114,
   "metadata": {
    "colab": {
     "base_uri": "https://localhost:8080/",
     "height": 34
    },
    "colab_type": "code",
    "id": "oPl13tUApO2u",
    "outputId": "21bf2937-aa04-43df-8660-3a189fbd1886"
   },
   "outputs": [
    {
     "data": {
      "text/plain": [
       "array([1.29411744, 0.82352928])"
      ]
     },
     "execution_count": 114,
     "metadata": {},
     "output_type": "execute_result"
    }
   ],
   "source": [
    "svm_clf.coef_[0]"
   ]
  },
  {
   "cell_type": "code",
   "execution_count": 115,
   "metadata": {
    "colab": {},
    "colab_type": "code",
    "id": "F_l3-phboGzd"
   },
   "outputs": [],
   "source": [
    "import matplotlib.pyplot as plt\n",
    "\n",
    "# Generation of function to plot SVM decision boundaries\n",
    "def plot_svc_decision_boundary(svm_clf, xmin, xmax):\n",
    "    # Take the weights from the SVM fitted above\n",
    "    w = svm_clf.coef_[0]\n",
    "    # Take the bias from the SVM fitted above\n",
    "    b = svm_clf.intercept_[0]\n",
    "\n",
    "    \"\"\"\n",
    "    # At the decision boundary, w0*x0 + w1*x1 + b = 0\n",
    "    # => x1 = -w0/w1 * x0 - b/w1\n",
    "    \"\"\"\n",
    "    x0 = np.linspace(xmin, xmax, 200)\n",
    "    decision_boundary = -w[0]/w[1] * x0 - b/w[1]\n",
    "\n",
    "    # This is half margin, the lenght of full margin is 2/w[1]\n",
    "    margin = 1/w[1]\n",
    "    gutter_up = decision_boundary + margin\n",
    "    gutter_down = decision_boundary - margin\n",
    "\n",
    "    # Plot the support vectors\n",
    "    svs = svm_clf.support_vectors_\n",
    "    # Plot the scatter support vectors\n",
    "    plt.scatter(svs[:, 0], svs[:, 1], s=180, facecolors='#FFAAAA')\n",
    "    # Plot the decision boundary, upper and lower gutter\n",
    "    plt.plot(x0, decision_boundary, \"k-\", linewidth=2)\n",
    "    plt.plot(x0, gutter_up, \"k--\", linewidth=2)\n",
    "    plt.plot(x0, gutter_down, \"k--\", linewidth=2)"
   ]
  },
  {
   "cell_type": "code",
   "execution_count": 116,
   "metadata": {
    "colab": {
     "base_uri": "https://localhost:8080/",
     "height": 241
    },
    "colab_type": "code",
    "id": "ZSvMEFSaY1od",
    "outputId": "85d0edf7-7277-4076-a669-6edfb485a4b2"
   },
   "outputs": [
    {
     "name": "stdout",
     "output_type": "stream",
     "text": [
      "Saving figure large_margin_classification_plot\n"
     ]
    },
    {
     "data": {
      "image/png": "[encoded data removed]",
      "text/plain": [
       "<Figure size 720x194.4 with 2 Axes>"
      ]
     },
     "metadata": {
      "needs_background": "light"
     },
     "output_type": "display_data"
    }
   ],
   "source": [
    "# Generation of plots\n",
    "\n",
    "fig, axes = plt.subplots(ncols=2, figsize=(10,2.7), sharey=True)\n",
    "\n",
    "plt.sca(axes[0])\n",
    "plt.plot(x0, pred_1, \"g--\", linewidth=2)\n",
    "plt.plot(x0, pred_2, \"m-\", linewidth=2)\n",
    "plt.plot(x0, pred_3, \"r-\", linewidth=2)\n",
    "plt.plot(X[:, 0][y==1], X[:, 1][y==1], \"bs\", label=\"Iris versicolor\")\n",
    "plt.plot(X[:, 0][y==0], X[:, 1][y==0], \"yo\", label=\"Iris setosa\")\n",
    "plt.xlabel(\"Petal length\", fontsize=14)\n",
    "plt.ylabel(\"Petal width\", fontsize=14)\n",
    "plt.legend(loc=\"upper left\", fontsize=14)\n",
    "plt.axis([0, 5.5, 0, 2])\n",
    "\n",
    "plt.sca(axes[1])\n",
    "plot_svc_decision_boundary(svm_clf, 0, 5.5)\n",
    "plt.plot(X[:, 0][y==1], X[:, 1][y==1], \"bs\")\n",
    "plt.plot(X[:, 0][y==0], X[:, 1][y==0], \"yo\")\n",
    "plt.xlabel(\"Petal length\", fontsize=14)\n",
    "plt.axis([0, 5.5, 0, 2])\n",
    "\n",
    "save_fig(\"large_margin_classification_plot\")\n",
    "plt.show()"
   ]
  },
  {
   "cell_type": "markdown",
   "metadata": {
    "colab_type": "text",
    "id": "HCpVX2xiA8we"
   },
   "source": [
    "## Sensitivity to feature scales\n",
    "\n",
    "The UUID is **#S5C6**. You can use it to refer to the slides in Session 5.\n",
    "\n",
    "Here we show that the scale it is extremely important for SVMs"
   ]
  },
  {
   "cell_type": "markdown",
   "metadata": {
    "colab_type": "text",
    "id": "lVdFb77yBcnu"
   },
   "source": [
    "### Create some fake data"
   ]
  },
  {
   "cell_type": "code",
   "execution_count": 117,
   "metadata": {
    "colab": {},
    "colab_type": "code",
    "id": "Ja13Ybd0BfLZ"
   },
   "outputs": [],
   "source": [
    "Xs = np.array([[1, 50], [5, 20], [3, 80], [5, 60]]).astype(np.float64)\n",
    "ys = np.array([0, 0, 1, 1])"
   ]
  },
  {
   "cell_type": "markdown",
   "metadata": {
    "colab_type": "text",
    "id": "x9djxDI5Bg2v"
   },
   "source": [
    "### Fit the SVM without scaling the data\n",
    "\n",
    "We tweak the \"C\" parameter, we will see soon for what we use it."
   ]
  },
  {
   "cell_type": "code",
   "execution_count": 31,
   "metadata": {
    "colab": {
     "base_uri": "https://localhost:8080/",
     "height": 85
    },
    "colab_type": "code",
    "id": "s6UXNheAB8M7",
    "outputId": "cf3d5be0-5760-4e91-b65f-6d33249fdc93"
   },
   "outputs": [
    {
     "data": {
      "text/plain": [
       "SVC(C=100, kernel='linear')"
      ]
     },
     "execution_count": 31,
     "metadata": {},
     "output_type": "execute_result"
    }
   ],
   "source": [
    "svm_clf_unscaled = SVC(kernel=\"linear\", C=100)\n",
    "svm_clf_unscaled.fit(Xs, ys)"
   ]
  },
  {
   "cell_type": "markdown",
   "metadata": {
    "colab_type": "text",
    "id": "dcqLLdYrCIku"
   },
   "source": [
    "### Fit the SVM scaling the data"
   ]
  },
  {
   "cell_type": "code",
   "execution_count": 32,
   "metadata": {
    "colab": {
     "base_uri": "https://localhost:8080/",
     "height": 85
    },
    "colab_type": "code",
    "id": "0Jk1CegjCK_T",
    "outputId": "727e47c4-ed5b-47f4-ee0e-6bd81cd535b3"
   },
   "outputs": [
    {
     "data": {
      "text/plain": [
       "SVC(C=100, kernel='linear')"
      ]
     },
     "execution_count": 32,
     "metadata": {},
     "output_type": "execute_result"
    }
   ],
   "source": [
    "from sklearn.preprocessing import StandardScaler\n",
    "scaler = StandardScaler()\n",
    "X_scaled = scaler.fit_transform(Xs)\n",
    "\n",
    "svm_clf_scaled = SVC(kernel=\"linear\", C=100)\n",
    "svm_clf_scaled.fit(X_scaled, ys)"
   ]
  },
  {
   "cell_type": "markdown",
   "metadata": {
    "colab_type": "text",
    "id": "fPbyDIdMCeUm"
   },
   "source": [
    "### Plotting the results"
   ]
  },
  {
   "cell_type": "code",
   "execution_count": 118,
   "metadata": {
    "colab": {
     "base_uri": "https://localhost:8080/",
     "height": 241
    },
    "colab_type": "code",
    "id": "Wko87KjkCgGj",
    "outputId": "354278c3-fab3-45b6-8575-c05c158ee6e1"
   },
   "outputs": [
    {
     "name": "stdout",
     "output_type": "stream",
     "text": [
      "Saving figure sensitivity_to_feature_scales_plot\n"
     ]
    },
    {
     "data": {
      "image/png": "[encoded data removed]",
      "text/plain": [
       "<Figure size 648x194.4 with 2 Axes>"
      ]
     },
     "metadata": {
      "needs_background": "light"
     },
     "output_type": "display_data"
    }
   ],
   "source": [
    "plt.figure(figsize=(9,2.7))\n",
    "plt.subplot(121)\n",
    "plt.plot(Xs[:, 0][ys==1], Xs[:, 1][ys==1], \"bo\")\n",
    "plt.plot(Xs[:, 0][ys==0], Xs[:, 1][ys==0], \"ms\")\n",
    "plot_svc_decision_boundary(svm_clf_unscaled, 0, 6)\n",
    "plt.xlabel(\"$x_0$\", fontsize=20)\n",
    "plt.ylabel(\"$x_1$    \", fontsize=20, rotation=0)\n",
    "plt.title(\"Unscaled\", fontsize=16)\n",
    "plt.axis([0, 6, 0, 90])\n",
    "\n",
    "plt.subplot(122)\n",
    "plt.plot(X_scaled[:, 0][ys==1], X_scaled[:, 1][ys==1], \"bo\")\n",
    "plt.plot(X_scaled[:, 0][ys==0], X_scaled[:, 1][ys==0], \"ms\")\n",
    "plot_svc_decision_boundary(svm_clf_scaled, -2, 2)\n",
    "plt.xlabel(\"$x_0$\", fontsize=20)\n",
    "plt.ylabel(\"$x'_1$  \", fontsize=20, rotation=0)\n",
    "plt.title(\"Scaled\", fontsize=16)\n",
    "plt.axis([-2, 2, -2, 2])\n",
    "\n",
    "save_fig(\"sensitivity_to_feature_scales_plot\")"
   ]
  },
  {
   "cell_type": "markdown",
   "metadata": {
    "colab_type": "text",
    "id": "g8_RkoxzFsF5"
   },
   "source": [
    "## Soft margin classification - outlier detection\n",
    "The UUID is **#S5C7**. You can use it to refer to the slides in Session 5."
   ]
  },
  {
   "cell_type": "code",
   "execution_count": 34,
   "metadata": {
    "colab": {
     "base_uri": "https://localhost:8080/",
     "height": 241
    },
    "colab_type": "code",
    "id": "vky7A6GwClMg",
    "outputId": "42431c23-c84c-490c-bd13-03927960fde0"
   },
   "outputs": [
    {
     "name": "stdout",
     "output_type": "stream",
     "text": [
      "Saving figure sensitivity_to_outliers_plot\n"
     ]
    },
    {
     "data": {
      "image/png": "[encoded data removed]",
      "text/plain": [
       "<Figure size 720x194.4 with 2 Axes>"
      ]
     },
     "metadata": {
      "needs_background": "light"
     },
     "output_type": "display_data"
    }
   ],
   "source": [
    "X_outliers = np.array([[3.4, 1.3], [3.2, 0.8]])\n",
    "y_outliers = np.array([0, 0])\n",
    "Xo1 = np.concatenate([X, X_outliers[:1]], axis=0)\n",
    "yo1 = np.concatenate([y, y_outliers[:1]], axis=0)\n",
    "Xo2 = np.concatenate([X, X_outliers[1:]], axis=0)\n",
    "yo2 = np.concatenate([y, y_outliers[1:]], axis=0)\n",
    "\n",
    "svm_clf2 = SVC(kernel=\"linear\", C=10**9)\n",
    "svm_clf2.fit(Xo2, yo2)\n",
    "\n",
    "fig, axes = plt.subplots(ncols=2, figsize=(10,2.7), sharey=True)\n",
    "\n",
    "plt.sca(axes[0])\n",
    "plt.plot(Xo1[:, 0][yo1==1], Xo1[:, 1][yo1==1], \"bs\")\n",
    "plt.plot(Xo1[:, 0][yo1==0], Xo1[:, 1][yo1==0], \"yo\")\n",
    "plt.text(0.3, 1.0, \"Impossible!\", fontsize=24, color=\"red\")\n",
    "plt.xlabel(\"Petal length\", fontsize=14)\n",
    "plt.ylabel(\"Petal width\", fontsize=14)\n",
    "plt.annotate(\"Outlier\",\n",
    "             xy=(X_outliers[0][0], X_outliers[0][1]),\n",
    "             xytext=(2.5, 1.7),\n",
    "             ha=\"center\",\n",
    "             arrowprops=dict(facecolor='black', shrink=0.1),\n",
    "             fontsize=16,\n",
    "            )\n",
    "plt.axis([0, 5.5, 0, 2])\n",
    "\n",
    "plt.sca(axes[1])\n",
    "plt.plot(Xo2[:, 0][yo2==1], Xo2[:, 1][yo2==1], \"bs\")\n",
    "plt.plot(Xo2[:, 0][yo2==0], Xo2[:, 1][yo2==0], \"yo\")\n",
    "plot_svc_decision_boundary(svm_clf2, 0, 5.5)\n",
    "plt.xlabel(\"Petal length\", fontsize=14)\n",
    "plt.annotate(\"Outlier\",\n",
    "             xy=(X_outliers[1][0], X_outliers[1][1]),\n",
    "             xytext=(3.2, 0.08),\n",
    "             ha=\"center\",\n",
    "             arrowprops=dict(facecolor='black', shrink=0.1),\n",
    "             fontsize=16,\n",
    "            )\n",
    "plt.axis([0, 5.5, 0, 2])\n",
    "\n",
    "save_fig(\"sensitivity_to_outliers_plot\")\n",
    "plt.show()"
   ]
  },
  {
   "cell_type": "markdown",
   "metadata": {
    "colab_type": "text",
    "id": "70HiOd2EakSr"
   },
   "source": [
    "## Outliers and hyperparameter C\n",
    "\n",
    "The UUID is **#S5C8**. You can use it to refer to the slides in Session 5.\n"
   ]
  },
  {
   "cell_type": "markdown",
   "metadata": {
    "colab_type": "text",
    "id": "UapmR3piakSs"
   },
   "source": [
    "This is the first code example in chapter 5:"
   ]
  },
  {
   "cell_type": "code",
   "execution_count": 119,
   "metadata": {
    "colab": {
     "base_uri": "https://localhost:8080/",
     "height": 187
    },
    "colab_type": "code",
    "id": "1s_YYzw4akSt",
    "outputId": "05f21f34-2682-4ce4-8a59-66364a420ea4"
   },
   "outputs": [
    {
     "data": {
      "text/plain": [
       "Pipeline(steps=[('scaler', StandardScaler()),\n",
       "                ('linear_svc', LinearSVC(C=1, loss='hinge', random_state=42))])"
      ]
     },
     "execution_count": 119,
     "metadata": {},
     "output_type": "execute_result"
    }
   ],
   "source": [
    "import numpy as np\n",
    "from sklearn import datasets\n",
    "from sklearn.pipeline import Pipeline\n",
    "from sklearn.preprocessing import StandardScaler\n",
    "from sklearn.svm import LinearSVC\n",
    "\n",
    "iris = datasets.load_iris()\n",
    "X = iris[\"data\"][:, (2, 3)]  # petal length, petal width\n",
    "y = (iris[\"target\"] == 2).astype(np.float64)  # Iris virginica\n",
    "\n",
    "svm_clf = Pipeline([\n",
    "        (\"scaler\", StandardScaler()),\n",
    "        (\"linear_svc\", LinearSVC(C=1, loss=\"hinge\", random_state=42)),\n",
    "    ])\n",
    "\n",
    "svm_clf.fit(X, y)"
   ]
  },
  {
   "cell_type": "code",
   "execution_count": 120,
   "metadata": {
    "colab": {
     "base_uri": "https://localhost:8080/",
     "height": 34
    },
    "colab_type": "code",
    "id": "k2cQ2bBiakSw",
    "outputId": "123b81f1-6e8b-4397-fbb2-fda40d68e9d7"
   },
   "outputs": [
    {
     "data": {
      "text/plain": [
       "array([1.])"
      ]
     },
     "execution_count": 120,
     "metadata": {},
     "output_type": "execute_result"
    }
   ],
   "source": [
    "svm_clf.predict([[5.5, 1.7]])"
   ]
  },
  {
   "cell_type": "markdown",
   "metadata": {
    "colab_type": "text",
    "id": "AonqkXLsakSz"
   },
   "source": [
    "Now let's generate the graph comparing different regularization settings:"
   ]
  },
  {
   "cell_type": "code",
   "execution_count": 121,
   "metadata": {
    "colab": {
     "base_uri": "https://localhost:8080/",
     "height": 187
    },
    "colab_type": "code",
    "id": "A5mlBv73akS0",
    "outputId": "778de10a-336f-464f-fb5b-351a91ccac3a"
   },
   "outputs": [
    {
     "name": "stderr",
     "output_type": "stream",
     "text": [
      "/Users/miguelsanz/bts/venv/lib/python3.9/site-packages/sklearn/svm/_base.py:1206: ConvergenceWarning: Liblinear failed to converge, increase the number of iterations.\n",
      "  warnings.warn(\n"
     ]
    },
    {
     "data": {
      "text/plain": [
       "Pipeline(steps=[('scaler', StandardScaler()),\n",
       "                ('linear_svc',\n",
       "                 LinearSVC(C=100, loss='hinge', random_state=42))])"
      ]
     },
     "execution_count": 121,
     "metadata": {},
     "output_type": "execute_result"
    }
   ],
   "source": [
    "scaler = StandardScaler()\n",
    "svm_clf1 = LinearSVC(C=1, loss=\"hinge\", random_state=42)\n",
    "svm_clf2 = LinearSVC(C=100, loss=\"hinge\", random_state=42)\n",
    "\n",
    "scaled_svm_clf1 = Pipeline([\n",
    "        (\"scaler\", scaler),\n",
    "        (\"linear_svc\", svm_clf1),\n",
    "    ])\n",
    "scaled_svm_clf2 = Pipeline([\n",
    "        (\"scaler\", scaler),\n",
    "        (\"linear_svc\", svm_clf2),\n",
    "    ])\n",
    "\n",
    "scaled_svm_clf1.fit(X, y)\n",
    "scaled_svm_clf2.fit(X, y)"
   ]
  },
  {
   "cell_type": "code",
   "execution_count": 122,
   "metadata": {
    "colab": {},
    "colab_type": "code",
    "id": "q30beii5akS3"
   },
   "outputs": [],
   "source": [
    "# Convert to unscaled parameters\n",
    "b1 = svm_clf1.decision_function([-scaler.mean_ / scaler.scale_])\n",
    "b2 = svm_clf2.decision_function([-scaler.mean_ / scaler.scale_])\n",
    "w1 = svm_clf1.coef_[0] / scaler.scale_\n",
    "w2 = svm_clf2.coef_[0] / scaler.scale_\n",
    "svm_clf1.intercept_ = np.array([b1])\n",
    "svm_clf2.intercept_ = np.array([b2])\n",
    "svm_clf1.coef_ = np.array([w1])\n",
    "svm_clf2.coef_ = np.array([w2])\n",
    "\n",
    "# Find support vectors (LinearSVC does not do this automatically)\n",
    "t = y * 2 - 1\n",
    "support_vectors_idx1 = (t * (X.dot(w1) + b1) < 1).ravel()\n",
    "support_vectors_idx2 = (t * (X.dot(w2) + b2) < 1).ravel()\n",
    "svm_clf1.support_vectors_ = X[support_vectors_idx1]\n",
    "svm_clf2.support_vectors_ = X[support_vectors_idx2]"
   ]
  },
  {
   "cell_type": "code",
   "execution_count": 123,
   "metadata": {
    "colab": {
     "base_uri": "https://localhost:8080/",
     "height": 241
    },
    "colab_type": "code",
    "id": "_pA4ZjICakS6",
    "outputId": "6cf89161-757f-4c17-de9c-0e21f1b24738"
   },
   "outputs": [
    {
     "name": "stdout",
     "output_type": "stream",
     "text": [
      "Saving figure regularization_plot\n"
     ]
    },
    {
     "data": {
      "image/png": "[encoded data removed]",
      "text/plain": [
       "<Figure size 720x194.4 with 2 Axes>"
      ]
     },
     "metadata": {
      "needs_background": "light"
     },
     "output_type": "display_data"
    }
   ],
   "source": [
    "fig, axes = plt.subplots(ncols=2, figsize=(10,2.7), sharey=True)\n",
    "\n",
    "plt.sca(axes[0])\n",
    "plt.plot(X[:, 0][y==1], X[:, 1][y==1], \"g^\", label=\"Iris virginica\")\n",
    "plt.plot(X[:, 0][y==0], X[:, 1][y==0], \"bs\", label=\"Iris versicolor\")\n",
    "plot_svc_decision_boundary(svm_clf1, 4, 5.9)\n",
    "plt.xlabel(\"Petal length\", fontsize=14)\n",
    "plt.ylabel(\"Petal width\", fontsize=14)\n",
    "plt.legend(loc=\"upper left\", fontsize=14)\n",
    "plt.title(\"$C = {}$\".format(svm_clf1.C), fontsize=16)\n",
    "plt.axis([4, 5.9, 0.8, 2.8])\n",
    "\n",
    "plt.sca(axes[1])\n",
    "plt.plot(X[:, 0][y==1], X[:, 1][y==1], \"g^\")\n",
    "plt.plot(X[:, 0][y==0], X[:, 1][y==0], \"bs\")\n",
    "plot_svc_decision_boundary(svm_clf2, 4, 5.99)\n",
    "plt.xlabel(\"Petal length\", fontsize=14)\n",
    "plt.title(\"$C = {}$\".format(svm_clf2.C), fontsize=16)\n",
    "plt.axis([4, 5.9, 0.8, 2.8])\n",
    "\n",
    "save_fig(\"regularization_plot\")"
   ]
  },
  {
   "cell_type": "markdown",
   "metadata": {
    "colab_type": "text",
    "id": "1CqnuXp1akS9"
   },
   "source": [
    "## Non-linear classification\n",
    "\n"
   ]
  },
  {
   "cell_type": "markdown",
   "metadata": {
    "colab_type": "text",
    "id": "ule3tFfwxjAr"
   },
   "source": [
    "### Polynomial expansion\n",
    "\n",
    "The UUID is **#S5C9**. You can use it to refer to the slides in Session 5."
   ]
  },
  {
   "cell_type": "code",
   "execution_count": 40,
   "metadata": {
    "colab": {
     "base_uri": "https://localhost:8080/",
     "height": 274
    },
    "colab_type": "code",
    "id": "IiZ0SLq8akS-",
    "outputId": "5acdd10a-4d77-4f86-d532-f18067747dcf"
   },
   "outputs": [
    {
     "name": "stdout",
     "output_type": "stream",
     "text": [
      "Saving figure higher_dimensions_plot\n"
     ]
    },
    {
     "data": {
      "image/png": "[encoded data removed]",
      "text/plain": [
       "<Figure size 720x216 with 2 Axes>"
      ]
     },
     "metadata": {
      "needs_background": "light"
     },
     "output_type": "display_data"
    }
   ],
   "source": [
    "X1D = np.linspace(-4, 4, 9).reshape(-1, 1)\n",
    "X2D = np.c_[X1D, X1D**2]\n",
    "y = np.array([0, 0, 1, 1, 1, 1, 1, 0, 0])\n",
    "\n",
    "plt.figure(figsize=(10, 3))\n",
    "\n",
    "plt.subplot(121)\n",
    "plt.grid(True, which='both')\n",
    "plt.axhline(y=0, color='k')\n",
    "plt.plot(X1D[:, 0][y==0], np.zeros(4), \"bs\")\n",
    "plt.plot(X1D[:, 0][y==1], np.zeros(5), \"g^\")\n",
    "plt.gca().get_yaxis().set_ticks([])\n",
    "plt.xlabel(r\"$x_1$\", fontsize=20)\n",
    "plt.axis([-4.5, 4.5, -0.2, 0.2])\n",
    "\n",
    "plt.subplot(122)\n",
    "plt.grid(True, which='both')\n",
    "plt.axhline(y=0, color='k')\n",
    "plt.axvline(x=0, color='k')\n",
    "plt.plot(X2D[:, 0][y==0], X2D[:, 1][y==0], \"bs\")\n",
    "plt.plot(X2D[:, 0][y==1], X2D[:, 1][y==1], \"g^\")\n",
    "plt.xlabel(r\"$x_1$\", fontsize=20)\n",
    "plt.ylabel(r\"$x_2$  \", fontsize=20, rotation=0)\n",
    "plt.gca().get_yaxis().set_ticks([0, 4, 8, 12, 16])\n",
    "plt.plot([-4.5, 4.5], [6.5, 6.5], \"r--\", linewidth=3)\n",
    "plt.axis([-4.5, 4.5, -1, 17])\n",
    "\n",
    "plt.subplots_adjust(right=1)\n",
    "\n",
    "save_fig(\"higher_dimensions_plot\", tight_layout=False)\n",
    "plt.show()"
   ]
  },
  {
   "cell_type": "code",
   "execution_count": 41,
   "metadata": {
    "colab": {
     "base_uri": "https://localhost:8080/",
     "height": 296
    },
    "colab_type": "code",
    "id": "qHJfl6_vakTB",
    "outputId": "974008ab-c9eb-4411-f3aa-771523d55725"
   },
   "outputs": [
    {
     "data": {
      "image/png": "[encoded data removed]",
      "text/plain": [
       "<Figure size 432x288 with 1 Axes>"
      ]
     },
     "metadata": {
      "needs_background": "light"
     },
     "output_type": "display_data"
    }
   ],
   "source": [
    "from sklearn.datasets import make_moons\n",
    "X, y = make_moons(n_samples=100, noise=0.15, random_state=42)\n",
    "\n",
    "def plot_dataset(X, y, axes):\n",
    "    plt.plot(X[:, 0][y==0], X[:, 1][y==0], \"bs\")\n",
    "    plt.plot(X[:, 0][y==1], X[:, 1][y==1], \"g^\")\n",
    "    plt.axis(axes)\n",
    "    plt.grid(True, which='both')\n",
    "    plt.xlabel(r\"$x_1$\", fontsize=20)\n",
    "    plt.ylabel(r\"$x_2$\", fontsize=20, rotation=0)\n",
    "\n",
    "plot_dataset(X, y, [-1.5, 2.5, -1, 1.5])\n",
    "plt.show()"
   ]
  },
  {
   "cell_type": "code",
   "execution_count": 42,
   "metadata": {
    "colab": {
     "base_uri": "https://localhost:8080/",
     "height": 292
    },
    "colab_type": "code",
    "id": "WpNt01SoakTG",
    "outputId": "8e681905-e7ea-4e3d-bbc1-1af5e924bbc8"
   },
   "outputs": [
    {
     "name": "stderr",
     "output_type": "stream",
     "text": [
      "/Users/miguelsanz/bts/venv/lib/python3.9/site-packages/sklearn/svm/_base.py:1206: ConvergenceWarning: Liblinear failed to converge, increase the number of iterations.\n",
      "  warnings.warn(\n"
     ]
    },
    {
     "data": {
      "text/plain": [
       "Pipeline(steps=[('poly_features', PolynomialFeatures(degree=3)),\n",
       "                ('scaler', StandardScaler()),\n",
       "                ('svm_clf', LinearSVC(C=10, loss='hinge', random_state=42))])"
      ]
     },
     "execution_count": 42,
     "metadata": {},
     "output_type": "execute_result"
    }
   ],
   "source": [
    "from sklearn.datasets import make_moons\n",
    "from sklearn.pipeline import Pipeline\n",
    "from sklearn.preprocessing import PolynomialFeatures\n",
    "\n",
    "polynomial_svm_clf = Pipeline([\n",
    "        (\"poly_features\", PolynomialFeatures(degree=3)),\n",
    "        (\"scaler\", StandardScaler()),\n",
    "        (\"svm_clf\", LinearSVC(C=10, loss=\"hinge\", random_state=42))\n",
    "    ])\n",
    "\n",
    "polynomial_svm_clf.fit(X, y)"
   ]
  },
  {
   "cell_type": "code",
   "execution_count": 43,
   "metadata": {
    "colab": {
     "base_uri": "https://localhost:8080/",
     "height": 314
    },
    "colab_type": "code",
    "id": "ZuzCNkIrakTJ",
    "outputId": "c81f4122-b2ef-40ea-da94-b1e6c9ba44ea"
   },
   "outputs": [
    {
     "name": "stdout",
     "output_type": "stream",
     "text": [
      "Saving figure moons_polynomial_svc_plot\n"
     ]
    },
    {
     "data": {
      "image/png": "[encoded data removed]",
      "text/plain": [
       "<Figure size 432x288 with 1 Axes>"
      ]
     },
     "metadata": {
      "needs_background": "light"
     },
     "output_type": "display_data"
    }
   ],
   "source": [
    "def plot_predictions(clf, axes):\n",
    "    x0s = np.linspace(axes[0], axes[1], 100)\n",
    "    x1s = np.linspace(axes[2], axes[3], 100)\n",
    "    x0, x1 = np.meshgrid(x0s, x1s)\n",
    "    X = np.c_[x0.ravel(), x1.ravel()]\n",
    "    y_pred = clf.predict(X).reshape(x0.shape)\n",
    "    y_decision = clf.decision_function(X).reshape(x0.shape)\n",
    "    plt.contourf(x0, x1, y_pred, cmap=plt.cm.brg, alpha=0.2)\n",
    "    plt.contourf(x0, x1, y_decision, cmap=plt.cm.brg, alpha=0.1)\n",
    "\n",
    "plot_predictions(polynomial_svm_clf, [-1.5, 2.5, -1, 1.5])\n",
    "plot_dataset(X, y, [-1.5, 2.5, -1, 1.5])\n",
    "\n",
    "save_fig(\"moons_polynomial_svc_plot\")\n",
    "plt.show()"
   ]
  },
  {
   "cell_type": "markdown",
   "metadata": {
    "colab_type": "text",
    "id": "gWX_HBlMxrQt"
   },
   "source": [
    "### Kernel trick\n",
    "\n",
    "The UUID is **#S5C10**. You can use it to refer to the slides in Session 5."
   ]
  },
  {
   "cell_type": "code",
   "execution_count": 44,
   "metadata": {
    "colab": {
     "base_uri": "https://localhost:8080/",
     "height": 187
    },
    "colab_type": "code",
    "id": "icqMAn1RakTN",
    "outputId": "b54937d6-840d-4edc-ed6b-528b9837efdb"
   },
   "outputs": [
    {
     "data": {
      "text/plain": [
       "Pipeline(steps=[('scaler', StandardScaler()),\n",
       "                ('svm_clf', SVC(C=5, coef0=1, kernel='poly'))])"
      ]
     },
     "execution_count": 44,
     "metadata": {},
     "output_type": "execute_result"
    }
   ],
   "source": [
    "from sklearn.svm import SVC\n",
    "\n",
    "poly_kernel_svm_clf = Pipeline([\n",
    "        (\"scaler\", StandardScaler()),\n",
    "        (\"svm_clf\", SVC(kernel=\"poly\", degree=3, coef0=1, C=5))\n",
    "    ])\n",
    "poly_kernel_svm_clf.fit(X, y)"
   ]
  },
  {
   "cell_type": "code",
   "execution_count": 45,
   "metadata": {
    "colab": {
     "base_uri": "https://localhost:8080/",
     "height": 187
    },
    "colab_type": "code",
    "id": "wkqNZxKYakTQ",
    "outputId": "2276f767-7b0d-42fc-ffaf-d399417d8ae1"
   },
   "outputs": [
    {
     "data": {
      "text/plain": [
       "Pipeline(steps=[('scaler', StandardScaler()),\n",
       "                ('svm_clf', SVC(C=5, coef0=100, degree=10, kernel='poly'))])"
      ]
     },
     "execution_count": 45,
     "metadata": {},
     "output_type": "execute_result"
    }
   ],
   "source": [
    "poly100_kernel_svm_clf = Pipeline([\n",
    "        (\"scaler\", StandardScaler()),\n",
    "        (\"svm_clf\", SVC(kernel=\"poly\", degree=10, coef0=100, C=5))\n",
    "    ])\n",
    "poly100_kernel_svm_clf.fit(X, y)"
   ]
  },
  {
   "cell_type": "code",
   "execution_count": 46,
   "metadata": {
    "colab": {
     "base_uri": "https://localhost:8080/",
     "height": 334
    },
    "colab_type": "code",
    "id": "OARV9TkAakTT",
    "outputId": "b67a2e18-edbf-4e26-e994-1c5a9b18c886"
   },
   "outputs": [
    {
     "name": "stdout",
     "output_type": "stream",
     "text": [
      "Saving figure moons_kernelized_polynomial_svc_plot\n"
     ]
    },
    {
     "data": {
      "image/png": "[encoded data removed]",
      "text/plain": [
       "<Figure size 756x288 with 2 Axes>"
      ]
     },
     "metadata": {
      "needs_background": "light"
     },
     "output_type": "display_data"
    }
   ],
   "source": [
    "fig, axes = plt.subplots(ncols=2, figsize=(10.5, 4), sharey=True)\n",
    "\n",
    "plt.sca(axes[0])\n",
    "plot_predictions(poly_kernel_svm_clf, [-1.5, 2.45, -1, 1.5])\n",
    "plot_dataset(X, y, [-1.5, 2.4, -1, 1.5])\n",
    "plt.title(r\"$d=3, r=1, C=5$\", fontsize=18)\n",
    "\n",
    "plt.sca(axes[1])\n",
    "plot_predictions(poly100_kernel_svm_clf, [-1.5, 2.45, -1, 1.5])\n",
    "plot_dataset(X, y, [-1.5, 2.4, -1, 1.5])\n",
    "plt.title(r\"$d=10, r=100, C=5$\", fontsize=18)\n",
    "plt.ylabel(\"\")\n",
    "\n",
    "save_fig(\"moons_kernelized_polynomial_svc_plot\")\n",
    "plt.show()"
   ]
  },
  {
   "cell_type": "markdown",
   "metadata": {
    "colab_type": "text",
    "id": "QdLlZE2pakTn"
   },
   "source": [
    "## Regression with SVMs\n",
    "\n",
    "The UUID is **#S5C11**. You can use it to refer to the slides in Session 5.\n"
   ]
  },
  {
   "cell_type": "code",
   "execution_count": 47,
   "metadata": {
    "colab": {},
    "colab_type": "code",
    "id": "kh0EfOSZakTo"
   },
   "outputs": [],
   "source": [
    "np.random.seed(42)\n",
    "m = 50\n",
    "X = 2 * np.random.rand(m, 1)\n",
    "y = (4 + 3 * X + np.random.randn(m, 1)).ravel()"
   ]
  },
  {
   "cell_type": "code",
   "execution_count": 48,
   "metadata": {
    "colab": {
     "base_uri": "https://localhost:8080/",
     "height": 68
    },
    "colab_type": "code",
    "id": "Yavo9S1CakTr",
    "outputId": "8e778a9e-7e40-4c1b-8eff-74197fa24b5a"
   },
   "outputs": [
    {
     "data": {
      "text/plain": [
       "LinearSVR(epsilon=1.5, random_state=42)"
      ]
     },
     "execution_count": 48,
     "metadata": {},
     "output_type": "execute_result"
    }
   ],
   "source": [
    "from sklearn.svm import LinearSVR\n",
    "\n",
    "svm_reg = LinearSVR(epsilon=1.5, random_state=42)\n",
    "svm_reg.fit(X, y)"
   ]
  },
  {
   "cell_type": "code",
   "execution_count": 49,
   "metadata": {
    "colab": {},
    "colab_type": "code",
    "id": "UXjvx80KakTu"
   },
   "outputs": [],
   "source": [
    "svm_reg1 = LinearSVR(epsilon=1.5, random_state=42)\n",
    "svm_reg2 = LinearSVR(epsilon=0.5, random_state=42)\n",
    "svm_reg1.fit(X, y)\n",
    "svm_reg2.fit(X, y)\n",
    "\n",
    "def find_support_vectors(svm_reg, X, y):\n",
    "    y_pred = svm_reg.predict(X)\n",
    "    off_margin = (np.abs(y - y_pred) >= svm_reg.epsilon)\n",
    "    return np.argwhere(off_margin)\n",
    "\n",
    "svm_reg1.support_ = find_support_vectors(svm_reg1, X, y)\n",
    "svm_reg2.support_ = find_support_vectors(svm_reg2, X, y)\n",
    "\n",
    "eps_x1 = 1\n",
    "eps_y_pred = svm_reg1.predict([[eps_x1]])"
   ]
  },
  {
   "cell_type": "code",
   "execution_count": 50,
   "metadata": {
    "colab": {
     "base_uri": "https://localhost:8080/",
     "height": 334
    },
    "colab_type": "code",
    "id": "GW7oimrkakT0",
    "outputId": "bea3fd45-2053-45c3-ac49-cd0b1b34906a"
   },
   "outputs": [
    {
     "name": "stdout",
     "output_type": "stream",
     "text": [
      "Saving figure svm_regression_plot\n"
     ]
    },
    {
     "data": {
      "image/png": "[encoded data removed]",
      "text/plain": [
       "<Figure size 648x288 with 2 Axes>"
      ]
     },
     "metadata": {
      "needs_background": "light"
     },
     "output_type": "display_data"
    }
   ],
   "source": [
    "def plot_svm_regression(svm_reg, X, y, axes):\n",
    "    x1s = np.linspace(axes[0], axes[1], 100).reshape(100, 1)\n",
    "    y_pred = svm_reg.predict(x1s)\n",
    "    plt.plot(x1s, y_pred, \"k-\", linewidth=2, label=r\"$\\hat{y}$\")\n",
    "    plt.plot(x1s, y_pred + svm_reg.epsilon, \"k--\")\n",
    "    plt.plot(x1s, y_pred - svm_reg.epsilon, \"k--\")\n",
    "    plt.scatter(X[svm_reg.support_], y[svm_reg.support_], s=180, facecolors='#FFAAAA')\n",
    "    plt.plot(X, y, \"bo\")\n",
    "    plt.xlabel(r\"$x_1$\", fontsize=18)\n",
    "    plt.legend(loc=\"upper left\", fontsize=18)\n",
    "    plt.axis(axes)\n",
    "\n",
    "fig, axes = plt.subplots(ncols=2, figsize=(9, 4), sharey=True)\n",
    "plt.sca(axes[0])\n",
    "plot_svm_regression(svm_reg1, X, y, [0, 2, 3, 11])\n",
    "plt.title(r\"$\\epsilon = {}$\".format(svm_reg1.epsilon), fontsize=18)\n",
    "plt.ylabel(r\"$y$\", fontsize=18, rotation=0)\n",
    "#plt.plot([eps_x1, eps_x1], [eps_y_pred, eps_y_pred - svm_reg1.epsilon], \"k-\", linewidth=2)\n",
    "plt.annotate(\n",
    "        '', xy=(eps_x1, eps_y_pred), xycoords='data',\n",
    "        xytext=(eps_x1, eps_y_pred - svm_reg1.epsilon),\n",
    "        textcoords='data', arrowprops={'arrowstyle': '<->', 'linewidth': 1.5}\n",
    "    )\n",
    "plt.text(0.91, 5.6, r\"$\\epsilon$\", fontsize=20)\n",
    "plt.sca(axes[1])\n",
    "plot_svm_regression(svm_reg2, X, y, [0, 2, 3, 11])\n",
    "plt.title(r\"$\\epsilon = {}$\".format(svm_reg2.epsilon), fontsize=18)\n",
    "save_fig(\"svm_regression_plot\")\n",
    "plt.show()"
   ]
  },
  {
   "cell_type": "code",
   "execution_count": 51,
   "metadata": {
    "colab": {},
    "colab_type": "code",
    "id": "PNkjaRiqakT3"
   },
   "outputs": [],
   "source": [
    "np.random.seed(42)\n",
    "m = 100\n",
    "X = 2 * np.random.rand(m, 1) - 1\n",
    "y = (0.2 + 0.1 * X + 0.5 * X**2 + np.random.randn(m, 1)/10).ravel()"
   ]
  },
  {
   "cell_type": "markdown",
   "metadata": {
    "colab_type": "text",
    "id": "Tq9tP-DdakT6"
   },
   "source": [
    "**Note**: to be future-proof, we set `gamma=\"scale\"`, as this will be the default value in Scikit-Learn 0.22."
   ]
  },
  {
   "cell_type": "code",
   "execution_count": 52,
   "metadata": {
    "colab": {
     "base_uri": "https://localhost:8080/",
     "height": 51
    },
    "colab_type": "code",
    "id": "mB6K_FE2akT7",
    "outputId": "5f28a513-99f3-4f8d-ee08-b19da536d542"
   },
   "outputs": [
    {
     "data": {
      "text/plain": [
       "SVR(C=100, degree=2, kernel='poly')"
      ]
     },
     "execution_count": 52,
     "metadata": {},
     "output_type": "execute_result"
    }
   ],
   "source": [
    "from sklearn.svm import SVR\n",
    "\n",
    "svm_poly_reg = SVR(kernel=\"poly\", degree=2, C=100, epsilon=0.1, gamma=\"scale\")\n",
    "svm_poly_reg.fit(X, y)"
   ]
  },
  {
   "cell_type": "code",
   "execution_count": 53,
   "metadata": {
    "colab": {
     "base_uri": "https://localhost:8080/",
     "height": 51
    },
    "colab_type": "code",
    "id": "gxCexml9akT-",
    "outputId": "ec7bfc4a-e943-44c9-c96d-88995eccbc56"
   },
   "outputs": [
    {
     "data": {
      "text/plain": [
       "SVR(C=0.01, degree=2, kernel='poly')"
      ]
     },
     "execution_count": 53,
     "metadata": {},
     "output_type": "execute_result"
    }
   ],
   "source": [
    "from sklearn.svm import SVR\n",
    "\n",
    "svm_poly_reg1 = SVR(kernel=\"poly\", degree=2, C=100, epsilon=0.1, gamma=\"scale\")\n",
    "svm_poly_reg2 = SVR(kernel=\"poly\", degree=2, C=0.01, epsilon=0.1, gamma=\"scale\")\n",
    "svm_poly_reg1.fit(X, y)\n",
    "svm_poly_reg2.fit(X, y)"
   ]
  },
  {
   "cell_type": "code",
   "execution_count": 54,
   "metadata": {
    "colab": {
     "base_uri": "https://localhost:8080/",
     "height": 334
    },
    "colab_type": "code",
    "id": "i-1604m1akUB",
    "outputId": "cfc7414c-af1a-46a1-ca1a-7f16e21b846a"
   },
   "outputs": [
    {
     "name": "stdout",
     "output_type": "stream",
     "text": [
      "Saving figure svm_with_polynomial_kernel_plot\n"
     ]
    },
    {
     "data": {
      "image/png": "[encoded data removed]",
      "text/plain": [
       "<Figure size 648x288 with 2 Axes>"
      ]
     },
     "metadata": {
      "needs_background": "light"
     },
     "output_type": "display_data"
    }
   ],
   "source": [
    "fig, axes = plt.subplots(ncols=2, figsize=(9, 4), sharey=True)\n",
    "plt.sca(axes[0])\n",
    "plot_svm_regression(svm_poly_reg1, X, y, [-1, 1, 0, 1])\n",
    "plt.title(r\"$degree={}, C={}, \\epsilon = {}$\".format(svm_poly_reg1.degree, svm_poly_reg1.C, svm_poly_reg1.epsilon), fontsize=18)\n",
    "plt.ylabel(r\"$y$\", fontsize=18, rotation=0)\n",
    "plt.sca(axes[1])\n",
    "plot_svm_regression(svm_poly_reg2, X, y, [-1, 1, 0, 1])\n",
    "plt.title(r\"$degree={}, C={}, \\epsilon = {}$\".format(svm_poly_reg2.degree, svm_poly_reg2.C, svm_poly_reg2.epsilon), fontsize=18)\n",
    "save_fig(\"svm_with_polynomial_kernel_plot\")\n",
    "plt.show()"
   ]
  },
  {
   "cell_type": "code",
   "execution_count": null,
   "metadata": {
    "colab": {},
    "colab_type": "code",
    "id": "c-YHHEJVD40c"
   },
   "outputs": [],
   "source": []
  }
 ],
 "metadata": {
  "colab": {
   "collapsed_sections": [
    "c-6Oll67oFdp",
    "DI19glDjpa9V",
    "_jQivk-3gNQ3",
    "fKOdqWFuaEDV",
    "5EsqrIHLavnQ",
    "l9X1SSoaOm5W"
   ],
   "name": "Session_5_Classical_Data_Analysis_SVM.ipynb",
   "provenance": []
  },
  "kernelspec": {
   "display_name": "Python 3 (ipykernel)",
   "language": "python",
   "name": "python3"
  },
  "language_info": {
   "codemirror_mode": {
    "name": "ipython",
    "version": 3
   },
   "file_extension": ".py",
   "mimetype": "text/x-python",
   "name": "python",
   "nbconvert_exporter": "python",
   "pygments_lexer": "ipython3",
   "version": "3.9.0"
  }
 },
 "nbformat": 4,
 "nbformat_minor": 4
}
